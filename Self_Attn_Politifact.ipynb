{
  "nbformat": 4,
  "nbformat_minor": 0,
  "metadata": {
    "colab": {
      "name": "Self_Attn_Politifact.ipynb",
      "version": "0.3.2",
      "provenance": [],
      "collapsed_sections": [],
      "machine_shape": "hm"
    },
    "kernelspec": {
      "name": "python3",
      "display_name": "Python 3"
    },
    "accelerator": "GPU"
  },
  "cells": [
    {
      "cell_type": "markdown",
      "metadata": {
        "id": "gv50EWWHrPzg",
        "colab_type": "text"
      },
      "source": [
        "#Hybrid Model on PolitiFact Dataset"
      ]
    },
    {
      "cell_type": "markdown",
      "metadata": {
        "id": "cOgQQ0mWrWfJ",
        "colab_type": "text"
      },
      "source": [
        "The Hybrid model is created as a combination of the DeClarE model (Popat et al.,2018) and Self-Attentive Sentence Embedding model (Lin et al.,2017). This model uses the overall structure of DeClarE but replaces its attention mechanism with the Self-attention created in the second paper. The code for the Self-Attention model can be found at: https://github.com/kaushalshetty/Structured-Self-Attention/blob/master . This code have been used as the base for the Hybrid model. Before running the code in Google Colab, please upload the config.json and model_params.json file which is provided as a part of the project code zip file. Both of these file contain the hyper-parameters of the model and were originally created by the developer of this code base."
      ]
    },
    {
      "cell_type": "markdown",
      "metadata": {
        "id": "ZTf9j0cnrGsF",
        "colab_type": "text"
      },
      "source": [
        "## Import Statements and Data load"
      ]
    },
    {
      "cell_type": "code",
      "metadata": {
        "id": "L7ZE1b3gn8dD",
        "colab_type": "code",
        "outputId": "4c5812bd-7555-4550-a066-9cab1c3fa7ba",
        "colab": {
          "base_uri": "https://localhost:8080/",
          "height": 35
        }
      },
      "source": [
        "# Most of the code taken from https://github.com/kaushalshetty/Structured-Self-Attention/blob/master\n",
        "# All imports\n",
        "import json\n",
        "import pandas as pd\n",
        "import numpy as np\n",
        "from numpy import array\n",
        "from numpy import asarray\n",
        "from numpy import zeros\n",
        "import gzip\n",
        "\n",
        "from sklearn.model_selection import train_test_split\n",
        "from sklearn.metrics import confusion_matrix\n",
        "\n",
        "from sklearn.metrics import classification_report\n",
        "from sklearn.metrics import confusion_matrix\n",
        "from sklearn.metrics import precision_score\n",
        "from sklearn.metrics import recall_score\n",
        "from sklearn.metrics import accuracy_score\n",
        "from sklearn.metrics import fbeta_score\n",
        "from sklearn.metrics import roc_curve, auc\n",
        "\n",
        "from keras.preprocessing.text import Tokenizer\n",
        "from keras.preprocessing.sequence import pad_sequences\n",
        "from keras.utils import plot_model\n",
        "from keras.utils import np_utils\n",
        "\n",
        "from keras.optimizers import SGD, Adam\n",
        "from nltk import word_tokenize\n",
        "import matplotlib.pyplot as plt\n",
        "\n",
        "import torch,keras\n",
        "from torch.autograd import Variable\n",
        "import torch.nn.functional as F\n",
        "import torch.utils.data as data_utils\n",
        "from keras.datasets import imdb\n",
        "\n",
        "import random, os, numpy, scipy\n",
        "from codecs import open\n",
        "import os,sys"
      ],
      "execution_count": 1,
      "outputs": [
        {
          "output_type": "stream",
          "text": [
            "Using TensorFlow backend.\n"
          ],
          "name": "stderr"
        }
      ]
    },
    {
      "cell_type": "code",
      "metadata": {
        "id": "ijDljoHJoMZQ",
        "colab_type": "code",
        "colab": {}
      },
      "source": [
        "# Random seed set to ensure that code provides the same output whenever randomisation is done.\n",
        "seed = 7\n",
        "np.random.seed(seed)"
      ],
      "execution_count": 0,
      "outputs": []
    },
    {
      "cell_type": "code",
      "metadata": {
        "id": "ZIQox57_oPpU",
        "colab_type": "code",
        "outputId": "a94504d1-efdf-4d28-93ef-0cfd5d948da4",
        "colab": {
          "base_uri": "https://localhost:8080/",
          "height": 277
        }
      },
      "source": [
        "# Get the PolitiFact Dataset from the location provided in the DeClarE paper.\n",
        "!wget http://resources.mpi-inf.mpg.de/impact/dl_cred_analysis/PolitiFact.zip\n",
        "!unzip PolitiFact.zip"
      ],
      "execution_count": 3,
      "outputs": [
        {
          "output_type": "stream",
          "text": [
            "--2019-08-31 13:30:49--  http://resources.mpi-inf.mpg.de/impact/dl_cred_analysis/PolitiFact.zip\n",
            "Resolving resources.mpi-inf.mpg.de (resources.mpi-inf.mpg.de)... 139.19.206.46\n",
            "Connecting to resources.mpi-inf.mpg.de (resources.mpi-inf.mpg.de)|139.19.206.46|:80... connected.\n",
            "HTTP request sent, awaiting response... 200 OK\n",
            "Length: 4976217 (4.7M) [application/zip]\n",
            "Saving to: ‘PolitiFact.zip’\n",
            "\n",
            "PolitiFact.zip      100%[===================>]   4.75M  5.46MB/s    in 0.9s    \n",
            "\n",
            "2019-08-31 13:30:50 (5.46 MB/s) - ‘PolitiFact.zip’ saved [4976217/4976217]\n",
            "\n",
            "Archive:  PolitiFact.zip\n",
            "   creating: PolitiFact/\n",
            "  inflating: PolitiFact/README       \n",
            "  inflating: PolitiFact/politifact.tsv  \n"
          ],
          "name": "stdout"
        }
      ]
    },
    {
      "cell_type": "code",
      "metadata": {
        "id": "2nuFU97Xoe_0",
        "colab_type": "code",
        "outputId": "56874d22-eb92-4ff9-8da9-be8d48c8d51d",
        "colab": {
          "base_uri": "https://localhost:8080/",
          "height": 451
        }
      },
      "source": [
        "# Download the Glove.zip file and expand it.\n",
        "!wget http://nlp.stanford.edu/data/glove.6B.zip\n",
        "!unzip glove*.zip"
      ],
      "execution_count": 4,
      "outputs": [
        {
          "output_type": "stream",
          "text": [
            "--2019-08-31 13:30:55--  http://nlp.stanford.edu/data/glove.6B.zip\n",
            "Resolving nlp.stanford.edu (nlp.stanford.edu)... 171.64.67.140\n",
            "Connecting to nlp.stanford.edu (nlp.stanford.edu)|171.64.67.140|:80... connected.\n",
            "HTTP request sent, awaiting response... 302 Found\n",
            "Location: https://nlp.stanford.edu/data/glove.6B.zip [following]\n",
            "--2019-08-31 13:30:55--  https://nlp.stanford.edu/data/glove.6B.zip\n",
            "Connecting to nlp.stanford.edu (nlp.stanford.edu)|171.64.67.140|:443... connected.\n",
            "HTTP request sent, awaiting response... 301 Moved Permanently\n",
            "Location: http://downloads.cs.stanford.edu/nlp/data/glove.6B.zip [following]\n",
            "--2019-08-31 13:30:56--  http://downloads.cs.stanford.edu/nlp/data/glove.6B.zip\n",
            "Resolving downloads.cs.stanford.edu (downloads.cs.stanford.edu)... 171.64.64.22\n",
            "Connecting to downloads.cs.stanford.edu (downloads.cs.stanford.edu)|171.64.64.22|:80... connected.\n",
            "HTTP request sent, awaiting response... 200 OK\n",
            "Length: 862182613 (822M) [application/zip]\n",
            "Saving to: ‘glove.6B.zip’\n",
            "\n",
            "glove.6B.zip        100%[===================>] 822.24M  38.8MB/s    in 22s     \n",
            "\n",
            "2019-08-31 13:31:18 (37.7 MB/s) - ‘glove.6B.zip’ saved [862182613/862182613]\n",
            "\n",
            "Archive:  glove.6B.zip\n",
            "  inflating: glove.6B.50d.txt        \n",
            "  inflating: glove.6B.100d.txt       \n",
            "  inflating: glove.6B.200d.txt       \n",
            "  inflating: glove.6B.300d.txt       \n"
          ],
          "name": "stdout"
        }
      ]
    },
    {
      "cell_type": "markdown",
      "metadata": {
        "id": "jSeDOppErPpt",
        "colab_type": "text"
      },
      "source": [
        "## Data Load functions and other misc functions"
      ]
    },
    {
      "cell_type": "code",
      "metadata": {
        "id": "Xc5TtB7moikm",
        "colab_type": "code",
        "colab": {}
      },
      "source": [
        "# Method to load the PolitiFact into the Datafarme, process it and divide it into traning and test sets.\n",
        "def loadPolitifact():\n",
        "  facts=list()\n",
        "  fact=pd.read_csv('./PolitiFact/politifact.tsv', delimiter = '\\t', names = ['cred_label','claim_id','claim_text','claim_source','article','article_source'])\n",
        "  \n",
        "  # Convert label to binary\n",
        "  claim_label = fact['cred_label']\n",
        "  # The original credibility labels are -{'False', 'Half-True', 'Mostly False', 'Mostly True', 'Pants on Fire!', 'True'}\n",
        "  # Convert the labels to binary values of 0 for false and 1 for true.\n",
        "  claim_label = [1 if tuple == 'True'  or tuple == 'Half-True' or tuple == 'Mostly True' else 0 for tuple in claim_label]\n",
        "  \n",
        "  # Get Train and test sets\n",
        "  input_train,input_test,label_train,label_test = train_test_split(fact, claim_label, test_size=0.2, random_state=8)\n",
        "  # Convert the traning and test data as lists and return.\n",
        "  train_list= list()\n",
        "  train_list.append(input_train)\n",
        "  train_list.append(label_train)\n",
        "  \n",
        "  test_list = list()\n",
        "  test_list.append(input_test)\n",
        "  test_list.append(label_test)\n",
        "  return train_list, test_list"
      ],
      "execution_count": 0,
      "outputs": []
    },
    {
      "cell_type": "code",
      "metadata": {
        "id": "McZ9Q2gPpPFw",
        "colab_type": "code",
        "colab": {}
      },
      "source": [
        "# Get Politifact dataset. This method calls the previous method\n",
        "def load_data_set(type,max_len,vocab_size,batch_size):\n",
        "    \"\"\"\n",
        "        Loads the dataset.\n",
        " \n",
        "        Args:\n",
        "            type   : {bool} 0 for binary classification returns imdb dataset. 1 for multiclass classfication return reuters set\n",
        "            max_len: {int} timesteps used for padding\n",
        "\t\t\tvocab_size: {int} size of the vocabulary\n",
        "\t\t\tbatch_size: batch_size\n",
        "      \n",
        "        \"\"\"\n",
        "    NUM_WORDS=vocab_size\n",
        "    # Get the PolitiFact dataframe \n",
        "    train_set,test_set = loadPolitifact()\n",
        "    x_train,y_train = train_set[0],train_set[1]\n",
        "    x_test,y_test = test_set[0],test_set[1]\n",
        "\n",
        "    # Code to check how many unique claims are present in the test set.\n",
        "    # Code found here: https://stackoverflow.com/questions/23460345/selecting-unique-rows-between-two-dataframes-in-pandas\n",
        "    unique_test = x_test[~x_test['claim_text'].isin(x_train['claim_text'])]\n",
        "    uniq_set = set(unique_test['claim_text'].tolist())\n",
        "    print(\"There are %d total unique rows in the test set and %d unique claims\" % (len(unique_test),len(uniq_set)))\n",
        "    # Get the required columns as lists for both traning and test data\n",
        "    art_list = x_train['article'].tolist()\n",
        "    clm_list = x_train['claim_text'].tolist()\n",
        "    clm_src_list = x_train['claim_source'].tolist()\n",
        "    art_src_list = x_train['article_source'].tolist()\n",
        "    \n",
        "    test_art_list = x_test['article'].tolist()\n",
        "    test_clm_list = x_test['claim_text'].tolist()\n",
        "    test_clm_src_list = x_test['claim_source'].tolist()\n",
        "    test_art_src_list = x_test['article_source'].tolist()\n",
        "\n",
        "    # Text to Sequence conversion\n",
        "    t = Tokenizer()\n",
        "    t.fit_on_texts(clm_list+art_list+clm_src_list+art_src_list)\n",
        "    t.num_words=NUM_WORDS\n",
        "    encoded_claim = t.texts_to_sequences(clm_list) # claim\n",
        "    encoded_art = t.texts_to_sequences(art_list) # article\n",
        "    encoded_claim_src = t.texts_to_sequences(clm_src_list) # claim source\n",
        "    encoded_art_src = t.texts_to_sequences(art_src_list) # article source\n",
        "    \n",
        "    encoded_claim_test = t.texts_to_sequences(test_clm_list)\n",
        "    encoded_art_test = t.texts_to_sequences(test_art_list)\n",
        "    encoded_claim_src_test = t.texts_to_sequences(test_clm_src_list)\n",
        "    encoded_art_src_test = t.texts_to_sequences(test_art_src_list)\n",
        "    \n",
        "    word_to_id = t.word_index\n",
        "\n",
        "    # Add a padding of 150 to article and 50 to claim. Padding of 8 given to article source.\n",
        "    # This is done for the training data.\n",
        "    x_train_pad_cl = pad_sequences(encoded_claim, maxlen=50, padding='post') # claim padding\n",
        "    x_train_pad = pad_sequences(encoded_art, maxlen=max_len, padding='post') # article padding\n",
        "    x_train_pad_cls = pad_sequences(encoded_claim_src, maxlen=4, padding='post') # claim source padding\n",
        "    x_train_pad_s = pad_sequences(encoded_art_src, maxlen=4, padding='post') # article source padding\n",
        "    \n",
        "    # Test padding\n",
        "    x_test_pad_cl = pad_sequences(encoded_claim_test, maxlen=50, padding='post')\n",
        "    x_test_pad = pad_sequences(encoded_art_test, maxlen=max_len, padding='post')\n",
        "    x_test_pad_cls= pad_sequences(encoded_claim_src_test, maxlen=4, padding='post')\n",
        "    x_test_pad_s = pad_sequences(encoded_art_src_test, maxlen=4, padding='post')\n",
        "    # Covert training data to a Numpy array\n",
        "    x_train_pad_np_cl = np.array(x_train_pad_cl, dtype=np.float32) # claim numpy\n",
        "    x_train_pad_np = np.array(x_train_pad, dtype=np.float32) # article numpy\n",
        "    x_train_pad_np_cls = np.array(x_train_pad_cls, dtype=np.float32) # claim source numpy\n",
        "    x_train_pad_np_s = np.array(x_train_pad_s, dtype=np.float32) # article source numpy\n",
        "    \n",
        "    # Test data numpy\n",
        "    x_test_pad_np_cl = np.array(x_test_pad_cl, dtype=np.float32)\n",
        "    x_test_pad_np = np.array(x_test_pad, dtype=np.float32)\n",
        "    x_test_pad_np_cls = np.array(x_test_pad_cls, dtype=np.float32)\n",
        "    x_test_pad_np_s = np.array(x_test_pad_s, dtype=np.float32)\n",
        "    \n",
        "    y_train_np = np.array(y_train, dtype=np.float32)\n",
        "    y_test_np = np.array(y_test, dtype=np.float32)\n",
        "    # Convert the training data to a Tensor Variable to be used by the Hybrid model.\n",
        "    train_data = data_utils.TensorDataset(torch.from_numpy(x_train_pad_np_cl).type(torch.LongTensor),\n",
        "                                          torch.from_numpy(x_train_pad_np).type(torch.LongTensor),\n",
        "                                          torch.from_numpy(x_train_pad_np_cls).type(torch.LongTensor),\n",
        "                                          torch.from_numpy(x_train_pad_np_s).type(torch.LongTensor),\n",
        "                                          torch.from_numpy(y_train_np).type(torch.DoubleTensor))\n",
        "    train_loader = data_utils.DataLoader(train_data,batch_size=batch_size,drop_last=True)\n",
        "    return train_loader, x_test_pad_np_cl, x_test_pad_np,x_test_pad_np_cls, x_test_pad_np_s, y_test_np, word_to_id, x_test, x_train"
      ],
      "execution_count": 0,
      "outputs": []
    },
    {
      "cell_type": "code",
      "metadata": {
        "id": "mJ8fHDT2piV3",
        "colab_type": "code",
        "colab": {}
      },
      "source": [
        "# Get the embedding matrix using Glove. \n",
        "vocab,word2idx = None,{}\n",
        "\n",
        "def load_glove_embeddings(path, word2idx, embedding_dim):\n",
        "    \"\"\"Loading the glove embeddings\"\"\"\n",
        "    vocab_size = len(word2idx) + 1\n",
        "    with open(path) as f:\n",
        "        embeddings = np.zeros((vocab_size, embedding_dim))\n",
        "        for line in f.readlines():\n",
        "            values = line.split()\n",
        "            word = values[0]\n",
        "            index = word2idx.get(word)\n",
        "            if index:\n",
        "                vector = np.array(values[1:], dtype='float32')\n",
        "                if vector.shape[-1] != embedding_dim:\n",
        "                    raise Exception('Dimension not matching.')\n",
        "                embeddings[index] = vector\n",
        "        return torch.from_numpy(embeddings).float()"
      ],
      "execution_count": 0,
      "outputs": []
    },
    {
      "cell_type": "code",
      "metadata": {
        "id": "Nxpfhq33qJOR",
        "colab_type": "code",
        "outputId": "e9841117-8877-4c15-8672-163102bc2053",
        "colab": {
          "base_uri": "https://localhost:8080/",
          "height": 52
        }
      },
      "source": [
        "# Method to read and store the contents of the uploaded json files.\n",
        "def json_to_dict(json_set):\n",
        "    for k,v in json_set.items():\n",
        "        if v == 'False':\n",
        "            json_set[k] = False\n",
        "        elif v == 'True':\n",
        "            json_set[k] = True\n",
        "        else:\n",
        "            json_set[k] = v\n",
        "    return json_set\n",
        "\n",
        "  \n",
        "with open('config.json', 'r') as f:\n",
        "    params_set = json.load(f)\n",
        "\n",
        "with open('model_params.json', 'r') as f:\n",
        "    model_params = json.load(f)\n",
        "\n",
        "params_set = json_to_dict(params_set)\n",
        "model_params = json_to_dict(model_params)\n",
        " \n",
        "print(\"Using settings:\",params_set)\n",
        "print(\"Using model settings\",model_params)"
      ],
      "execution_count": 8,
      "outputs": [
        {
          "output_type": "stream",
          "text": [
            "Using settings: {'epochs': 2, 'use_regularization': True, 'C': 0.03, 'clip': True, 'use_embeddings': True, 'attention_hops': 10}\n",
            "Using model settings {'batch_size': 512, 'vocab_size': 20000, 'timesteps': 100, 'lstm_hidden_dimension': 50, 'd_a': 100}\n"
          ],
          "name": "stdout"
        }
      ]
    },
    {
      "cell_type": "code",
      "metadata": {
        "id": "oyvbeDI8qtmV",
        "colab_type": "code",
        "colab": {}
      },
      "source": [
        "#Creates and HTML file which show the attention weights visulaization on the article. This code taken from: https://github.com/kaushalshetty/Structured-Self-Attention/blob/master\n",
        "\n",
        "def createHTML(texts, weights, fileName):\n",
        "    \"\"\"\n",
        "    Creates a html file with text heat.\n",
        "\tweights: attention weights for visualizing\n",
        "\ttexts: text on which attention weights are to be visualized\n",
        "    \"\"\"\n",
        "    fileName = \"visualization/\"+fileName\n",
        "    fOut = open(fileName, \"w\", encoding=\"utf-8\")\n",
        "    part1 = \"\"\"\n",
        "    <html lang=\"en\">\n",
        "    <head>\n",
        "    <meta http-equiv=\"content-type\" content=\"text/html; charset=utf-8\">\n",
        "    <style>\n",
        "    body {\n",
        "    font-family: Sans-Serif;\n",
        "    }\n",
        "    </style>\n",
        "    </head>\n",
        "    <body>\n",
        "    <h3>\n",
        "    Heatmaps\n",
        "    </h3>\n",
        "    </body>\n",
        "    <script>\n",
        "    \"\"\"\n",
        "    part2 = \"\"\"\n",
        "    var color = \"255,0,0\";\n",
        "    var ngram_length = 3;\n",
        "    var half_ngram = 1;\n",
        "    for (var k=0; k < any_text.length; k++) {\n",
        "    var tokens = any_text[k].split(\" \");\n",
        "    var intensity = new Array(tokens.length);\n",
        "    var max_intensity = Number.MIN_SAFE_INTEGER;\n",
        "    var min_intensity = Number.MAX_SAFE_INTEGER;\n",
        "    for (var i = 0; i < intensity.length; i++) {\n",
        "    intensity[i] = 0.0;\n",
        "    for (var j = -half_ngram; j < ngram_length-half_ngram; j++) {\n",
        "    if (i+j < intensity.length && i+j > -1) {\n",
        "    intensity[i] += trigram_weights[k][i + j];\n",
        "    }\n",
        "    }\n",
        "    if (i == 0 || i == intensity.length-1) {\n",
        "    intensity[i] /= 2.0;\n",
        "    } else {\n",
        "    intensity[i] /= 3.0;\n",
        "    }\n",
        "    if (intensity[i] > max_intensity) {\n",
        "    max_intensity = intensity[i];\n",
        "    }\n",
        "    if (intensity[i] < min_intensity) {\n",
        "    min_intensity = intensity[i];\n",
        "    }\n",
        "    }\n",
        "    var denominator = max_intensity - min_intensity;\n",
        "    for (var i = 0; i < intensity.length; i++) {\n",
        "    intensity[i] = (intensity[i] - min_intensity) / denominator;\n",
        "    }\n",
        "    if (k%2 == 0) {\n",
        "    var heat_text = \"<p><br><b>Example:</b><br>\";\n",
        "    } else {\n",
        "    var heat_text = \"<b>Example:</b><br>\";\n",
        "    }\n",
        "    var space = \"\";\n",
        "    for (var i = 0; i < tokens.length; i++) {\n",
        "    heat_text += \"<span style='background-color:rgba(\" + color + \",\" + intensity[i] + \")'>\" + space + tokens[i] + \"</span>\";\n",
        "    if (space == \"\") {\n",
        "    space = \" \";\n",
        "    }\n",
        "    }\n",
        "    //heat_text += \"<p>\";\n",
        "    document.body.innerHTML += heat_text;\n",
        "    }\n",
        "    </script>\n",
        "    </html>\"\"\"\n",
        "    putQuote = lambda x: \"\\\"%s\\\"\"%x\n",
        "    textsString = \"var any_text = [%s];\\n\"%(\",\".join(map(putQuote, texts)))\n",
        "    weightsString = \"var trigram_weights = [%s];\\n\"%(\",\".join(map(str,weights)))\n",
        "    fOut.write(part1)\n",
        "    fOut.write(textsString)\n",
        "    fOut.write(weightsString)\n",
        "    fOut.write(part2)\n",
        "    fOut.close()\n",
        "  \n",
        "    return"
      ],
      "execution_count": 0,
      "outputs": []
    },
    {
      "cell_type": "code",
      "metadata": {
        "id": "rudpdy2dq2g0",
        "colab_type": "code",
        "colab": {}
      },
      "source": [
        "# Create a new directory called visualization.\n",
        "!mkdir visualization"
      ],
      "execution_count": 0,
      "outputs": []
    },
    {
      "cell_type": "code",
      "metadata": {
        "id": "GGra6Syipp3w",
        "colab_type": "code",
        "outputId": "ec7445a6-a28a-48f8-841d-c0d8441c976c",
        "colab": {
          "base_uri": "https://localhost:8080/",
          "height": 156
        }
      },
      "source": [
        "# Call the method to load the Snopes dataset and embedding matrix\n",
        "MAXLENGTH = 150\n",
        "train_loader,x_test_pad_cl,x_test_pad,x_test_pad_cls,x_test_pad_s,y_test,word_to_id,x_test_or,x_train_or = load_data_set(0,MAXLENGTH,\n",
        "                                                                                                                         model_params[\"vocab_size\"],\n",
        "                                                                                                                         model_params['batch_size']) #loading snopes dataset  \n",
        "\n",
        "embeddings = load_glove_embeddings(\"glove.6B.50d.txt\",word_to_id,50)"
      ],
      "execution_count": 11,
      "outputs": [
        {
          "output_type": "stream",
          "text": [
            "cred_label                                                Half-True\n",
            "claim_id          2013_feb_12_barack-obama_barack-obama-touts-ad...\n",
            "claim_text        says administration made progress border enfor...\n",
            "claim_source                                           barack obama\n",
            "article           obama said the overhaul measure should cut wai...\n",
            "article_source                                              bna.com\n",
            "Name: 21584, dtype: object\n",
            "There are 159 total unique rows in the test set and 138 unique claims\n"
          ],
          "name": "stdout"
        }
      ]
    },
    {
      "cell_type": "markdown",
      "metadata": {
        "id": "77rDYtM2qbmW",
        "colab_type": "text"
      },
      "source": [
        "## Structured Self Attention Model Full"
      ]
    },
    {
      "cell_type": "code",
      "metadata": {
        "id": "25yAkbH-qTrx",
        "colab_type": "code",
        "colab": {}
      },
      "source": [
        "# Structured Self Attention class. This class reprsents the Hybrid model. Most of this clas is taken from: https://github.com/kaushalshetty/Structured-Self-Attention/blob/master\n",
        " \n",
        "class StructuredSelfAttention(torch.nn.Module):\n",
        "    \"\"\"\n",
        "    The class is an implementation of the paper A Structured Self-Attentive Sentence Embedding including regularization\n",
        "    and without pruning. Slight modifications have been done for speedup\n",
        "    \"\"\"\n",
        "    def __init__(self,batch_size,lstm_hid_dim,d_a,r,max_len,emb_dim=100,vocab_size=None,use_pretrained_embeddings = False,embeddings=None,type= 0,n_classes = 1):\n",
        "        \"\"\"\n",
        "        Initializes parameters suggested in paper\n",
        " \n",
        "        Args:\n",
        "            batch_size  : {int} batch_size used for training\n",
        "            lstm_hid_dim: {int} hidden dimension for lstm\n",
        "            d_a         : {int} hidden dimension for the dense layer\n",
        "            r           : {int} attention-hops or attention heads\n",
        "            max_len     : {int} number of lstm timesteps\n",
        "            emb_dim     : {int} embeddings dimension\n",
        "            vocab_size  : {int} size of the vocabulary\n",
        "            use_pretrained_embeddings: {bool} use or train your own embeddings\n",
        "            embeddings  : {torch.FloatTensor} loaded pretrained embeddings\n",
        "            type        : [0,1] 0-->binary_classification 1-->multiclass classification\n",
        "            n_classes   : {int} number of classes\n",
        " \n",
        "        Returns:\n",
        "            self\n",
        " \n",
        "        Raises:\n",
        "            Exception\n",
        "        \"\"\"\n",
        "        super(StructuredSelfAttention,self).__init__()\n",
        "         # Model layers initialization\n",
        "        self.embeddings,emb_dim = self._load_embeddings(use_pretrained_embeddings,embeddings,vocab_size,emb_dim)\n",
        "        self.lstm = torch.nn.LSTM(emb_dim,lstm_hid_dim,1,batch_first=True)\n",
        "        self.linear_first = torch.nn.Linear(lstm_hid_dim,d_a)\n",
        "        self.linear_first.bias.data.fill_(0)\n",
        "        self.linear_second = torch.nn.Linear(d_a,r)\n",
        "        self.linear_second.bias.data.fill_(0)\n",
        "        self.n_classes = n_classes\n",
        "        \n",
        "        self.embeddings2,emb_dim = self._load_embeddings(use_pretrained_embeddings,embeddings,vocab_size,emb_dim)\n",
        "        self.lstm2 = torch.nn.LSTM(emb_dim,lstm_hid_dim,1,batch_first=True)\n",
        "        self.linear_first2 = torch.nn.Linear(lstm_hid_dim,d_a)\n",
        "        self.linear_first2.bias.data.fill_(0)\n",
        "        self.linear_second2 = torch.nn.Linear(d_a,r)\n",
        "        self.linear_second2.bias.data.fill_(0)\n",
        "        \n",
        "        self.embeddings3,emb_dim = self._load_embeddings(use_pretrained_embeddings,embeddings,vocab_size,emb_dim)\n",
        "        self.embeddings4,emb_dim = self._load_embeddings(use_pretrained_embeddings,embeddings,vocab_size,emb_dim)\n",
        "        \n",
        "        self.linear_penul = torch.nn.Linear(3*lstm_hid_dim,8)\n",
        "        self.linear_final = torch.nn.Linear(8,self.n_classes)\n",
        "        self.batch_size = batch_size       \n",
        "        self.max_len = max_len\n",
        "        self.lstm_hid_dim = lstm_hid_dim\n",
        "        self.hidden_state = self.init_hidden()\n",
        "        self.r = r\n",
        "        self.type = type\n",
        "                 \n",
        "    def _load_embeddings(self,use_pretrained_embeddings,embeddings,vocab_size,emb_dim):\n",
        "        \"\"\"Load the embeddings based on flag\"\"\"\n",
        "        if use_pretrained_embeddings is True and embeddings is None:\n",
        "            raise Exception(\"Send a pretrained word embedding as an argument\")\n",
        "        \n",
        "        if not use_pretrained_embeddings and vocab_size is None:\n",
        "            raise Exception(\"Vocab size cannot be empty\")\n",
        "\n",
        "        if not use_pretrained_embeddings:\n",
        "            word_embeddings = torch.nn.Embedding(vocab_size,emb_dim,padding_idx=0)\n",
        "            \n",
        "        elif use_pretrained_embeddings:\n",
        "            word_embeddings = torch.nn.Embedding(embeddings.size(0), embeddings.size(1))\n",
        "            word_embeddings.weight = torch.nn.Parameter(embeddings)\n",
        "            emb_dim = embeddings.size(1)\n",
        "            \n",
        "        return word_embeddings,emb_dim\n",
        "       \n",
        "        \n",
        "    def softmax(self,input, axis=1):\n",
        "        \"\"\"\n",
        "        Softmax applied to axis=n\n",
        " \n",
        "        Args:\n",
        "           input: {Tensor,Variable} input on which softmax is to be applied\n",
        "           axis : {int} axis on which softmax is to be applied\n",
        " \n",
        "        Returns:\n",
        "            softmaxed tensors\n",
        " \n",
        "       \n",
        "        \"\"\"\n",
        "        input_size = input.size()\n",
        "        trans_input = input.transpose(axis, len(input_size)-1)\n",
        "        trans_size = trans_input.size()\n",
        "        input_2d = trans_input.contiguous().view(-1, trans_size[-1])\n",
        "        soft_max_2d = F.softmax(input_2d)\n",
        "        soft_max_nd = soft_max_2d.view(*trans_size)\n",
        "        return soft_max_nd.transpose(axis, len(input_size)-1)\n",
        "       \n",
        "        \n",
        "    def init_hidden(self):\n",
        "        return (Variable(torch.zeros(1,self.batch_size,self.lstm_hid_dim)),Variable(torch.zeros(1,self.batch_size,self.lstm_hid_dim)))\n",
        "       \n",
        "        \n",
        "    def forward(self,x,y,xs,ys):\n",
        "        embeddings = self.embeddings(x) # claim embedding\n",
        "        embeddings_part_y = self.embeddings(y[:,:100]) # article embedding taking the first 100\n",
        "        main_embedding  = torch.cat((embeddings, embeddings_part_y), 1) # concatination of the two\n",
        "        # Bi-LSTM layer\n",
        "        outputs, self.hidden_state = self.lstm(main_embedding.view(self.batch_size,self.max_len,-1),self.hidden_state)\n",
        "        # Self-Attention mechanism \n",
        "        x = torch.tanh(self.linear_first(outputs))       \n",
        "        x = self.linear_second(x)       \n",
        "        x = self.softmax(x,1)       \n",
        "        attention = x.transpose(1,2)  \n",
        "        sentence_embeddings = attention@outputs\n",
        "        # Same processed followed for article only input\n",
        "        embeddings2 = self.embeddings2(y)    \n",
        "        outputs2, self.hidden_state2 = self.lstm2(embeddings2.view(self.batch_size,self.max_len,-1),self.hidden_state)       \n",
        "        x2 = torch.tanh(self.linear_first2(outputs2))       \n",
        "        x2 = self.linear_second2(x2)       \n",
        "        x2 = self.softmax(x2,1)       \n",
        "        attention2 = x2.transpose(1,2)       \n",
        "        sentence_embeddings2 = attention2@outputs2\n",
        "        # Element-wise multiplication of the two outputs\n",
        "        ele_mul = sentence_embeddings * sentence_embeddings2\n",
        "        # Average of the output\n",
        "        avg_sentence_embeddings = torch.sum(ele_mul,1)/self.r\n",
        "        # Claim and article source embedding. \n",
        "        embeddings3 = self.embeddings3(xs)\n",
        "        embeddings4 = self.embeddings4(ys) \n",
        "        # Average of these embeddings\n",
        "        avg_csource_embeddings = torch.sum(embeddings3,1)/self.r\n",
        "        avg_asource_embeddings = torch.sum(embeddings4,1)/self.r\n",
        "        # Combine with the average of the Sef-attention outputs.\n",
        "        comb_avg = torch.cat((avg_sentence_embeddings, avg_csource_embeddings, avg_asource_embeddings), 1)\n",
        "        \n",
        "        dense1 = self.linear_penul(comb_avg) \n",
        "        #output = torch.sigmoid(self.linear_final(avg_sentence_embeddings))\n",
        "        output = torch.sigmoid(self.linear_final(dense1))\n",
        "        return output,attention2\n",
        "        \n",
        "    #Regularization\n",
        "    def l2_matrix_norm(self,m):\n",
        "        \"\"\"\n",
        "        Frobenius norm calculation\n",
        " \n",
        "        Args:\n",
        "           m: {Variable} ||AAT - I||\n",
        " \n",
        "        Returns:\n",
        "            regularized value\n",
        " \n",
        "       \n",
        "        \"\"\"\n",
        "        return torch.sum(torch.sum(torch.sum(m**2,1),1)**0.5).type(torch.DoubleTensor)"
      ],
      "execution_count": 0,
      "outputs": []
    },
    {
      "cell_type": "code",
      "metadata": {
        "id": "nkoAg4Pnqib4",
        "colab_type": "code",
        "colab": {}
      },
      "source": [
        "# Training function that applies the penalization. Most of this code is taken from: https://github.com/kaushalshetty/Structured-Self-Attention/blob/master\n",
        " \n",
        "def train(attention_model,train_loader,criterion,optimizer,epochs = 5,use_regularization = False,C=0,clip=False):\n",
        "    \"\"\"\n",
        "        Training code\n",
        " \n",
        "        Args:\n",
        "            attention_model : {object} model\n",
        "            train_loader    : {DataLoader} training data loaded into a dataloader\n",
        "            optimizer       :  optimizer\n",
        "            criterion       :  loss function. Must be BCELoss for binary_classification and NLLLoss for multiclass\n",
        "            epochs          : {int} number of epochs\n",
        "            use_regularizer : {bool} use penalization or not\n",
        "            C               : {int} penalization coeff\n",
        "            clip            : {bool} use gradient clipping or not\n",
        "       \n",
        "        Returns:\n",
        "            accuracy and losses of the model\n",
        "      \n",
        "        \"\"\"\n",
        "    losses = []\n",
        "    accuracy = []\n",
        "    for i in range(epochs):\n",
        "        print(\"Running EPOCH\",i+1)\n",
        "        total_loss = 0\n",
        "        n_batches = 0\n",
        "        correct = 0\n",
        "        \n",
        "        for batch_idx,train in enumerate(train_loader):\n",
        "            attention_model.hidden_state = attention_model.init_hidden()\n",
        "            x,x2,xs,x2s,y = Variable(train[0]),Variable(train[1]),Variable(train[2]),Variable(train[3]),Variable(train[4])\n",
        "            y_pred,att = attention_model(x,x2,xs,x2s)\n",
        "            \n",
        "            #penalization AAT - I\n",
        "            if use_regularization:\n",
        "                attT = att.transpose(1,2)\n",
        "                identity = torch.eye(att.size(1))\n",
        "                identity = Variable(identity.unsqueeze(0).expand(train_loader.batch_size,att.size(1),att.size(1)))\n",
        "                penal = attention_model.l2_matrix_norm(att@attT - identity)\n",
        "            \n",
        "            if not bool(attention_model.type) :\n",
        "                #binary classification\n",
        "                #Adding a very small value to prevent BCELoss from outputting NaN's\n",
        "                correct+=torch.eq(torch.round(y_pred.type(torch.DoubleTensor).squeeze(1)),y).data.sum()\n",
        "                if use_regularization:\n",
        "                    try:\n",
        "                        loss = criterion(y_pred.type(torch.DoubleTensor).squeeze(1)+1e-8,y) + C * penal/train_loader.batch_size\n",
        "                        \n",
        "                    except RuntimeError:\n",
        "                        raise Exception(\"BCELoss gets nan values on regularization. Either remove regularization or add very small values\")\n",
        "                else:\n",
        "                    loss = criterion(y_pred.type(torch.DoubleTensor).squeeze(1),y)\n",
        "\n",
        "            total_loss+=loss.data\n",
        "            optimizer.zero_grad()\n",
        "            loss.backward()\n",
        "            \n",
        "            #gradient clipping\n",
        "            if clip:\n",
        "                torch.nn.utils.clip_grad_norm_(attention_model.parameters(),0.5)\n",
        "            optimizer.step()\n",
        "            n_batches+=1\n",
        "        \n",
        "        print(\"avg_loss is\",total_loss/n_batches)\n",
        "        corr_nump = correct.data.cpu().numpy().astype(int)\n",
        "        acc = corr_nump/float(n_batches*train_loader.batch_size)\n",
        "        print(\"Accuracy of the model\",acc)\n",
        "        losses.append(total_loss/n_batches)\n",
        "        accuracy.append(acc)\n",
        "    return losses,accuracy\n",
        "\n",
        "# Evaluate the test result and return the accuracy and the predicted values\n",
        "def evaluate(attention_model,x_test_cl,x_test,x_test_cls,x_test_s,y_test):\n",
        "    \n",
        "    attention_model.batch_size = x_test.shape[0]\n",
        "    attention_model.hidden_state = attention_model.init_hidden()\n",
        "    \n",
        "    x_test_var = Variable(torch.from_numpy(x_test).type(torch.LongTensor)) # article var\n",
        "    x_test_var_cl = Variable(torch.from_numpy(x_test_cl).type(torch.LongTensor)) # claim var\n",
        "    x_test_var_s = Variable(torch.from_numpy(x_test_s).type(torch.LongTensor)) # article source var\n",
        "    x_test_var_cls = Variable(torch.from_numpy(x_test_cls).type(torch.LongTensor)) # claim source var\n",
        "    y_test_pred,_ = attention_model(x_test_var_cl,x_test_var,x_test_var_cls,x_test_var_s)\n",
        "\n",
        "    y_preds = torch.round(y_test_pred.type(torch.DoubleTensor).squeeze(1))\n",
        "    y_test_var = Variable(torch.from_numpy(y_test).type(torch.DoubleTensor))\n",
        "    sum = torch.eq(y_preds,y_test_var).data.sum()\n",
        "    total = x_test_var.size(0)\n",
        "    acc = sum.data.cpu().numpy().astype(int)/float(total)\n",
        "    return acc, y_preds\n",
        "\n",
        "def get_activation_wts(attention_model,x,y,xs,ys):\n",
        "    \"\"\"\n",
        "        Get r attention heads\n",
        " \n",
        "        Args:\n",
        "            attention_model : {object} model\n",
        "            x               : {torch.Variable} input whose weights we want (claim)\n",
        "            y               : {torch.Variable} the second input (article)\n",
        "       \n",
        "        Returns:\n",
        "            r different attention weights\n",
        " \n",
        "      \n",
        "    \"\"\"\n",
        "    attention_model.batch_size = x.size(0)\n",
        "    attention_model.hidden_state = attention_model.init_hidden()\n",
        "    _,wts = attention_model(x,y,xs,ys)\n",
        "    return wts"
      ],
      "execution_count": 0,
      "outputs": []
    },
    {
      "cell_type": "markdown",
      "metadata": {
        "id": "Alp7tm7wq9C-",
        "colab_type": "text"
      },
      "source": [
        "### Model Execution"
      ]
    },
    {
      "cell_type": "code",
      "metadata": {
        "id": "UrlmuBXVqnIZ",
        "colab_type": "code",
        "colab": {}
      },
      "source": [
        "#Method to process the article and the attention weights then create the HTML file.\n",
        "def visualize_attention(wts,x_test_pad,word_to_id,filename):\n",
        "    wts_add = torch.sum(wts,1)\n",
        "    wts_add_np = wts_add.data.numpy()\n",
        "    wts_add_list = wts_add_np.tolist()\n",
        "    id_to_word = {v:k for k,v in word_to_id.items()}\n",
        "    text= []\n",
        "    for test in x_test_pad:\n",
        "        line=list()\n",
        "        for i in test:\n",
        "          if i == 0.0:\n",
        "            word = '<UNK>'\n",
        "          else:\n",
        "            word = id_to_word.get(i)\n",
        "          line.append(word)\n",
        "        text.append(\" \".join(line))\n",
        "\n",
        "    createHTML(text, wts_add_list, filename)\n",
        "    print(\"Attention visualization created for {} samples\".format(len(x_test_pad)))\n",
        "    return\n",
        "\n",
        "# Method to perform the classification using Binary Cross Entropy Loss and RMSProp optimizer\n",
        "def binary_classfication(attention_model,train_loader,epochs=5,use_regularization=True,C=1.0,clip=True):\n",
        "    loss = torch.nn.BCELoss()\n",
        "    optimizer = torch.optim.RMSprop(attention_model.parameters())\n",
        "    loss,accuracy=train(attention_model,train_loader,loss,optimizer,epochs,use_regularization,C,clip)\n",
        "    return loss, accuracy"
      ],
      "execution_count": 0,
      "outputs": []
    },
    {
      "cell_type": "code",
      "metadata": {
        "id": "3fxxDaonrBcW",
        "colab_type": "code",
        "outputId": "7758218c-cbf1-47ef-ce63-cc89ad05cc00",
        "colab": {
          "base_uri": "https://localhost:8080/",
          "height": 211
        }
      },
      "source": [
        "# Model execution\n",
        "attention_model = StructuredSelfAttention(batch_size=train_loader.batch_size,lstm_hid_dim=model_params['lstm_hidden_dimension'],\n",
        "                                          d_a = model_params[\"d_a\"],r=params_set[\"attention_hops\"],vocab_size=len(word_to_id),\n",
        "                                          max_len=MAXLENGTH,type=0,n_classes=1,use_pretrained_embeddings=True,embeddings=embeddings)\n",
        "\n",
        "loss, acc = binary_classfication(attention_model,train_loader=train_loader,epochs=3,use_regularization=True,\n",
        "                                 C=params_set[\"C\"],clip=params_set[\"clip\"])"
      ],
      "execution_count": 31,
      "outputs": [
        {
          "output_type": "stream",
          "text": [
            "Running EPOCH 1\n"
          ],
          "name": "stdout"
        },
        {
          "output_type": "stream",
          "text": [
            "/usr/local/lib/python3.6/dist-packages/ipykernel_launcher.py:96: UserWarning: Implicit dimension choice for softmax has been deprecated. Change the call to include dim=X as an argument.\n"
          ],
          "name": "stderr"
        },
        {
          "output_type": "stream",
          "text": [
            "avg_loss is tensor(0.5083, dtype=torch.float64)\n",
            "Accuracy of the model 0.7963654891304348\n",
            "Running EPOCH 2\n",
            "avg_loss is tensor(0.1450, dtype=torch.float64)\n",
            "Accuracy of the model 0.9787703804347826\n",
            "Running EPOCH 3\n",
            "avg_loss is tensor(0.0790, dtype=torch.float64)\n",
            "Accuracy of the model 0.9922724184782609\n"
          ],
          "name": "stdout"
        }
      ]
    },
    {
      "cell_type": "code",
      "metadata": {
        "id": "FXfZWZbArhhD",
        "colab_type": "code",
        "outputId": "9af3114f-5df6-4e49-f976-75308f37c329",
        "colab": {
          "base_uri": "https://localhost:8080/",
          "height": 72
        }
      },
      "source": [
        "# Accuracy of the test data\n",
        "acc, pred = evaluate(attention_model, x_test_pad_cl, x_test_pad, x_test_pad_cls, x_test_pad_s, y_test)\n",
        "print(acc)"
      ],
      "execution_count": 32,
      "outputs": [
        {
          "output_type": "stream",
          "text": [
            "/usr/local/lib/python3.6/dist-packages/ipykernel_launcher.py:96: UserWarning: Implicit dimension choice for softmax has been deprecated. Change the call to include dim=X as an argument.\n"
          ],
          "name": "stderr"
        },
        {
          "output_type": "stream",
          "text": [
            "0.9753044654939107\n"
          ],
          "name": "stdout"
        }
      ]
    },
    {
      "cell_type": "markdown",
      "metadata": {
        "id": "S6voYfvYrqNT",
        "colab_type": "text"
      },
      "source": [
        "### Metric evaluation methods"
      ]
    },
    {
      "cell_type": "code",
      "metadata": {
        "id": "F-GVkUJBrlqo",
        "colab_type": "code",
        "colab": {}
      },
      "source": [
        "# Method to plot the confusion matrix. Code taken from https://scikit-learn.org/stable/auto_examples/model_selection/plot_confusion_matrix.html\n",
        "def plot_confusion_matrix(y_true, y_pred, classes,\n",
        "                          normalize=False,\n",
        "                          title=None,\n",
        "                          cmap=plt.cm.Greens):\n",
        "    \"\"\"\n",
        "    This function prints and plots the confusion matrix.\n",
        "    Normalization can be applied by setting `normalize=True`.\n",
        "    \"\"\"\n",
        "    if not title:\n",
        "        if normalize:\n",
        "            title = 'Normalized confusion matrix'\n",
        "        else:\n",
        "            title = 'Confusion matrix, without normalization'\n",
        "\n",
        "    # Compute confusion matrix\n",
        "    cm = confusion_matrix(y_true, y_pred)\n",
        "    if normalize:\n",
        "        cm = cm.astype('float') / cm.sum(axis=1)[:, np.newaxis]\n",
        "        print(\"Normalized confusion matrix\")\n",
        "    else:\n",
        "        print('Confusion matrix, without normalization')\n",
        "\n",
        "    print(cm)\n",
        "\n",
        "    fig, ax = plt.subplots()\n",
        "    im = ax.imshow(cm, interpolation='nearest', cmap=cmap)\n",
        "    ax.figure.colorbar(im, ax=ax)\n",
        "    # We want to show all ticks...\n",
        "    ax.set(xticks=np.arange(cm.shape[1]),\n",
        "           yticks=np.arange(cm.shape[0]),\n",
        "           # ... and label them with the respective list entries\n",
        "           xticklabels=['False','True'], yticklabels=['False','True'],\n",
        "           title=title,\n",
        "           ylabel='True label',\n",
        "           xlabel='Predicted label')\n",
        "\n",
        "    # Rotate the tick labels and set their alignment.\n",
        "    plt.setp(ax.get_xticklabels(), rotation=45, ha=\"right\",\n",
        "             rotation_mode=\"anchor\")\n",
        "    plt.grid(False)\n",
        "\n",
        "    # Loop over data dimensions and create text annotations.\n",
        "    fmt = '.2f' if normalize else 'd'\n",
        "    thresh = cm.max() / 2.\n",
        "    for i in range(cm.shape[0]):\n",
        "        for j in range(cm.shape[1]):\n",
        "            ax.text(j, i, format(cm[i, j], fmt),\n",
        "                    ha=\"center\", va=\"center\",\n",
        "                    color=\"white\" if cm[i, j] > thresh else \"black\")\n",
        "    fig.tight_layout()\n",
        "    return ax"
      ],
      "execution_count": 0,
      "outputs": []
    },
    {
      "cell_type": "code",
      "metadata": {
        "id": "3lpAO6GUru_F",
        "colab_type": "code",
        "colab": {}
      },
      "source": [
        "# Code taken from Lab5 of TaD by Jeff Dalton. This method returns the accuarcy, precision, recall and F1 measure values for an input.\n",
        "def evaluation_summary(description, predictions, true_labels):\n",
        "  print(\"Evaluation for: \" + description)\n",
        "  precision = precision_score(predictions, true_labels, average='macro')\n",
        "  recall = recall_score(predictions, true_labels, average='macro')\n",
        "  accuracy = accuracy_score(predictions, true_labels)\n",
        "  f1 = fbeta_score(predictions, true_labels, 1, average='macro') #1 means f_1 measure\n",
        "  print(\"Classifier '%s' has Acc=%0.3f P=%0.3f R=%0.3f F1=%0.3f\" % (description,accuracy,precision,recall,f1))\n",
        "  print(classification_report(predictions, true_labels, digits=3))\n",
        "  print('\\nConfusion matrix:\\n',confusion_matrix(true_labels, predictions))\n",
        "  return precision,recall,accuracy,f1 "
      ],
      "execution_count": 0,
      "outputs": []
    },
    {
      "cell_type": "code",
      "metadata": {
        "id": "6YV73roer62a",
        "colab_type": "code",
        "outputId": "8cadcc94-dda6-4b24-c85b-e38ba98e8faa",
        "colab": {
          "base_uri": "https://localhost:8080/",
          "height": 699
        }
      },
      "source": [
        "plot_confusion_matrix(y_test,pred.detach().numpy(),[0,1])\n",
        "plot_confusion_matrix(y_test,pred.detach().numpy(),[0,1], normalize=True)"
      ],
      "execution_count": 33,
      "outputs": [
        {
          "output_type": "stream",
          "text": [
            "Confusion matrix, without normalization\n",
            "[[2845   73]\n",
            " [  73 2921]]\n",
            "Normalized confusion matrix\n",
            "[[0.97498286 0.02501714]\n",
            " [0.0243821  0.9756179 ]]\n"
          ],
          "name": "stdout"
        },
        {
          "output_type": "execute_result",
          "data": {
            "text/plain": [
              "<matplotlib.axes._subplots.AxesSubplot at 0x7fd8c7502b70>"
            ]
          },
          "metadata": {
            "tags": []
          },
          "execution_count": 33
        },
        {
          "output_type": "display_data",
          "data": {
            "image/png": "[encoded data removed]",
            "text/plain": [
              "<Figure size 432x288 with 2 Axes>"
            ]
          },
          "metadata": {
            "tags": []
          }
        },
        {
          "output_type": "display_data",
          "data": {
            "image/png": "[encoded data removed]",
            "text/plain": [
              "<Figure size 432x288 with 2 Axes>"
            ]
          },
          "metadata": {
            "tags": []
          }
        }
      ]
    },
    {
      "cell_type": "code",
      "metadata": {
        "id": "MyMVdH2Jr72e",
        "colab_type": "code",
        "outputId": "d1ca4154-b225-4f56-d0cc-457b27addc22",
        "colab": {
          "base_uri": "https://localhost:8080/",
          "height": 277
        }
      },
      "source": [
        "full_p,full_r,full_a,full_f1 = evaluation_summary(\"Self Attention-Full\", pred.detach().numpy(), y_test)"
      ],
      "execution_count": 34,
      "outputs": [
        {
          "output_type": "stream",
          "text": [
            "Evaluation for: Self Attention-Full\n",
            "Classifier 'Self Attention-Full' has Acc=0.975 P=0.975 R=0.975 F1=0.975\n",
            "              precision    recall  f1-score   support\n",
            "\n",
            "         0.0      0.975     0.975     0.975      2918\n",
            "         1.0      0.976     0.976     0.976      2994\n",
            "\n",
            "    accuracy                          0.975      5912\n",
            "   macro avg      0.975     0.975     0.975      5912\n",
            "weighted avg      0.975     0.975     0.975      5912\n",
            "\n",
            "\n",
            "Confusion matrix:\n",
            " [[2845   73]\n",
            " [  73 2921]]\n"
          ],
          "name": "stdout"
        }
      ]
    },
    {
      "cell_type": "code",
      "metadata": {
        "id": "LlAxxkt1sFAd",
        "colab_type": "code",
        "outputId": "03f56c93-08fb-4115-e622-29ec59a50d30",
        "colab": {
          "base_uri": "https://localhost:8080/",
          "height": 35
        }
      },
      "source": [
        "# Calculate the AUC value of the result.\n",
        "fpr, tpr, thresholds = roc_curve(y_test, pred.detach().numpy())\n",
        "auc_full = auc(fpr, tpr)\n",
        "print(\"Self Attention-Full AUC-\",auc_full)"
      ],
      "execution_count": 35,
      "outputs": [
        {
          "output_type": "stream",
          "text": [
            "Self Attention-Full AUC- 0.9753003837238103\n"
          ],
          "name": "stdout"
        }
      ]
    },
    {
      "cell_type": "code",
      "metadata": {
        "id": "swn0rIovsKhJ",
        "colab_type": "code",
        "outputId": "f71d2dfe-5127-4a44-e3cc-bceb0f349b5a",
        "colab": {
          "base_uri": "https://localhost:8080/",
          "height": 72
        }
      },
      "source": [
        "# Visualize the attention weights for this model.\n",
        "test_last_idx = 15\n",
        "wts = get_activation_wts(attention_model,Variable(torch.from_numpy(x_test_pad_cl[:test_last_idx]).type(torch.LongTensor)),\n",
        "                            Variable(torch.from_numpy(x_test_pad[:test_last_idx]).type(torch.LongTensor)),\n",
        "                        Variable(torch.from_numpy(x_test_pad_cls[:test_last_idx]).type(torch.LongTensor)),\n",
        "                        Variable(torch.from_numpy(x_test_pad_s[:test_last_idx]).type(torch.LongTensor)))\n",
        "\n",
        "visualize_attention(wts,x_test_pad[:test_last_idx],word_to_id,filename='attention_pol_full.html')"
      ],
      "execution_count": 36,
      "outputs": [
        {
          "output_type": "stream",
          "text": [
            "Attention visualization created for 15 samples\n"
          ],
          "name": "stdout"
        },
        {
          "output_type": "stream",
          "text": [
            "/usr/local/lib/python3.6/dist-packages/ipykernel_launcher.py:96: UserWarning: Implicit dimension choice for softmax has been deprecated. Change the call to include dim=X as an argument.\n"
          ],
          "name": "stderr"
        }
      ]
    },
    {
      "cell_type": "markdown",
      "metadata": {
        "id": "4pL6jocvsYIO",
        "colab_type": "text"
      },
      "source": [
        "##Sub-Model- Self Attention model using only Article and Claim"
      ]
    },
    {
      "cell_type": "code",
      "metadata": {
        "id": "HWVKMKn2saV2",
        "colab_type": "code",
        "colab": {}
      },
      "source": [
        "# Same model but it uses only article and claim as input.\n",
        "class StructuredSelfAttention(torch.nn.Module):\n",
        "    \"\"\"\n",
        "    The class is an implementation of the paper A Structured Self-Attentive Sentence Embedding including regularization\n",
        "    and without pruning. Slight modifications have been done for speedup\n",
        "    \"\"\"\n",
        "    def __init__(self,batch_size,lstm_hid_dim,d_a,r,max_len,emb_dim=100,vocab_size=None,use_pretrained_embeddings = False,embeddings=None,type= 0,n_classes = 1):\n",
        "        \"\"\"\n",
        "        Initializes parameters suggested in paper\n",
        " \n",
        "        Args:\n",
        "            batch_size  : {int} batch_size used for training\n",
        "            lstm_hid_dim: {int} hidden dimension for lstm\n",
        "            d_a         : {int} hidden dimension for the dense layer\n",
        "            r           : {int} attention-hops or attention heads\n",
        "            max_len     : {int} number of lstm timesteps\n",
        "            emb_dim     : {int} embeddings dimension\n",
        "            vocab_size  : {int} size of the vocabulary\n",
        "            use_pretrained_embeddings: {bool} use or train your own embeddings\n",
        "            embeddings  : {torch.FloatTensor} loaded pretrained embeddings\n",
        "            type        : [0,1] 0-->binary_classification 1-->multiclass classification\n",
        "            n_classes   : {int} number of classes\n",
        " \n",
        "        Returns:\n",
        "            self\n",
        " \n",
        "        Raises:\n",
        "            Exception\n",
        "        \"\"\"\n",
        "        super(StructuredSelfAttention,self).__init__()\n",
        "        # Initialization of the required layers\n",
        "        self.embeddings,emb_dim = self._load_embeddings(use_pretrained_embeddings,embeddings,vocab_size,emb_dim)\n",
        "        self.lstm = torch.nn.LSTM(emb_dim,lstm_hid_dim,1,batch_first=True)\n",
        "        self.linear_first = torch.nn.Linear(lstm_hid_dim,d_a)\n",
        "        self.linear_first.bias.data.fill_(0)\n",
        "        self.linear_second = torch.nn.Linear(d_a,r)\n",
        "        self.linear_second.bias.data.fill_(0)\n",
        "        self.n_classes = n_classes\n",
        "        \n",
        "        self.embeddings2,emb_dim = self._load_embeddings(use_pretrained_embeddings,embeddings,vocab_size,emb_dim)\n",
        "        self.lstm2 = torch.nn.LSTM(emb_dim,lstm_hid_dim,1,batch_first=True)\n",
        "        self.linear_first2 = torch.nn.Linear(lstm_hid_dim,d_a)\n",
        "        self.linear_first2.bias.data.fill_(0)\n",
        "        self.linear_second2 = torch.nn.Linear(d_a,r)\n",
        "        self.linear_second2.bias.data.fill_(0)\n",
        "\n",
        "        self.linear_final = torch.nn.Linear(lstm_hid_dim,self.n_classes)\n",
        "        self.batch_size = batch_size       \n",
        "        self.max_len = max_len\n",
        "        self.lstm_hid_dim = lstm_hid_dim\n",
        "        self.hidden_state = self.init_hidden()\n",
        "        self.r = r\n",
        "        self.type = type\n",
        "                 \n",
        "    def _load_embeddings(self,use_pretrained_embeddings,embeddings,vocab_size,emb_dim):\n",
        "        \"\"\"Load the embeddings based on flag\"\"\"\n",
        "        if use_pretrained_embeddings is True and embeddings is None:\n",
        "            raise Exception(\"Send a pretrained word embedding as an argument\")\n",
        "          \n",
        "        if not use_pretrained_embeddings and vocab_size is None:\n",
        "            raise Exception(\"Vocab size cannot be empty\")\n",
        "        \n",
        "        if not use_pretrained_embeddings:\n",
        "            word_embeddings = torch.nn.Embedding(vocab_size,emb_dim,padding_idx=0)\n",
        "            \n",
        "        elif use_pretrained_embeddings:\n",
        "            word_embeddings = torch.nn.Embedding(embeddings.size(0), embeddings.size(1))\n",
        "            word_embeddings.weight = torch.nn.Parameter(embeddings)\n",
        "            emb_dim = embeddings.size(1)\n",
        "            \n",
        "        return word_embeddings,emb_dim\n",
        "       \n",
        "        \n",
        "    def softmax(self,input, axis=1):\n",
        "        \"\"\"\n",
        "        Softmax applied to axis=n\n",
        " \n",
        "        Args:\n",
        "           input: {Tensor,Variable} input on which softmax is to be applied\n",
        "           axis : {int} axis on which softmax is to be applied\n",
        " \n",
        "        Returns:\n",
        "            softmaxed tensors\n",
        " \n",
        "       \n",
        "        \"\"\"\n",
        "        input_size = input.size()\n",
        "        trans_input = input.transpose(axis, len(input_size)-1)\n",
        "        trans_size = trans_input.size()\n",
        "        input_2d = trans_input.contiguous().view(-1, trans_size[-1])\n",
        "        soft_max_2d = F.softmax(input_2d)\n",
        "        soft_max_nd = soft_max_2d.view(*trans_size)\n",
        "        return soft_max_nd.transpose(axis, len(input_size)-1)\n",
        "       \n",
        "        \n",
        "    def init_hidden(self):\n",
        "        return (Variable(torch.zeros(1,self.batch_size,self.lstm_hid_dim)),Variable(torch.zeros(1,self.batch_size,self.lstm_hid_dim)))\n",
        "       \n",
        "        \n",
        "    def forward(self,x,y,xs,ys):\n",
        "        embeddings = self.embeddings(x) # claim embedding\n",
        "        embeddings_part_y = self.embeddings(y[:,:100]) # Article embedding taking the first 100 values\n",
        "        main_embedding  = torch.cat((embeddings, embeddings_part_y), 1) #Combination of the two\n",
        "        # Bi-LSTM layer\n",
        "        outputs, self.hidden_state = self.lstm(main_embedding.view(self.batch_size,self.max_len,-1),self.hidden_state)  \n",
        "        # Self-Attention mechanism    \n",
        "        x = torch.tanh(self.linear_first(outputs))       \n",
        "        x = self.linear_second(x)       \n",
        "        x = self.softmax(x,1)       \n",
        "        attention = x.transpose(1,2)  \n",
        "        sentence_embeddings = attention@outputs\n",
        "\n",
        "        # Same processing followed for article only.\n",
        "        embeddings2 = self.embeddings2(y)    \n",
        "        outputs2, self.hidden_state2 = self.lstm2(embeddings2.view(self.batch_size,self.max_len,-1),self.hidden_state)       \n",
        "        x2 = torch.tanh(self.linear_first2(outputs2))       \n",
        "        x2 = self.linear_second2(x2)       \n",
        "        x2 = self.softmax(x2,1)       \n",
        "        attention2 = x2.transpose(1,2)       \n",
        "        sentence_embeddings2 = attention2@outputs2\n",
        "\n",
        "        # Element-wise multiplication of the two outputs.\n",
        "        ele_mul = sentence_embeddings * sentence_embeddings2\n",
        "        # Average of the output.\n",
        "        avg_sentence_embeddings = torch.sum(ele_mul,1)/self.r\n",
        "        \n",
        "        output = torch.sigmoid(self.linear_final(avg_sentence_embeddings))\n",
        "        return output,attention2\n",
        "        \n",
        "    #Regularization\n",
        "    def l2_matrix_norm(self,m):\n",
        "        \"\"\"\n",
        "        Frobenius norm calculation\n",
        " \n",
        "        Args:\n",
        "           m: {Variable} ||AAT - I||\n",
        " \n",
        "        Returns:\n",
        "            regularized value\n",
        " \n",
        "       \n",
        "        \"\"\"\n",
        "        return torch.sum(torch.sum(torch.sum(m**2,1),1)**0.5).type(torch.DoubleTensor)"
      ],
      "execution_count": 0,
      "outputs": []
    },
    {
      "cell_type": "code",
      "metadata": {
        "id": "np8FA1ZEt39P",
        "colab_type": "code",
        "outputId": "9cdc08cd-455a-49fc-fd58-e815a84374b4",
        "colab": {
          "base_uri": "https://localhost:8080/",
          "height": 211
        }
      },
      "source": [
        "# Initialize and Train the model.\n",
        "attention_model2 = StructuredSelfAttention(batch_size=train_loader.batch_size,lstm_hid_dim=model_params['lstm_hidden_dimension'],d_a = model_params[\"d_a\"],r=params_set[\"attention_hops\"],vocab_size=len(word_to_id),max_len=MAXLENGTH,type=0,n_classes=1,use_pretrained_embeddings=True,embeddings=embeddings)\n",
        "\n",
        "loss2, acc2 = binary_classfication(attention_model2,train_loader=train_loader,epochs=3,use_regularization=True,C=params_set[\"C\"],clip=params_set[\"clip\"])\n"
      ],
      "execution_count": 17,
      "outputs": [
        {
          "output_type": "stream",
          "text": [
            "Running EPOCH 1\n"
          ],
          "name": "stdout"
        },
        {
          "output_type": "stream",
          "text": [
            "/usr/local/lib/python3.6/dist-packages/ipykernel_launcher.py:93: UserWarning: Implicit dimension choice for softmax has been deprecated. Change the call to include dim=X as an argument.\n"
          ],
          "name": "stderr"
        },
        {
          "output_type": "stream",
          "text": [
            "avg_loss is tensor(0.6552, dtype=torch.float64)\n",
            "Accuracy of the model 0.6914487092391305\n",
            "Running EPOCH 2\n",
            "avg_loss is tensor(0.2472, dtype=torch.float64)\n",
            "Accuracy of the model 0.9475203804347826\n",
            "Running EPOCH 3\n",
            "avg_loss is tensor(0.1510, dtype=torch.float64)\n",
            "Accuracy of the model 0.9815726902173914\n"
          ],
          "name": "stdout"
        }
      ]
    },
    {
      "cell_type": "code",
      "metadata": {
        "id": "Aq8B_gWGuArH",
        "colab_type": "code",
        "outputId": "753d29c1-a1be-4300-fc5d-ab5ad75641c2",
        "colab": {
          "base_uri": "https://localhost:8080/",
          "height": 72
        }
      },
      "source": [
        "# Accuracy of the test data\n",
        "acc2, pred2 = evaluate(attention_model2, x_test_pad_cl, x_test_pad, x_test_pad_cls, x_test_pad_s, y_test)\n",
        "print(acc2)"
      ],
      "execution_count": 18,
      "outputs": [
        {
          "output_type": "stream",
          "text": [
            "/usr/local/lib/python3.6/dist-packages/ipykernel_launcher.py:93: UserWarning: Implicit dimension choice for softmax has been deprecated. Change the call to include dim=X as an argument.\n"
          ],
          "name": "stderr"
        },
        {
          "output_type": "stream",
          "text": [
            "0.9700608930987822\n"
          ],
          "name": "stdout"
        }
      ]
    },
    {
      "cell_type": "code",
      "metadata": {
        "id": "U4-XA2w3uD8t",
        "colab_type": "code",
        "outputId": "b842f267-aa03-4f71-8800-32cc306d60df",
        "colab": {
          "base_uri": "https://localhost:8080/",
          "height": 699
        }
      },
      "source": [
        "plot_confusion_matrix(y_test,pred2.detach().numpy(),[0,1])\n",
        "plot_confusion_matrix(y_test,pred2.detach().numpy(),[0,1], normalize=True)"
      ],
      "execution_count": 19,
      "outputs": [
        {
          "output_type": "stream",
          "text": [
            "Confusion matrix, without normalization\n",
            "[[2832   86]\n",
            " [  91 2903]]\n",
            "Normalized confusion matrix\n",
            "[[0.97052776 0.02947224]\n",
            " [0.03039412 0.96960588]]\n"
          ],
          "name": "stdout"
        },
        {
          "output_type": "execute_result",
          "data": {
            "text/plain": [
              "<matplotlib.axes._subplots.AxesSubplot at 0x7fd8c79ee550>"
            ]
          },
          "metadata": {
            "tags": []
          },
          "execution_count": 19
        },
        {
          "output_type": "display_data",
          "data": {
            "image/png": "[encoded data removed]",
            "text/plain": [
              "<Figure size 432x288 with 2 Axes>"
            ]
          },
          "metadata": {
            "tags": []
          }
        },
        {
          "output_type": "display_data",
          "data": {
            "image/png": "[encoded data removed]",
            "text/plain": [
              "<Figure size 432x288 with 2 Axes>"
            ]
          },
          "metadata": {
            "tags": []
          }
        }
      ]
    },
    {
      "cell_type": "code",
      "metadata": {
        "id": "yuZZx5oEuHuj",
        "colab_type": "code",
        "outputId": "034d743f-5d28-48f8-e69a-1c9f4be8607b",
        "colab": {
          "base_uri": "https://localhost:8080/",
          "height": 277
        }
      },
      "source": [
        "art_cl_p,art_cl_r,art_cl_a,art_cl_f1 = evaluation_summary(\"Self Attention-Article and Claim\", pred2.detach().numpy(), y_test)"
      ],
      "execution_count": 20,
      "outputs": [
        {
          "output_type": "stream",
          "text": [
            "Evaluation for: Self Attention-Article and Claim\n",
            "Classifier 'Self Attention-Article and Claim' has Acc=0.970 P=0.970 R=0.970 F1=0.970\n",
            "              precision    recall  f1-score   support\n",
            "\n",
            "         0.0      0.971     0.969     0.970      2923\n",
            "         1.0      0.970     0.971     0.970      2989\n",
            "\n",
            "    accuracy                          0.970      5912\n",
            "   macro avg      0.970     0.970     0.970      5912\n",
            "weighted avg      0.970     0.970     0.970      5912\n",
            "\n",
            "\n",
            "Confusion matrix:\n",
            " [[2832   86]\n",
            " [  91 2903]]\n"
          ],
          "name": "stdout"
        }
      ]
    },
    {
      "cell_type": "code",
      "metadata": {
        "id": "FAju_9NLuLYt",
        "colab_type": "code",
        "outputId": "a4011531-33c6-4b8b-b010-fd0e732e6c05",
        "colab": {
          "base_uri": "https://localhost:8080/",
          "height": 35
        }
      },
      "source": [
        "fpr, tpr, thresholds = roc_curve(y_test, pred2.detach().numpy())\n",
        "auc_art_cl = auc(fpr, tpr)\n",
        "print(\"Self Attention-Article_claim AUC-\",auc_art_cl)"
      ],
      "execution_count": 21,
      "outputs": [
        {
          "output_type": "stream",
          "text": [
            "Self Attention-Article_claim AUC- 0.9700668185811879\n"
          ],
          "name": "stdout"
        }
      ]
    },
    {
      "cell_type": "code",
      "metadata": {
        "id": "ojxxOaxEuOde",
        "colab_type": "code",
        "outputId": "28edf406-0b16-48ac-a7c4-79ebaa5245cd",
        "colab": {
          "base_uri": "https://localhost:8080/",
          "height": 89
        }
      },
      "source": [
        "# Visulaisation\n",
        "test_last_idx = 15\n",
        "wts2 = get_activation_wts(attention_model2,Variable(torch.from_numpy(x_test_pad_cl[:test_last_idx]).type(torch.LongTensor)),\n",
        "                             Variable(torch.from_numpy(x_test_pad[:test_last_idx]).type(torch.LongTensor)),\n",
        "                        Variable(torch.from_numpy(x_test_pad_cls[:test_last_idx]).type(torch.LongTensor)),\n",
        "                        Variable(torch.from_numpy(x_test_pad_s[:test_last_idx]).type(torch.LongTensor)))\n",
        "print(wts2.size())\n",
        "visualize_attention(wts2,x_test_pad[:test_last_idx],word_to_id,filename='attention_art_cl.html')"
      ],
      "execution_count": 22,
      "outputs": [
        {
          "output_type": "stream",
          "text": [
            "torch.Size([15, 10, 150])\n",
            "Attention visualization created for 15 samples\n"
          ],
          "name": "stdout"
        },
        {
          "output_type": "stream",
          "text": [
            "/usr/local/lib/python3.6/dist-packages/ipykernel_launcher.py:93: UserWarning: Implicit dimension choice for softmax has been deprecated. Change the call to include dim=X as an argument.\n"
          ],
          "name": "stderr"
        }
      ]
    },
    {
      "cell_type": "markdown",
      "metadata": {
        "id": "kjZHBmdOvA8D",
        "colab_type": "text"
      },
      "source": [
        "## Sub Model- Using only Article"
      ]
    },
    {
      "cell_type": "code",
      "metadata": {
        "id": "JNhLeb5uvCDp",
        "colab_type": "code",
        "colab": {}
      },
      "source": [
        "# Self attention class this time only using the Article.\n",
        "class StructuredSelfAttention(torch.nn.Module):\n",
        "    \"\"\"\n",
        "    The class is an implementation of the paper A Structured Self-Attentive Sentence Embedding including regularization\n",
        "    and without pruning. Slight modifications have been done for speedup\n",
        "    \"\"\"\n",
        "    def __init__(self,batch_size,lstm_hid_dim,d_a,r,max_len,emb_dim=100,vocab_size=None,use_pretrained_embeddings = False,embeddings=None,type= 0,n_classes = 1):\n",
        "        \"\"\"\n",
        "        Initializes parameters suggested in paper\n",
        " \n",
        "        Args:\n",
        "            batch_size  : {int} batch_size used for training\n",
        "            lstm_hid_dim: {int} hidden dimension for lstm\n",
        "            d_a         : {int} hidden dimension for the dense layer\n",
        "            r           : {int} attention-hops or attention heads\n",
        "            max_len     : {int} number of lstm timesteps\n",
        "            emb_dim     : {int} embeddings dimension\n",
        "            vocab_size  : {int} size of the vocabulary\n",
        "            use_pretrained_embeddings: {bool} use or train your own embeddings\n",
        "            embeddings  : {torch.FloatTensor} loaded pretrained embeddings\n",
        "            type        : [0,1] 0-->binary_classification 1-->multiclass classification\n",
        "            n_classes   : {int} number of classes\n",
        " \n",
        "        Returns:\n",
        "            self\n",
        " \n",
        "        Raises:\n",
        "            Exception\n",
        "        \"\"\"\n",
        "        super(StructuredSelfAttention,self).__init__()        \n",
        "        self.n_classes = n_classes\n",
        "        \n",
        "        # Self Attention layers for Article\n",
        "        self.embeddings2,emb_dim = self._load_embeddings(use_pretrained_embeddings,embeddings,vocab_size,emb_dim)\n",
        "        self.lstm2 = torch.nn.LSTM(emb_dim,lstm_hid_dim,1,batch_first=True)\n",
        "        self.linear_first2 = torch.nn.Linear(lstm_hid_dim,d_a)\n",
        "        self.linear_first2.bias.data.fill_(0)\n",
        "        self.linear_second2 = torch.nn.Linear(d_a,r)\n",
        "        self.linear_second2.bias.data.fill_(0)\n",
        "\n",
        "        self.linear_final = torch.nn.Linear(lstm_hid_dim,self.n_classes)\n",
        "        self.batch_size = batch_size       \n",
        "        self.max_len = max_len\n",
        "        self.lstm_hid_dim = lstm_hid_dim\n",
        "        self.hidden_state = self.init_hidden()\n",
        "        self.r = r\n",
        "        self.type = type\n",
        "                 \n",
        "    def _load_embeddings(self,use_pretrained_embeddings,embeddings,vocab_size,emb_dim):\n",
        "        \"\"\"Load the embeddings based on flag\"\"\"\n",
        "        if use_pretrained_embeddings is True and embeddings is None:\n",
        "            raise Exception(\"Send a pretrained word embedding as an argument\")\n",
        "          \n",
        "        if not use_pretrained_embeddings and vocab_size is None:\n",
        "            raise Exception(\"Vocab size cannot be empty\")\n",
        "        \n",
        "        if not use_pretrained_embeddings:\n",
        "            word_embeddings = torch.nn.Embedding(vocab_size,emb_dim,padding_idx=0)\n",
        "            \n",
        "        elif use_pretrained_embeddings:\n",
        "            word_embeddings = torch.nn.Embedding(embeddings.size(0), embeddings.size(1))\n",
        "            word_embeddings.weight = torch.nn.Parameter(embeddings)\n",
        "            emb_dim = embeddings.size(1)\n",
        "            \n",
        "        return word_embeddings,emb_dim\n",
        "       \n",
        "        \n",
        "    def softmax(self,input, axis=1):\n",
        "        \"\"\"\n",
        "        Softmax applied to axis=n\n",
        " \n",
        "        Args:\n",
        "           input: {Tensor,Variable} input on which softmax is to be applied\n",
        "           axis : {int} axis on which softmax is to be applied\n",
        " \n",
        "        Returns:\n",
        "            softmaxed tensors\n",
        " \n",
        "       \n",
        "        \"\"\"\n",
        "        input_size = input.size()\n",
        "        trans_input = input.transpose(axis, len(input_size)-1)\n",
        "        trans_size = trans_input.size()\n",
        "        input_2d = trans_input.contiguous().view(-1, trans_size[-1])\n",
        "        soft_max_2d = F.softmax(input_2d)\n",
        "        soft_max_nd = soft_max_2d.view(*trans_size)\n",
        "        return soft_max_nd.transpose(axis, len(input_size)-1)\n",
        "       \n",
        "        \n",
        "    def init_hidden(self):\n",
        "        return (Variable(torch.zeros(1,self.batch_size,self.lstm_hid_dim)),Variable(torch.zeros(1,self.batch_size,self.lstm_hid_dim)))\n",
        "       \n",
        "        \n",
        "    def forward(self,x,y,xs,ys):\n",
        "        # Article embedding\n",
        "        embeddings2 = self.embeddings2(y)    \n",
        "        # Bi-LSTM layer\n",
        "        outputs2, self.hidden_state2 = self.lstm2(embeddings2.view(self.batch_size,self.max_len,-1),self.hidden_state)  \n",
        "         # Self-Attention mechanism     \n",
        "        x2 = torch.tanh(self.linear_first2(outputs2))       \n",
        "        x2 = self.linear_second2(x2)       \n",
        "        x2 = self.softmax(x2,1)       \n",
        "        attention2 = x2.transpose(1,2)       \n",
        "        sentence_embeddings2 = attention2@outputs2\n",
        "        # Average of the output\n",
        "        avg_sentence_embeddings = torch.sum(sentence_embeddings2,1)/self.r\n",
        "        \n",
        "        output = torch.sigmoid(self.linear_final(avg_sentence_embeddings))\n",
        "\n",
        "        return output,attention2\n",
        "        \n",
        "    #Regularization\n",
        "    def l2_matrix_norm(self,m):\n",
        "        \"\"\"\n",
        "        Frobenius norm calculation\n",
        " \n",
        "        Args:\n",
        "           m: {Variable} ||AAT - I||\n",
        " \n",
        "        Returns:\n",
        "            regularized value\n",
        " \n",
        "       \n",
        "        \"\"\"\n",
        "        return torch.sum(torch.sum(torch.sum(m**2,1),1)**0.5).type(torch.DoubleTensor)"
      ],
      "execution_count": 0,
      "outputs": []
    },
    {
      "cell_type": "code",
      "metadata": {
        "id": "sA0S_CNpv-HI",
        "colab_type": "code",
        "outputId": "fc937905-2a6f-4acf-afb1-aad7738c4e80",
        "colab": {
          "base_uri": "https://localhost:8080/",
          "height": 211
        }
      },
      "source": [
        "# Initialize and train the model\n",
        "attention_model3 = StructuredSelfAttention(batch_size=train_loader.batch_size,lstm_hid_dim=model_params['lstm_hidden_dimension'],d_a = model_params[\"d_a\"],r=params_set[\"attention_hops\"],vocab_size=len(word_to_id),max_len=MAXLENGTH,type=0,n_classes=1,use_pretrained_embeddings=True,embeddings=embeddings)\n",
        "\n",
        "loss, acc = binary_classfication(attention_model3,train_loader=train_loader,epochs=3,use_regularization=True,C=params_set[\"C\"],clip=params_set[\"clip\"])\n"
      ],
      "execution_count": 39,
      "outputs": [
        {
          "output_type": "stream",
          "text": [
            "Running EPOCH 1\n"
          ],
          "name": "stdout"
        },
        {
          "output_type": "stream",
          "text": [
            "/usr/local/lib/python3.6/dist-packages/ipykernel_launcher.py:95: UserWarning: Implicit dimension choice for softmax has been deprecated. Change the call to include dim=X as an argument.\n"
          ],
          "name": "stderr"
        },
        {
          "output_type": "stream",
          "text": [
            "avg_loss is tensor(0.6027, dtype=torch.float64)\n",
            "Accuracy of the model 0.7426970108695652\n",
            "Running EPOCH 2\n",
            "avg_loss is tensor(0.3171, dtype=torch.float64)\n",
            "Accuracy of the model 0.9119395380434783\n",
            "Running EPOCH 3\n",
            "avg_loss is tensor(0.2324, dtype=torch.float64)\n",
            "Accuracy of the model 0.9486667798913043\n"
          ],
          "name": "stdout"
        }
      ]
    },
    {
      "cell_type": "code",
      "metadata": {
        "id": "bLhlDjvNwEgy",
        "colab_type": "code",
        "outputId": "248a5154-73dc-4b99-d463-0cf4db195c82",
        "colab": {
          "base_uri": "https://localhost:8080/",
          "height": 72
        }
      },
      "source": [
        "# Accuracy of the test data\n",
        "acc3, pred3 = evaluate(attention_model3, x_test_pad_cl, x_test_pad, x_test_pad_cls, x_test_pad_s, y_test)\n",
        "print(acc3)"
      ],
      "execution_count": 0,
      "outputs": [
        {
          "output_type": "stream",
          "text": [
            "0.8369418132611637\n"
          ],
          "name": "stdout"
        },
        {
          "output_type": "stream",
          "text": [
            "/usr/local/lib/python3.6/dist-packages/ipykernel_launcher.py:95: UserWarning: Implicit dimension choice for softmax has been deprecated. Change the call to include dim=X as an argument.\n"
          ],
          "name": "stderr"
        }
      ]
    },
    {
      "cell_type": "code",
      "metadata": {
        "id": "WLZqN5WNwG_0",
        "colab_type": "code",
        "outputId": "ff9205c7-7d3e-46bc-e350-1cc24dc5b864",
        "colab": {
          "base_uri": "https://localhost:8080/",
          "height": 699
        }
      },
      "source": [
        "plot_confusion_matrix(y_test,pred3.detach().numpy(),[0,1])\n",
        "plot_confusion_matrix(y_test,pred3.detach().numpy(),[0,1], normalize=True)"
      ],
      "execution_count": 0,
      "outputs": [
        {
          "output_type": "stream",
          "text": [
            "Confusion matrix, without normalization\n",
            "[[2334  612]\n",
            " [ 352 2614]]\n",
            "Normalized confusion matrix\n",
            "[[0.79226069 0.20773931]\n",
            " [0.11867835 0.88132165]]\n"
          ],
          "name": "stdout"
        },
        {
          "output_type": "execute_result",
          "data": {
            "text/plain": [
              "<matplotlib.axes._subplots.AxesSubplot at 0x7f42656c30b8>"
            ]
          },
          "metadata": {
            "tags": []
          },
          "execution_count": 45
        },
        {
          "output_type": "display_data",
          "data": {
            "image/png": "[encoded data removed]",
            "text/plain": [
              "<Figure size 432x288 with 2 Axes>"
            ]
          },
          "metadata": {
            "tags": []
          }
        },
        {
          "output_type": "display_data",
          "data": {
            "image/png": "[encoded data removed]",
            "text/plain": [
              "<Figure size 432x288 with 2 Axes>"
            ]
          },
          "metadata": {
            "tags": []
          }
        }
      ]
    },
    {
      "cell_type": "code",
      "metadata": {
        "id": "Tzr-unOBwKcY",
        "colab_type": "code",
        "outputId": "c52397c4-3ab7-4e94-d7f0-bfc35d47fd1f",
        "colab": {
          "base_uri": "https://localhost:8080/",
          "height": 277
        }
      },
      "source": [
        "art_p,art_r,art_a,art_f1 = evaluation_summary(\"Self Attention-Article only\", pred3.detach().numpy(), y_test)"
      ],
      "execution_count": 0,
      "outputs": [
        {
          "output_type": "stream",
          "text": [
            "Evaluation for: Self Attention-Article only\n",
            "Classifier 'Self Attention-Article only' has Acc=0.837 P=0.837 R=0.840 F1=0.837\n",
            "              precision    recall  f1-score   support\n",
            "\n",
            "         0.0      0.792     0.869     0.829      2686\n",
            "         1.0      0.881     0.810     0.844      3226\n",
            "\n",
            "    accuracy                          0.837      5912\n",
            "   macro avg      0.837     0.840     0.837      5912\n",
            "weighted avg      0.841     0.837     0.837      5912\n",
            "\n",
            "\n",
            "Confusion matrix:\n",
            " [[2334  612]\n",
            " [ 352 2614]]\n"
          ],
          "name": "stdout"
        }
      ]
    },
    {
      "cell_type": "code",
      "metadata": {
        "id": "GjQNgYzbwTzO",
        "colab_type": "code",
        "outputId": "d08693dd-db99-479c-945d-81f5e1249018",
        "colab": {
          "base_uri": "https://localhost:8080/",
          "height": 35
        }
      },
      "source": [
        "fpr, tpr, thresholds = roc_curve(y_test, pred3.detach().numpy())\n",
        "auc_art = auc(fpr, tpr)\n",
        "print(\"Self Attention-Article only AUC-\",auc_art)"
      ],
      "execution_count": 0,
      "outputs": [
        {
          "output_type": "stream",
          "text": [
            "Self Attention-Article only AUC- 0.8367911688889561\n"
          ],
          "name": "stdout"
        }
      ]
    },
    {
      "cell_type": "code",
      "metadata": {
        "id": "JtDuSrAmwXKg",
        "colab_type": "code",
        "outputId": "bbed0380-7c26-4fab-c6c0-0f952af5abe2",
        "colab": {
          "base_uri": "https://localhost:8080/",
          "height": 89
        }
      },
      "source": [
        "# Visulaisation\n",
        "test_last_idx = 15\n",
        "wts3 = get_activation_wts(attention_model3,Variable(torch.from_numpy(x_test_pad_cl[:test_last_idx]).type(torch.LongTensor)),\n",
        "                             Variable(torch.from_numpy(x_test_pad[:test_last_idx]).type(torch.LongTensor)),\n",
        "                        Variable(torch.from_numpy(x_test_pad_cls[:test_last_idx]).type(torch.LongTensor)),\n",
        "                        Variable(torch.from_numpy(x_test_pad_s[:test_last_idx]).type(torch.LongTensor)))\n",
        "print(wts3.size())\n",
        "visualize_attention(wts3,x_test_pad[:test_last_idx],word_to_id,filename='attention_art.html')"
      ],
      "execution_count": 0,
      "outputs": [
        {
          "output_type": "stream",
          "text": [
            "torch.Size([15, 10, 150])\n",
            "Attention visualization created for 15 samples\n"
          ],
          "name": "stdout"
        },
        {
          "output_type": "stream",
          "text": [
            "/usr/local/lib/python3.6/dist-packages/ipykernel_launcher.py:95: UserWarning: Implicit dimension choice for softmax has been deprecated. Change the call to include dim=X as an argument.\n"
          ],
          "name": "stderr"
        }
      ]
    },
    {
      "cell_type": "markdown",
      "metadata": {
        "id": "g1IT7vJowfs5",
        "colab_type": "text"
      },
      "source": [
        "## Sub Model- Article and sources"
      ]
    },
    {
      "cell_type": "code",
      "metadata": {
        "id": "6g13BZORwhu9",
        "colab_type": "code",
        "colab": {}
      },
      "source": [
        "# Self attention class uing only the article and article source\n",
        "class StructuredSelfAttention(torch.nn.Module):\n",
        "    \"\"\"\n",
        "    The class is an implementation of the paper A Structured Self-Attentive Sentence Embedding including regularization\n",
        "    and without pruning. Slight modifications have been done for speedup\n",
        "    \"\"\"\n",
        "    def __init__(self,batch_size,lstm_hid_dim,d_a,r,max_len,emb_dim=100,vocab_size=None,use_pretrained_embeddings = False,embeddings=None,type= 0,n_classes = 1):\n",
        "        \"\"\"\n",
        "        Initializes parameters suggested in paper\n",
        " \n",
        "        Args:\n",
        "            batch_size  : {int} batch_size used for training\n",
        "            lstm_hid_dim: {int} hidden dimension for lstm\n",
        "            d_a         : {int} hidden dimension for the dense layer\n",
        "            r           : {int} attention-hops or attention heads\n",
        "            max_len     : {int} number of lstm timesteps\n",
        "            emb_dim     : {int} embeddings dimension\n",
        "            vocab_size  : {int} size of the vocabulary\n",
        "            use_pretrained_embeddings: {bool} use or train your own embeddings\n",
        "            embeddings  : {torch.FloatTensor} loaded pretrained embeddings\n",
        "            type        : [0,1] 0-->binary_classification 1-->multiclass classification\n",
        "            n_classes   : {int} number of classes\n",
        " \n",
        "        Returns:\n",
        "            self\n",
        " \n",
        "        Raises:\n",
        "            Exception\n",
        "        \"\"\"\n",
        "        super(StructuredSelfAttention,self).__init__()       \n",
        "        self.n_classes = n_classes\n",
        "        \n",
        "        # Self Attention layers for Article\n",
        "        self.embeddings2,emb_dim = self._load_embeddings(use_pretrained_embeddings,embeddings,vocab_size,emb_dim)\n",
        "        self.lstm2 = torch.nn.LSTM(emb_dim,lstm_hid_dim,1,batch_first=True)\n",
        "        self.linear_first2 = torch.nn.Linear(lstm_hid_dim,d_a)\n",
        "        self.linear_first2.bias.data.fill_(0)\n",
        "        self.linear_second2 = torch.nn.Linear(d_a,r)\n",
        "        self.linear_second2.bias.data.fill_(0)\n",
        "        \n",
        "         # Embedding layers for sources\n",
        "        self.embeddings3,emb_dim = self._load_embeddings(use_pretrained_embeddings,embeddings,vocab_size,emb_dim)\n",
        "        self.embeddings4,emb_dim = self._load_embeddings(use_pretrained_embeddings,embeddings,vocab_size,emb_dim)\n",
        "        \n",
        "        self.linear_final = torch.nn.Linear(3*lstm_hid_dim,self.n_classes)\n",
        "        self.batch_size = batch_size       \n",
        "        self.max_len = max_len\n",
        "        self.lstm_hid_dim = lstm_hid_dim\n",
        "        self.hidden_state = self.init_hidden()\n",
        "        self.r = r\n",
        "        self.type = type\n",
        "                 \n",
        "    def _load_embeddings(self,use_pretrained_embeddings,embeddings,vocab_size,emb_dim):\n",
        "        \"\"\"Load the embeddings based on flag\"\"\"\n",
        "        if use_pretrained_embeddings is True and embeddings is None:\n",
        "            raise Exception(\"Send a pretrained word embedding as an argument\")\n",
        "          \n",
        "        if not use_pretrained_embeddings and vocab_size is None:\n",
        "            raise Exception(\"Vocab size cannot be empty\")\n",
        "        \n",
        "        if not use_pretrained_embeddings:\n",
        "            word_embeddings = torch.nn.Embedding(vocab_size,emb_dim,padding_idx=0)\n",
        "            \n",
        "        elif use_pretrained_embeddings:\n",
        "            word_embeddings = torch.nn.Embedding(embeddings.size(0), embeddings.size(1))\n",
        "            word_embeddings.weight = torch.nn.Parameter(embeddings)\n",
        "            emb_dim = embeddings.size(1)\n",
        "            \n",
        "        return word_embeddings,emb_dim\n",
        "       \n",
        "        \n",
        "    def softmax(self,input, axis=1):\n",
        "        \"\"\"\n",
        "        Softmax applied to axis=n\n",
        " \n",
        "        Args:\n",
        "           input: {Tensor,Variable} input on which softmax is to be applied\n",
        "           axis : {int} axis on which softmax is to be applied\n",
        " \n",
        "        Returns:\n",
        "            softmaxed tensors\n",
        " \n",
        "       \n",
        "        \"\"\"\n",
        "        input_size = input.size()\n",
        "        trans_input = input.transpose(axis, len(input_size)-1)\n",
        "        trans_size = trans_input.size()\n",
        "        input_2d = trans_input.contiguous().view(-1, trans_size[-1])\n",
        "        soft_max_2d = F.softmax(input_2d)\n",
        "        soft_max_nd = soft_max_2d.view(*trans_size)\n",
        "        return soft_max_nd.transpose(axis, len(input_size)-1)\n",
        "       \n",
        "        \n",
        "    def init_hidden(self):\n",
        "        return (Variable(torch.zeros(1,self.batch_size,self.lstm_hid_dim)),Variable(torch.zeros(1,self.batch_size,self.lstm_hid_dim)))\n",
        "       \n",
        "        \n",
        "    def forward(self,x,y,xs,ys):\n",
        "        # Article embedding\n",
        "        embeddings2 = self.embeddings2(y)    \n",
        "        # Bi-LSTM layer\n",
        "        outputs2, self.hidden_state2 = self.lstm2(embeddings2.view(self.batch_size,self.max_len,-1),self.hidden_state)  \n",
        "        # Self-Attention mechanism     \n",
        "        x2 = torch.tanh(self.linear_first2(outputs2))       \n",
        "        x2 = self.linear_second2(x2)       \n",
        "        x2 = self.softmax(x2,1)       \n",
        "        attention2 = x2.transpose(1,2)       \n",
        "        sentence_embeddings2 = attention2@outputs2\n",
        "        # Average of the output.\n",
        "        avg_sentence_embeddings = torch.sum(sentence_embeddings2,1)/self.r\n",
        "        \n",
        "        # Claim and article source embedding\n",
        "        embeddings3 = self.embeddings3(xs)\n",
        "        embeddings4 = self.embeddings4(ys) \n",
        "        # Average of the embeddings\n",
        "        avg_csource_embeddings = torch.sum(embeddings3,1)/self.r\n",
        "        avg_asource_embeddings = torch.sum(embeddings4,1)/self.r\n",
        "        # Combined average of the sources and self-attention outputs.\n",
        "        comb_avg = torch.cat((avg_sentence_embeddings, avg_csource_embeddings, avg_asource_embeddings), 1)\n",
        " \n",
        "        output = torch.sigmoid(self.linear_final(comb_avg))\n",
        "        \n",
        "        return output,attention2\n",
        "        \n",
        "    #Regularization\n",
        "    def l2_matrix_norm(self,m):\n",
        "        \"\"\"\n",
        "        Frobenius norm calculation\n",
        " \n",
        "        Args:\n",
        "           m: {Variable} ||AAT - I||\n",
        " \n",
        "        Returns:\n",
        "            regularized value\n",
        " \n",
        "       \n",
        "        \"\"\"\n",
        "        return torch.sum(torch.sum(torch.sum(m**2,1),1)**0.5).type(torch.DoubleTensor)"
      ],
      "execution_count": 0,
      "outputs": []
    },
    {
      "cell_type": "code",
      "metadata": {
        "id": "XN4SZAXQwkgZ",
        "colab_type": "code",
        "outputId": "94ffff23-ab91-4bf1-bd5d-3cd9b00332ac",
        "colab": {
          "base_uri": "https://localhost:8080/",
          "height": 159
        }
      },
      "source": [
        "# Initialize and Train the model\n",
        "attention_model4 = StructuredSelfAttention(batch_size=train_loader.batch_size,lstm_hid_dim=model_params['lstm_hidden_dimension'],d_a = model_params[\"d_a\"],r=params_set[\"attention_hops\"],vocab_size=len(word_to_id),max_len=MAXLENGTH,type=0,n_classes=1,use_pretrained_embeddings=True,embeddings=embeddings)\n",
        "\n",
        "loss, acc = binary_classfication(attention_model4,train_loader=train_loader,epochs=2,use_regularization=True,C=params_set[\"C\"],clip=params_set[\"clip\"])"
      ],
      "execution_count": 0,
      "outputs": [
        {
          "output_type": "stream",
          "text": [
            "Running EPOCH 1\n"
          ],
          "name": "stdout"
        },
        {
          "output_type": "stream",
          "text": [
            "/usr/local/lib/python3.6/dist-packages/ipykernel_launcher.py:99: UserWarning: Implicit dimension choice for softmax has been deprecated. Change the call to include dim=X as an argument.\n"
          ],
          "name": "stderr"
        },
        {
          "output_type": "stream",
          "text": [
            "avg_loss is tensor(0.5091, dtype=torch.float64)\n",
            "Accuracy of the model 0.7995499320652174\n",
            "Running EPOCH 2\n",
            "avg_loss is tensor(0.2537, dtype=torch.float64)\n",
            "Accuracy of the model 0.9394955842391305\n"
          ],
          "name": "stdout"
        }
      ]
    },
    {
      "cell_type": "code",
      "metadata": {
        "id": "E3Y46_JBwohh",
        "colab_type": "code",
        "outputId": "79f12a6c-7f80-4914-df9b-4abda40dab4b",
        "colab": {
          "base_uri": "https://localhost:8080/",
          "height": 72
        }
      },
      "source": [
        "# Accuracy of the test data\n",
        "acc4, pred4 = evaluate(attention_model4, x_test_pad_cl, x_test_pad, x_test_pad_cls, x_test_pad_s, y_test)\n",
        "print(acc4)"
      ],
      "execution_count": 0,
      "outputs": [
        {
          "output_type": "stream",
          "text": [
            "0.8607916102841678\n"
          ],
          "name": "stdout"
        },
        {
          "output_type": "stream",
          "text": [
            "/usr/local/lib/python3.6/dist-packages/ipykernel_launcher.py:99: UserWarning: Implicit dimension choice for softmax has been deprecated. Change the call to include dim=X as an argument.\n"
          ],
          "name": "stderr"
        }
      ]
    },
    {
      "cell_type": "code",
      "metadata": {
        "id": "EBOq-IxzwrxF",
        "colab_type": "code",
        "outputId": "00d3d2bb-7e0e-4682-85f0-0edea1b4483b",
        "colab": {
          "base_uri": "https://localhost:8080/",
          "height": 699
        }
      },
      "source": [
        "plot_confusion_matrix(y_test,pred4.detach().numpy(),[0,1])\n",
        "plot_confusion_matrix(y_test,pred4.detach().numpy(),[0,1], normalize=True)"
      ],
      "execution_count": 0,
      "outputs": [
        {
          "output_type": "stream",
          "text": [
            "Confusion matrix, without normalization\n",
            "[[2650  296]\n",
            " [ 527 2439]]\n",
            "Normalized confusion matrix\n",
            "[[0.89952478 0.10047522]\n",
            " [0.17768038 0.82231962]]\n"
          ],
          "name": "stdout"
        },
        {
          "output_type": "execute_result",
          "data": {
            "text/plain": [
              "<matplotlib.axes._subplots.AxesSubplot at 0x7f4265651dd8>"
            ]
          },
          "metadata": {
            "tags": []
          },
          "execution_count": 52
        },
        {
          "output_type": "display_data",
          "data": {
            "image/png": "[encoded data removed]",
            "text/plain": [
              "<Figure size 432x288 with 2 Axes>"
            ]
          },
          "metadata": {
            "tags": []
          }
        },
        {
          "output_type": "display_data",
          "data": {
            "image/png": "[encoded data removed]",
            "text/plain": [
              "<Figure size 432x288 with 2 Axes>"
            ]
          },
          "metadata": {
            "tags": []
          }
        }
      ]
    },
    {
      "cell_type": "code",
      "metadata": {
        "id": "cLZDZ9trwzV1",
        "colab_type": "code",
        "outputId": "d9dd375f-33e9-4eda-c2ab-0635b0a8b070",
        "colab": {
          "base_uri": "https://localhost:8080/",
          "height": 277
        }
      },
      "source": [
        "arts_p,arts_r,arts_a,arts_f1 = evaluation_summary(\"Self Attention-Article and sources\", pred4.detach().numpy(), y_test)"
      ],
      "execution_count": 0,
      "outputs": [
        {
          "output_type": "stream",
          "text": [
            "Evaluation for: Self Attention-Article and sources\n",
            "Classifier 'Self Attention-Article and sources' has Acc=0.861 P=0.861 R=0.863 F1=0.861\n",
            "              precision    recall  f1-score   support\n",
            "\n",
            "         0.0      0.900     0.834     0.866      3177\n",
            "         1.0      0.822     0.892     0.856      2735\n",
            "\n",
            "    accuracy                          0.861      5912\n",
            "   macro avg      0.861     0.863     0.861      5912\n",
            "weighted avg      0.864     0.861     0.861      5912\n",
            "\n",
            "\n",
            "Confusion matrix:\n",
            " [[2650  296]\n",
            " [ 527 2439]]\n"
          ],
          "name": "stdout"
        }
      ]
    },
    {
      "cell_type": "code",
      "metadata": {
        "id": "kxHEvviXw29j",
        "colab_type": "code",
        "outputId": "44d67d44-888a-4c9f-fcb4-37e813c6ea0c",
        "colab": {
          "base_uri": "https://localhost:8080/",
          "height": 35
        }
      },
      "source": [
        "fpr, tpr, thresholds = roc_curve(y_test, pred4.detach().numpy())\n",
        "auc_arts = auc(fpr, tpr)\n",
        "print(\"Self Attention-Article_souces AUC-\",auc_arts)"
      ],
      "execution_count": 0,
      "outputs": [
        {
          "output_type": "stream",
          "text": [
            "Self Attention-Article_souces AUC- 0.8609222008744499\n"
          ],
          "name": "stdout"
        }
      ]
    },
    {
      "cell_type": "code",
      "metadata": {
        "id": "WDKyl96ow6ba",
        "colab_type": "code",
        "outputId": "9de6420e-277f-4c76-8c16-fad5a12c7b1b",
        "colab": {
          "base_uri": "https://localhost:8080/",
          "height": 89
        }
      },
      "source": [
        "# Visulaisation\n",
        "test_last_idx = 15\n",
        "wts4 = get_activation_wts(attention_model4,Variable(torch.from_numpy(x_test_pad_cl[:test_last_idx]).type(torch.LongTensor)),\n",
        "                             Variable(torch.from_numpy(x_test_pad[:test_last_idx]).type(torch.LongTensor)),\n",
        "                        Variable(torch.from_numpy(x_test_pad_cls[:test_last_idx]).type(torch.LongTensor)),\n",
        "                        Variable(torch.from_numpy(x_test_pad_s[:test_last_idx]).type(torch.LongTensor)))\n",
        "print(wts4.size())\n",
        "visualize_attention(wts4,x_test_pad[:test_last_idx],word_to_id,filename='attention_art_sources.html')"
      ],
      "execution_count": 0,
      "outputs": [
        {
          "output_type": "stream",
          "text": [
            "torch.Size([15, 10, 150])\n",
            "Attention visualization created for 15 samples\n"
          ],
          "name": "stdout"
        },
        {
          "output_type": "stream",
          "text": [
            "/usr/local/lib/python3.6/dist-packages/ipykernel_launcher.py:99: UserWarning: Implicit dimension choice for softmax has been deprecated. Change the call to include dim=X as an argument.\n"
          ],
          "name": "stderr"
        }
      ]
    },
    {
      "cell_type": "markdown",
      "metadata": {
        "id": "t3ADn0xMAUeo",
        "colab_type": "text"
      },
      "source": [
        "## Full Model using Batchwise dot"
      ]
    },
    {
      "cell_type": "code",
      "metadata": {
        "id": "IA-faCuQAZIq",
        "colab_type": "code",
        "colab": {}
      },
      "source": [
        "# The full model buing rather than just using element-wise multiplication to combine the two self-attentions outputs, we use batch-wise dot product.\n",
        "# The batch-wise dot product is a technique mentioned by lin et al.(2017) in their paper.\n",
        "class StructuredSelfAttention(torch.nn.Module):\n",
        "    \"\"\"\n",
        "    The class is an implementation of the paper A Structured Self-Attentive Sentence Embedding including regularization\n",
        "    and without pruning. Slight modifications have been done for speedup\n",
        "    \"\"\"\n",
        "    def __init__(self,batch_size,lstm_hid_dim,d_a,r,max_len,emb_dim=100,vocab_size=None,use_pretrained_embeddings = False,embeddings=None,type= 0,n_classes = 1):\n",
        "        \"\"\"\n",
        "        Initializes parameters suggested in paper\n",
        " \n",
        "        Args:\n",
        "            batch_size  : {int} batch_size used for training\n",
        "            lstm_hid_dim: {int} hidden dimension for lstm\n",
        "            d_a         : {int} hidden dimension for the dense layer\n",
        "            r           : {int} attention-hops or attention heads\n",
        "            max_len     : {int} number of lstm timesteps\n",
        "            emb_dim     : {int} embeddings dimension\n",
        "            vocab_size  : {int} size of the vocabulary\n",
        "            use_pretrained_embeddings: {bool} use or train your own embeddings\n",
        "            embeddings  : {torch.FloatTensor} loaded pretrained embeddings\n",
        "            type        : [0,1] 0-->binary_classification 1-->multiclass classification\n",
        "            n_classes   : {int} number of classes\n",
        " \n",
        "        Returns:\n",
        "            self\n",
        " \n",
        "        Raises:\n",
        "            Exception\n",
        "        \"\"\"\n",
        "        super(StructuredSelfAttention,self).__init__()\n",
        "        # Model layers initialization.\n",
        "        # Claim related layers\n",
        "        self.embeddings,emb_dim = self._load_embeddings(use_pretrained_embeddings,embeddings,vocab_size,emb_dim)\n",
        "        self.lstm = torch.nn.LSTM(emb_dim,lstm_hid_dim,1,batch_first=True)\n",
        "        self.linear_first = torch.nn.Linear(lstm_hid_dim,d_a)\n",
        "        self.linear_first.bias.data.fill_(0)\n",
        "        self.linear_second = torch.nn.Linear(d_a,r)\n",
        "        self.linear_second.bias.data.fill_(0)\n",
        "        self.n_classes = n_classes\n",
        "        # Article related layers\n",
        "        self.embeddings2,emb_dim = self._load_embeddings(use_pretrained_embeddings,embeddings,vocab_size,emb_dim)\n",
        "        self.lstm2 = torch.nn.LSTM(emb_dim,lstm_hid_dim,1,batch_first=True)\n",
        "        self.linear_first2 = torch.nn.Linear(lstm_hid_dim,d_a)\n",
        "        self.linear_first2.bias.data.fill_(0)\n",
        "        self.linear_second2 = torch.nn.Linear(d_a,r)\n",
        "        self.linear_second2.bias.data.fill_(0)\n",
        "        # ources related layers\n",
        "        self.embeddings3,emb_dim = self._load_embeddings(use_pretrained_embeddings,embeddings,vocab_size,emb_dim)\n",
        "        self.embeddings4,emb_dim = self._load_embeddings(use_pretrained_embeddings,embeddings,vocab_size,emb_dim)\n",
        "        \n",
        "        self.linear_penul = torch.nn.Linear(3*lstm_hid_dim,8)\n",
        "        self.linear_final = torch.nn.Linear(8,self.n_classes)\n",
        "        self.batch_size = batch_size       \n",
        "        self.max_len = max_len\n",
        "        self.lstm_hid_dim = lstm_hid_dim\n",
        "        self.hidden_state = self.init_hidden()\n",
        "        self.r = r\n",
        "        self.type = type\n",
        "                 \n",
        "    def _load_embeddings(self,use_pretrained_embeddings,embeddings,vocab_size,emb_dim):\n",
        "        \"\"\"Load the embeddings based on flag\"\"\"\n",
        "        if use_pretrained_embeddings is True and embeddings is None:\n",
        "            raise Exception(\"Send a pretrained word embedding as an argument\")\n",
        "        \n",
        "        if not use_pretrained_embeddings and vocab_size is None:\n",
        "            raise Exception(\"Vocab size cannot be empty\")\n",
        "\n",
        "        if not use_pretrained_embeddings:\n",
        "            word_embeddings = torch.nn.Embedding(vocab_size,emb_dim,padding_idx=0)\n",
        "            \n",
        "        elif use_pretrained_embeddings:\n",
        "            word_embeddings = torch.nn.Embedding(embeddings.size(0), embeddings.size(1))\n",
        "            word_embeddings.weight = torch.nn.Parameter(embeddings)\n",
        "            emb_dim = embeddings.size(1)\n",
        "            \n",
        "        return word_embeddings,emb_dim\n",
        "       \n",
        "        \n",
        "    def softmax(self,input, axis=1):\n",
        "        \"\"\"\n",
        "        Softmax applied to axis=n\n",
        " \n",
        "        Args:\n",
        "           input: {Tensor,Variable} input on which softmax is to be applied\n",
        "           axis : {int} axis on which softmax is to be applied\n",
        " \n",
        "        Returns:\n",
        "            softmaxed tensors\n",
        " \n",
        "       \n",
        "        \"\"\"\n",
        "        input_size = input.size()\n",
        "        trans_input = input.transpose(axis, len(input_size)-1)\n",
        "        trans_size = trans_input.size()\n",
        "        input_2d = trans_input.contiguous().view(-1, trans_size[-1])\n",
        "        soft_max_2d = F.softmax(input_2d)\n",
        "        soft_max_nd = soft_max_2d.view(*trans_size)\n",
        "        return soft_max_nd.transpose(axis, len(input_size)-1)\n",
        "       \n",
        "        \n",
        "    def init_hidden(self):\n",
        "        return (Variable(torch.zeros(1,self.batch_size,self.lstm_hid_dim)),Variable(torch.zeros(1,self.batch_size,self.lstm_hid_dim)))\n",
        "       \n",
        "        \n",
        "    def forward(self,x,y,xs,ys):\n",
        "        embeddings = self.embeddings(x) # claim embedding\n",
        "        embeddings_part_y = self.embeddings(y[:,:100]) # article embedding uing first 100 values\n",
        "        main_embedding  = torch.cat((embeddings, embeddings_part_y), 1) # combination of the two\n",
        "        # Bi-LSTM layer\n",
        "        outputs, self.hidden_state = self.lstm(main_embedding.view(self.batch_size,self.max_len,-1),self.hidden_state)  \n",
        "        # Self-attention mechanism     \n",
        "        x = torch.tanh(self.linear_first(outputs))       \n",
        "        x = self.linear_second(x)       \n",
        "        x = self.softmax(x,1)       \n",
        "        attention = x.transpose(1,2)  \n",
        "        sentence_embeddings = attention@outputs\n",
        "        # Creation of a random weight matrix\n",
        "        rand_wt = torch.from_numpy(np.random.rand(sentence_embeddings.shape[0], sentence_embeddings.shape[1],sentence_embeddings.shape[1])) \n",
        "        # Multiply the output of the the weight matrix and self-attention output using batch-wise multiplication \n",
        "        factor_rel1 = torch.bmm(sentence_embeddings.transpose(2,1), rand_wt.float()).transpose(2,1)\n",
        "\n",
        "        # Same process is followed for article only input.\n",
        "        embeddings2 = self.embeddings2(y)    \n",
        "        outputs2, self.hidden_state2 = self.lstm2(embeddings2.view(self.batch_size,self.max_len,-1),self.hidden_state)       \n",
        "        x2 = torch.tanh(self.linear_first2(outputs2))       \n",
        "        x2 = self.linear_second2(x2)       \n",
        "        x2 = self.softmax(x2,1)       \n",
        "        attention2 = x2.transpose(1,2)       \n",
        "        sentence_embeddings2 = attention2@outputs2\n",
        "        \n",
        "        rand_wt2 = torch.from_numpy(np.random.rand(sentence_embeddings2.shape[0], sentence_embeddings2.shape[1],sentence_embeddings2.shape[1]))\n",
        "        factor_rel2 = torch.bmm(sentence_embeddings2.transpose(2,1), rand_wt2.float()).transpose(2,1)\n",
        "        # Take element-wise multiplication of the two outputs of BMM.\n",
        "        ele_mul = factor_rel1 * factor_rel2\n",
        "        # Average of the output\n",
        "        avg_sentence_embeddings = torch.sum(ele_mul,1)/self.r\n",
        "\n",
        "        # Claim and article embeddings\n",
        "        embeddings3 = self.embeddings3(xs)\n",
        "        embeddings4 = self.embeddings4(ys) \n",
        "        # Average of the embeddings\n",
        "        avg_csource_embeddings = torch.sum(embeddings3,1)/self.r\n",
        "        avg_asource_embeddings = torch.sum(embeddings4,1)/self.r\n",
        "        # Combined average of all three averages\n",
        "        comb_avg = torch.cat((avg_sentence_embeddings, avg_csource_embeddings, avg_asource_embeddings), 1)\n",
        "        \n",
        "        dense1 = self.linear_penul(comb_avg) \n",
        "        output = torch.sigmoid(self.linear_final(dense1))\n",
        "        return output,attention2\n",
        "        \n",
        "    #Regularization\n",
        "    def l2_matrix_norm(self,m):\n",
        "        \"\"\"\n",
        "        Frobenius norm calculation\n",
        " \n",
        "        Args:\n",
        "           m: {Variable} ||AAT - I||\n",
        " \n",
        "        Returns:\n",
        "            regularized value\n",
        " \n",
        "       \n",
        "        \"\"\"\n",
        "        return torch.sum(torch.sum(torch.sum(m**2,1),1)**0.5).type(torch.DoubleTensor)"
      ],
      "execution_count": 0,
      "outputs": []
    },
    {
      "cell_type": "code",
      "metadata": {
        "id": "Ipz-9qWVBEAz",
        "colab_type": "code",
        "outputId": "c7e45f62-ce24-4d44-b3eb-8e44a6b55ef2",
        "colab": {
          "base_uri": "https://localhost:8080/",
          "height": 159
        }
      },
      "source": [
        "# Initialize and train the output\n",
        "attention_model5 = StructuredSelfAttention(batch_size=train_loader.batch_size,lstm_hid_dim=model_params['lstm_hidden_dimension'],d_a = model_params[\"d_a\"],r=params_set[\"attention_hops\"],vocab_size=len(word_to_id),max_len=MAXLENGTH,type=0,n_classes=1,use_pretrained_embeddings=True,embeddings=embeddings)\n",
        "\n",
        "loss, acc = binary_classfication(attention_model5,train_loader=train_loader,epochs=2,use_regularization=False,C=params_set[\"C\"],clip=params_set[\"clip\"])\n"
      ],
      "execution_count": 0,
      "outputs": [
        {
          "output_type": "stream",
          "text": [
            "Running EPOCH 1\n"
          ],
          "name": "stdout"
        },
        {
          "output_type": "stream",
          "text": [
            "/usr/local/lib/python3.6/dist-packages/ipykernel_launcher.py:96: UserWarning: Implicit dimension choice for softmax has been deprecated. Change the call to include dim=X as an argument.\n"
          ],
          "name": "stderr"
        },
        {
          "output_type": "stream",
          "text": [
            "avg_loss is tensor(1.2289, dtype=torch.float64)\n",
            "Accuracy of the model 0.7375594429347826\n",
            "Running EPOCH 2\n",
            "avg_loss is tensor(0.0683, dtype=torch.float64)\n",
            "Accuracy of the model 0.974991508152174\n"
          ],
          "name": "stdout"
        }
      ]
    },
    {
      "cell_type": "code",
      "metadata": {
        "id": "CjkNKmssBPDo",
        "colab_type": "code",
        "outputId": "3cc07b27-a236-4639-c2f4-8b870be4e717",
        "colab": {
          "base_uri": "https://localhost:8080/",
          "height": 72
        }
      },
      "source": [
        "# Accuracy of the test data\n",
        "acc5, pred5 = evaluate(attention_model5, x_test_pad_cl, x_test_pad, x_test_pad_cls, x_test_pad_s, y_test)\n",
        "print(acc5)"
      ],
      "execution_count": 0,
      "outputs": [
        {
          "output_type": "stream",
          "text": [
            "/usr/local/lib/python3.6/dist-packages/ipykernel_launcher.py:96: UserWarning: Implicit dimension choice for softmax has been deprecated. Change the call to include dim=X as an argument.\n"
          ],
          "name": "stderr"
        },
        {
          "output_type": "stream",
          "text": [
            "0.9582205683355887\n"
          ],
          "name": "stdout"
        }
      ]
    },
    {
      "cell_type": "code",
      "metadata": {
        "id": "_zjrROjYCTWU",
        "colab_type": "code",
        "outputId": "84094ba3-5936-4b06-df76-7181243b3d10",
        "colab": {
          "base_uri": "https://localhost:8080/",
          "height": 699
        }
      },
      "source": [
        "plot_confusion_matrix(y_test,pred5.detach().numpy(),[0,1])\n",
        "plot_confusion_matrix(y_test,pred5.detach().numpy(),[0,1], normalize=True)"
      ],
      "execution_count": 0,
      "outputs": [
        {
          "output_type": "stream",
          "text": [
            "Confusion matrix, without normalization\n",
            "[[2821  125]\n",
            " [ 122 2844]]\n",
            "Normalized confusion matrix\n",
            "[[0.95756959 0.04243041]\n",
            " [0.04113284 0.95886716]]\n"
          ],
          "name": "stdout"
        },
        {
          "output_type": "execute_result",
          "data": {
            "text/plain": [
              "<matplotlib.axes._subplots.AxesSubplot at 0x7f4260097f60>"
            ]
          },
          "metadata": {
            "tags": []
          },
          "execution_count": 68
        },
        {
          "output_type": "display_data",
          "data": {
            "image/png": "[encoded data removed]",
            "text/plain": [
              "<Figure size 432x288 with 2 Axes>"
            ]
          },
          "metadata": {
            "tags": []
          }
        },
        {
          "output_type": "display_data",
          "data": {
            "image/png": "[encoded data removed]",
            "text/plain": [
              "<Figure size 432x288 with 2 Axes>"
            ]
          },
          "metadata": {
            "tags": []
          }
        }
      ]
    },
    {
      "cell_type": "code",
      "metadata": {
        "id": "Oc0goin7CTSn",
        "colab_type": "code",
        "outputId": "e6b3f0b4-c8c9-4812-a71b-30eda81b0f78",
        "colab": {
          "base_uri": "https://localhost:8080/",
          "height": 277
        }
      },
      "source": [
        "batch_p,batch_r,batch_a,batch_f1 = evaluation_summary(\"Self Attention-Article and sources\", pred5.detach().numpy(), y_test)"
      ],
      "execution_count": 0,
      "outputs": [
        {
          "output_type": "stream",
          "text": [
            "Evaluation for: Self Attention-Article and sources\n",
            "Classifier 'Self Attention-Article and sources' has Acc=0.958 P=0.958 R=0.958 F1=0.958\n",
            "              precision    recall  f1-score   support\n",
            "\n",
            "         0.0      0.958     0.959     0.958      2943\n",
            "         1.0      0.959     0.958     0.958      2969\n",
            "\n",
            "    accuracy                          0.958      5912\n",
            "   macro avg      0.958     0.958     0.958      5912\n",
            "weighted avg      0.958     0.958     0.958      5912\n",
            "\n",
            "\n",
            "Confusion matrix:\n",
            " [[2821  125]\n",
            " [ 122 2844]]\n"
          ],
          "name": "stdout"
        }
      ]
    },
    {
      "cell_type": "code",
      "metadata": {
        "id": "Ah0xu_kLC1gb",
        "colab_type": "code",
        "outputId": "423d039a-7a99-419c-bf34-7918add9c54f",
        "colab": {
          "base_uri": "https://localhost:8080/",
          "height": 35
        }
      },
      "source": [
        "fpr, tpr, thresholds = roc_curve(y_test, pred5.detach().numpy())\n",
        "auc_batch = auc(fpr, tpr)\n",
        "print(\"Self Attention-Article_souces AUC-\",auc_batch)"
      ],
      "execution_count": 0,
      "outputs": [
        {
          "output_type": "stream",
          "text": [
            "Self Attention-Article_souces AUC- 0.9582183735194847\n"
          ],
          "name": "stdout"
        }
      ]
    },
    {
      "cell_type": "code",
      "metadata": {
        "id": "fgrULbGVC-g8",
        "colab_type": "code",
        "outputId": "0bfcf515-414f-4a78-e19f-a70557875e7c",
        "colab": {
          "base_uri": "https://localhost:8080/",
          "height": 89
        }
      },
      "source": [
        "# Visulaisation\n",
        "test_last_idx = 15\n",
        "wts5 = get_activation_wts(attention_model5,Variable(torch.from_numpy(x_test_pad_cl[:test_last_idx]).type(torch.LongTensor)),\n",
        "                             Variable(torch.from_numpy(x_test_pad[:test_last_idx]).type(torch.LongTensor)),\n",
        "                        Variable(torch.from_numpy(x_test_pad_cls[:test_last_idx]).type(torch.LongTensor)),\n",
        "                        Variable(torch.from_numpy(x_test_pad_s[:test_last_idx]).type(torch.LongTensor)))\n",
        "print(wts5.size())\n",
        "visualize_attention(wts5,x_test_pad[:test_last_idx],word_to_id,filename='attention_batch_dot.html')"
      ],
      "execution_count": 0,
      "outputs": [
        {
          "output_type": "stream",
          "text": [
            "torch.Size([15, 10, 150])\n",
            "Attention visualization created for 15 samples\n"
          ],
          "name": "stdout"
        },
        {
          "output_type": "stream",
          "text": [
            "/usr/local/lib/python3.6/dist-packages/ipykernel_launcher.py:96: UserWarning: Implicit dimension choice for softmax has been deprecated. Change the call to include dim=X as an argument.\n"
          ],
          "name": "stderr"
        }
      ]
    },
    {
      "cell_type": "markdown",
      "metadata": {
        "id": "EaczWn08sSTj",
        "colab_type": "text"
      },
      "source": [
        "##Evaluation on Unique Claims"
      ]
    },
    {
      "cell_type": "markdown",
      "metadata": {
        "id": "ej6cJ2SgzgC8",
        "colab_type": "text"
      },
      "source": [
        "Due to the problem of experimental bias introduced into the model, we test the performance of the Hybrid model on unique claims. This bias is introduced because a claim can be associated with many articles and hence can be repeated in traning and test data making it seen data for the model when testing."
      ]
    },
    {
      "cell_type": "code",
      "metadata": {
        "id": "Ib8RGSXBsWrC",
        "colab_type": "code",
        "outputId": "8c793d59-5907-40f4-acf3-5930913b4b1e",
        "colab": {
          "base_uri": "https://localhost:8080/",
          "height": 569
        }
      },
      "source": [
        "# For full model\n",
        "x_test_or['bin_cred_label'] = y_test\n",
        "x_test_or['pred_label_full'] = pred.detach().numpy()\n",
        "unique_test_or2 = x_test_or[~x_test_or['claim_text'].isin(x_train_or['claim_text'])]\n",
        "unique_test_or2.head()"
      ],
      "execution_count": 37,
      "outputs": [
        {
          "output_type": "execute_result",
          "data": {
            "text/html": [
              "<div>\n",
              "<style scoped>\n",
              "    .dataframe tbody tr th:only-of-type {\n",
              "        vertical-align: middle;\n",
              "    }\n",
              "\n",
              "    .dataframe tbody tr th {\n",
              "        vertical-align: top;\n",
              "    }\n",
              "\n",
              "    .dataframe thead th {\n",
              "        text-align: right;\n",
              "    }\n",
              "</style>\n",
              "<table border=\"1\" class=\"dataframe\">\n",
              "  <thead>\n",
              "    <tr style=\"text-align: right;\">\n",
              "      <th></th>\n",
              "      <th>cred_label</th>\n",
              "      <th>claim_id</th>\n",
              "      <th>claim_text</th>\n",
              "      <th>claim_source</th>\n",
              "      <th>article</th>\n",
              "      <th>article_source</th>\n",
              "      <th>bin_cred_label</th>\n",
              "      <th>pred_label2</th>\n",
              "      <th>pred_label_full</th>\n",
              "    </tr>\n",
              "  </thead>\n",
              "  <tbody>\n",
              "    <tr>\n",
              "      <th>11976</th>\n",
              "      <td>Pants on Fire!</td>\n",
              "      <td>2017_apr_11_sean-spicer_did-adolf-hitler-use-c...</td>\n",
              "      <td>says adolf hitler didnt even using chemical we...</td>\n",
              "      <td>sean spicer</td>\n",
              "      <td>even hitler didnt sink to using chemical weapo...</td>\n",
              "      <td>independent.co.uk</td>\n",
              "      <td>0.0</td>\n",
              "      <td>0.0</td>\n",
              "      <td>0.0</td>\n",
              "    </tr>\n",
              "    <tr>\n",
              "      <th>2760</th>\n",
              "      <td>Half-True</td>\n",
              "      <td>2010_dec_03_michael-steele_rnc-chair-michael-s...</td>\n",
              "      <td>elections chairman since 1938</td>\n",
              "      <td>michael steele</td>\n",
              "      <td>strengthening constitutional publications the ...</td>\n",
              "      <td>ashbrook.org</td>\n",
              "      <td>1.0</td>\n",
              "      <td>1.0</td>\n",
              "      <td>0.0</td>\n",
              "    </tr>\n",
              "    <tr>\n",
              "      <th>24400</th>\n",
              "      <td>False</td>\n",
              "      <td>2011_jun_28_jim-demint_jim-demint-says-federal...</td>\n",
              "      <td>weve got revenue ever</td>\n",
              "      <td>jim demint</td>\n",
              "      <td>12th out of 13 conference usa athletic departm...</td>\n",
              "      <td>hattiesburgamerican.com</td>\n",
              "      <td>0.0</td>\n",
              "      <td>0.0</td>\n",
              "      <td>0.0</td>\n",
              "    </tr>\n",
              "    <tr>\n",
              "      <th>8775</th>\n",
              "      <td>False</td>\n",
              "      <td>2010_nov_11_rand-paul_rand-paul-says-federal-w...</td>\n",
              "      <td>average federal employee makes year average pr...</td>\n",
              "      <td>rand paul</td>\n",
              "      <td>represent federal workers say on average they ...</td>\n",
              "      <td>factcheck.org</td>\n",
              "      <td>0.0</td>\n",
              "      <td>1.0</td>\n",
              "      <td>1.0</td>\n",
              "    </tr>\n",
              "    <tr>\n",
              "      <th>15203</th>\n",
              "      <td>False</td>\n",
              "      <td>2011_jan_07_steny-hoyer_steny-hoyer-says-gop-d...</td>\n",
              "      <td>preparing rules package 112th congress gop no ...</td>\n",
              "      <td>steny hoyer</td>\n",
              "      <td>online ahead of a slated jan 4 organizational ...</td>\n",
              "      <td>washingtonpost.com</td>\n",
              "      <td>0.0</td>\n",
              "      <td>0.0</td>\n",
              "      <td>0.0</td>\n",
              "    </tr>\n",
              "  </tbody>\n",
              "</table>\n",
              "</div>"
            ],
            "text/plain": [
              "           cred_label  ... pred_label_full\n",
              "11976  Pants on Fire!  ...             0.0\n",
              "2760        Half-True  ...             0.0\n",
              "24400           False  ...             0.0\n",
              "8775            False  ...             1.0\n",
              "15203           False  ...             0.0\n",
              "\n",
              "[5 rows x 9 columns]"
            ]
          },
          "metadata": {
            "tags": []
          },
          "execution_count": 37
        }
      ]
    },
    {
      "cell_type": "code",
      "metadata": {
        "id": "laV8y5eBsjES",
        "colab_type": "code",
        "colab": {}
      },
      "source": [
        "bin_pred2=unique_test_or2['bin_cred_label'].tolist()\n",
        "pred_val2=unique_test_or2['pred_label_full'].tolist()"
      ],
      "execution_count": 0,
      "outputs": []
    },
    {
      "cell_type": "code",
      "metadata": {
        "id": "V4zk7CE3spIs",
        "colab_type": "code",
        "outputId": "ece9a35a-c407-49d8-c6dd-9210a04951c4",
        "colab": {
          "base_uri": "https://localhost:8080/",
          "height": 699
        }
      },
      "source": [
        "plot_confusion_matrix(bin_pred2,pred_val2,[0,1])\n",
        "plot_confusion_matrix(bin_pred2,pred_val2,[0,1], normalize=True)"
      ],
      "execution_count": 39,
      "outputs": [
        {
          "output_type": "stream",
          "text": [
            "Confusion matrix, without normalization\n",
            "[[54 40]\n",
            " [28 37]]\n",
            "Normalized confusion matrix\n",
            "[[0.57446809 0.42553191]\n",
            " [0.43076923 0.56923077]]\n"
          ],
          "name": "stdout"
        },
        {
          "output_type": "execute_result",
          "data": {
            "text/plain": [
              "<matplotlib.axes._subplots.AxesSubplot at 0x7fd8c772bb38>"
            ]
          },
          "metadata": {
            "tags": []
          },
          "execution_count": 39
        },
        {
          "output_type": "display_data",
          "data": {
            "image/png": "[encoded data removed]",
            "text/plain": [
              "<Figure size 432x288 with 2 Axes>"
            ]
          },
          "metadata": {
            "tags": []
          }
        },
        {
          "output_type": "display_data",
          "data": {
            "image/png": "[encoded data removed]",
            "text/plain": [
              "<Figure size 432x288 with 2 Axes>"
            ]
          },
          "metadata": {
            "tags": []
          }
        }
      ]
    },
    {
      "cell_type": "code",
      "metadata": {
        "id": "3h77GFZ4spwl",
        "colab_type": "code",
        "outputId": "96788e99-d9e9-4c18-e9b8-9ca42883cf87",
        "colab": {
          "base_uri": "https://localhost:8080/",
          "height": 277
        }
      },
      "source": [
        "ac_p,ac_r,ac_a,ac_f1 = evaluation_summary(\"Self Attention-article and claim\", pred_val2, bin_pred2)"
      ],
      "execution_count": 40,
      "outputs": [
        {
          "output_type": "stream",
          "text": [
            "Evaluation for: Self Attention-article and claim\n",
            "Classifier 'Self Attention-article and claim' has Acc=0.572 P=0.572 R=0.570 F1=0.567\n",
            "              precision    recall  f1-score   support\n",
            "\n",
            "         0.0      0.574     0.659     0.614        82\n",
            "         1.0      0.569     0.481     0.521        77\n",
            "\n",
            "    accuracy                          0.572       159\n",
            "   macro avg      0.572     0.570     0.567       159\n",
            "weighted avg      0.572     0.572     0.569       159\n",
            "\n",
            "\n",
            "Confusion matrix:\n",
            " [[54 40]\n",
            " [28 37]]\n"
          ],
          "name": "stdout"
        }
      ]
    },
    {
      "cell_type": "code",
      "metadata": {
        "id": "--d7_OuFstNJ",
        "colab_type": "code",
        "outputId": "782cbdff-8529-479b-a4fc-b771f56d2d9a",
        "colab": {
          "base_uri": "https://localhost:8080/",
          "height": 35
        }
      },
      "source": [
        "fpr, tpr, thresholds = roc_curve(bin_pred2, pred_val2)\n",
        "auc_arts = auc(fpr, tpr)\n",
        "print(\"Self Attention-Article_souces AUC-\",auc_arts)"
      ],
      "execution_count": 41,
      "outputs": [
        {
          "output_type": "stream",
          "text": [
            "Self Attention-Article_souces AUC- 0.5718494271685761\n"
          ],
          "name": "stdout"
        }
      ]
    },
    {
      "cell_type": "code",
      "metadata": {
        "id": "ynUS8fN4swEZ",
        "colab_type": "code",
        "outputId": "db94f111-3075-4a80-ae72-d8d21edfc1fc",
        "colab": {
          "base_uri": "https://localhost:8080/",
          "height": 225
        }
      },
      "source": [
        "label_counts = unique_test_or2['bin_cred_label'].value_counts()\n",
        "print(label_counts.describe())\n",
        "top_labels = label_counts.nlargest(5)\n",
        "top_labels_list = top_labels.index.tolist()\n",
        "print(top_labels)"
      ],
      "execution_count": 29,
      "outputs": [
        {
          "output_type": "stream",
          "text": [
            "count     2.000000\n",
            "mean     79.500000\n",
            "std      20.506097\n",
            "min      65.000000\n",
            "25%      72.250000\n",
            "50%      79.500000\n",
            "75%      86.750000\n",
            "max      94.000000\n",
            "Name: bin_cred_label, dtype: float64\n",
            "0.0    94\n",
            "1.0    65\n",
            "Name: bin_cred_label, dtype: int64\n"
          ],
          "name": "stdout"
        }
      ]
    },
    {
      "cell_type": "code",
      "metadata": {
        "id": "y8NcHl0AszAM",
        "colab_type": "code",
        "outputId": "19073b17-d921-47a4-b191-43673f95cb60",
        "colab": {
          "base_uri": "https://localhost:8080/",
          "height": 1000
        }
      },
      "source": [
        "incorrect2 = unique_test_or2[unique_test_or2['bin_cred_label']!=unique_test_or2['pred_label_full'].astype(int)]\n",
        "incorrect2"
      ],
      "execution_count": 30,
      "outputs": [
        {
          "output_type": "execute_result",
          "data": {
            "text/html": [
              "<div>\n",
              "<style scoped>\n",
              "    .dataframe tbody tr th:only-of-type {\n",
              "        vertical-align: middle;\n",
              "    }\n",
              "\n",
              "    .dataframe tbody tr th {\n",
              "        vertical-align: top;\n",
              "    }\n",
              "\n",
              "    .dataframe thead th {\n",
              "        text-align: right;\n",
              "    }\n",
              "</style>\n",
              "<table border=\"1\" class=\"dataframe\">\n",
              "  <thead>\n",
              "    <tr style=\"text-align: right;\">\n",
              "      <th></th>\n",
              "      <th>cred_label</th>\n",
              "      <th>claim_id</th>\n",
              "      <th>claim_text</th>\n",
              "      <th>claim_source</th>\n",
              "      <th>article</th>\n",
              "      <th>article_source</th>\n",
              "      <th>bin_cred_label</th>\n",
              "      <th>pred_label_full</th>\n",
              "    </tr>\n",
              "  </thead>\n",
              "  <tbody>\n",
              "    <tr>\n",
              "      <th>8775</th>\n",
              "      <td>False</td>\n",
              "      <td>2010_nov_11_rand-paul_rand-paul-says-federal-w...</td>\n",
              "      <td>average federal employee makes year average pr...</td>\n",
              "      <td>rand paul</td>\n",
              "      <td>represent federal workers say on average they ...</td>\n",
              "      <td>factcheck.org</td>\n",
              "      <td>0.0</td>\n",
              "      <td>1.0</td>\n",
              "    </tr>\n",
              "    <tr>\n",
              "      <th>4483</th>\n",
              "      <td>Mostly False</td>\n",
              "      <td>2011_jun_24_tim-pawlenty_pawlenty-says-obama-g...</td>\n",
              "      <td>says president barack obama promised would cut...</td>\n",
              "      <td>tim pawlenty</td>\n",
              "      <td>long after that that i lost interest i would r...</td>\n",
              "      <td>wordpress.com</td>\n",
              "      <td>0.0</td>\n",
              "      <td>1.0</td>\n",
              "    </tr>\n",
              "    <tr>\n",
              "      <th>18331</th>\n",
              "      <td>True</td>\n",
              "      <td>2008_jan_06_hillary-clinton_lobbyists-live-in-...</td>\n",
              "      <td>sen obamas chair new hampshire lobbyist lobbie...</td>\n",
              "      <td>hillary clinton</td>\n",
              "      <td>the defensive about her husband when edwards a...</td>\n",
              "      <td>go.com</td>\n",
              "      <td>1.0</td>\n",
              "      <td>0.0</td>\n",
              "    </tr>\n",
              "    <tr>\n",
              "      <th>18203</th>\n",
              "      <td>Mostly False</td>\n",
              "      <td>2017_apr_27_donald-trump_did-trade-deficit-cau...</td>\n",
              "      <td>us recorded slowest economic growth five years...</td>\n",
              "      <td>donald trump</td>\n",
              "      <td>and has continued to complain about it and the...</td>\n",
              "      <td>ifashops.com</td>\n",
              "      <td>0.0</td>\n",
              "      <td>1.0</td>\n",
              "    </tr>\n",
              "    <tr>\n",
              "      <th>1857</th>\n",
              "      <td>Mostly False</td>\n",
              "      <td>2016_feb_03_ted-cruz_ted-cruz-says-median-afri...</td>\n",
              "      <td>eight years ronald reagan median income rose 5000</td>\n",
              "      <td>ted cruz</td>\n",
              "      <td>perkins has calculated that black unemployment...</td>\n",
              "      <td>dailysignal.com</td>\n",
              "      <td>0.0</td>\n",
              "      <td>1.0</td>\n",
              "    </tr>\n",
              "    <tr>\n",
              "      <th>8610</th>\n",
              "      <td>Half-True</td>\n",
              "      <td>244.json</td>\n",
              "      <td>says impressive education record republican ca...</td>\n",
              "      <td>mike huckabee</td>\n",
              "      <td>the republican candidates record on higher edu...</td>\n",
              "      <td>educationdive.com</td>\n",
              "      <td>1.0</td>\n",
              "      <td>0.0</td>\n",
              "    </tr>\n",
              "    <tr>\n",
              "      <th>2786</th>\n",
              "      <td>Pants on Fire!</td>\n",
              "      <td>2010_dec_16_tim-pawlenty_tim-pawlenty-repeats-...</td>\n",
              "      <td>since january 2008 private sector lost nearly ...</td>\n",
              "      <td>tim pawlenty</td>\n",
              "      <td>up to 24 days of unpaid furlough days while ou...</td>\n",
              "      <td>chicagotribune.com</td>\n",
              "      <td>0.0</td>\n",
              "      <td>1.0</td>\n",
              "    </tr>\n",
              "    <tr>\n",
              "      <th>25902</th>\n",
              "      <td>Half-True</td>\n",
              "      <td>2009_nov_06_mike-pence_us-rep-mike-pence-says-...</td>\n",
              "      <td>result house republican bill nonpartisan congr...</td>\n",
              "      <td>mike pence</td>\n",
              "      <td>a package seemingly meant to address the probl...</td>\n",
              "      <td>talkingpointsmemo.com</td>\n",
              "      <td>1.0</td>\n",
              "      <td>0.0</td>\n",
              "    </tr>\n",
              "    <tr>\n",
              "      <th>10011</th>\n",
              "      <td>Pants on Fire!</td>\n",
              "      <td>2011_mar_04_glenn-beck_glenn-beck-says-first-l...</td>\n",
              "      <td>says michelle obama 43 people staff nancy reag...</td>\n",
              "      <td>glenn beck</td>\n",
              "      <td>has been no recent addition of a personal shop...</td>\n",
              "      <td>mediamatters.org</td>\n",
              "      <td>0.0</td>\n",
              "      <td>1.0</td>\n",
              "    </tr>\n",
              "    <tr>\n",
              "      <th>1517</th>\n",
              "      <td>Pants on Fire!</td>\n",
              "      <td>2010_jan_28_nancy-pfotenhauer_health-care-refo...</td>\n",
              "      <td>presidents health care proposals cause america...</td>\n",
              "      <td>nancy pfotenhauer</td>\n",
              "      <td>ones that are looking at massive tax increases...</td>\n",
              "      <td>google.com</td>\n",
              "      <td>0.0</td>\n",
              "      <td>1.0</td>\n",
              "    </tr>\n",
              "    <tr>\n",
              "      <th>17132</th>\n",
              "      <td>Half-True</td>\n",
              "      <td>2017_nov_30_kevin-brady_does-70-percent-tax-bi...</td>\n",
              "      <td>house republican bill 70 percent tax relief go...</td>\n",
              "      <td>kevin brady</td>\n",
              "      <td>50 percent in 2027 and if you factor in the im...</td>\n",
              "      <td>mystatesman.com</td>\n",
              "      <td>1.0</td>\n",
              "      <td>0.0</td>\n",
              "    </tr>\n",
              "    <tr>\n",
              "      <th>21167</th>\n",
              "      <td>Mostly False</td>\n",
              "      <td>2017_nov_06_patrick-morrisey_do-joe-manchin-an...</td>\n",
              "      <td>says evan jenkins positions issues joe manchin...</td>\n",
              "      <td>patrick morrisey</td>\n",
              "      <td>support clinton planned parenthood and tax hik...</td>\n",
              "      <td>iowaprogressives.com</td>\n",
              "      <td>0.0</td>\n",
              "      <td>1.0</td>\n",
              "    </tr>\n",
              "    <tr>\n",
              "      <th>8517</th>\n",
              "      <td>Mostly False</td>\n",
              "      <td>2012_sep_28_bill-clinton_bill-clinton-says-tar...</td>\n",
              "      <td>says government gotten tarp money back plus pr...</td>\n",
              "      <td>bill clinton</td>\n",
              "      <td>and 2 billion to stabilize multifamily propert...</td>\n",
              "      <td>reason.org</td>\n",
              "      <td>0.0</td>\n",
              "      <td>1.0</td>\n",
              "    </tr>\n",
              "    <tr>\n",
              "      <th>8590</th>\n",
              "      <td>Mostly True</td>\n",
              "      <td>2012_jan_13_winning-our-future_video-says-mitt...</td>\n",
              "      <td>mitt romney tearing house build house</td>\n",
              "      <td>winning our future</td>\n",
              "      <td>mitt romney obtains permission to demolish san...</td>\n",
              "      <td>dailymail.co.uk</td>\n",
              "      <td>1.0</td>\n",
              "      <td>0.0</td>\n",
              "    </tr>\n",
              "    <tr>\n",
              "      <th>16958</th>\n",
              "      <td>Half-True</td>\n",
              "      <td>2012_jun_05_eric-fehrnstrom_mitt-romney-campai...</td>\n",
              "      <td>massachusetts gov mitt romney initially ranked...</td>\n",
              "      <td>eric fehrnstrom</td>\n",
              "      <td>rated the claim half true saying that while th...</td>\n",
              "      <td>newsadvance.com</td>\n",
              "      <td>1.0</td>\n",
              "      <td>0.0</td>\n",
              "    </tr>\n",
              "    <tr>\n",
              "      <th>5583</th>\n",
              "      <td>False</td>\n",
              "      <td>2011_may_11_barack-obama_barack-obama-says-us-...</td>\n",
              "      <td>president barack obama united states doubled e...</td>\n",
              "      <td>barack obama</td>\n",
              "      <td>refugees for us resettlement to 10000 by gardi...</td>\n",
              "      <td>nytimes.com</td>\n",
              "      <td>0.0</td>\n",
              "      <td>1.0</td>\n",
              "    </tr>\n",
              "    <tr>\n",
              "      <th>7932</th>\n",
              "      <td>Mostly True</td>\n",
              "      <td>2008_feb_28_barack-obama_certainly-steve-jobs-...</td>\n",
              "      <td>weve got ceos making 10 minutes ordinary worke...</td>\n",
              "      <td>barack obama</td>\n",
              "      <td>youre really ready then we can start restoring...</td>\n",
              "      <td>ucsb.edu</td>\n",
              "      <td>1.0</td>\n",
              "      <td>0.0</td>\n",
              "    </tr>\n",
              "    <tr>\n",
              "      <th>29276</th>\n",
              "      <td>Pants on Fire!</td>\n",
              "      <td>2012_apr_10_chain-email_chain-email-says-media...</td>\n",
              "      <td>no news coverage raid arizona border seizure f...</td>\n",
              "      <td>chain email</td>\n",
              "      <td>take our guns away no way our country is in bi...</td>\n",
              "      <td>cnn.com</td>\n",
              "      <td>0.0</td>\n",
              "      <td>1.0</td>\n",
              "    </tr>\n",
              "    <tr>\n",
              "      <th>7731</th>\n",
              "      <td>Mostly False</td>\n",
              "      <td>2015_jun_14_john-podesta_hillary-clinton-has-b...</td>\n",
              "      <td>says hillary clintons clear stands trade</td>\n",
              "      <td>john podesta</td>\n",
              "      <td>hillary clinton will take clear position on tr...</td>\n",
              "      <td>huffingtonpost.com</td>\n",
              "      <td>0.0</td>\n",
              "      <td>1.0</td>\n",
              "    </tr>\n",
              "    <tr>\n",
              "      <th>969</th>\n",
              "      <td>False</td>\n",
              "      <td>2015_apr_16_hillary-clinton_hillary-clinton-fl...</td>\n",
              "      <td>says grandparents immigrated america</td>\n",
              "      <td>hillary clinton</td>\n",
              "      <td>sections shows live news network 2017 abc news...</td>\n",
              "      <td>go.com</td>\n",
              "      <td>0.0</td>\n",
              "      <td>1.0</td>\n",
              "    </tr>\n",
              "    <tr>\n",
              "      <th>3700</th>\n",
              "      <td>False</td>\n",
              "      <td>2010_may_19_steve-poizner_california-gop-candi...</td>\n",
              "      <td>benefits illegals california skyrocketing cost...</td>\n",
              "      <td>steve poizner</td>\n",
              "      <td>continue benefits to illegals the first claim ...</td>\n",
              "      <td>factcheck.org</td>\n",
              "      <td>0.0</td>\n",
              "      <td>1.0</td>\n",
              "    </tr>\n",
              "    <tr>\n",
              "      <th>23634</th>\n",
              "      <td>Mostly False</td>\n",
              "      <td>2012_aug_20_special-operations-opsec-education...</td>\n",
              "      <td>days osama bin laden raid hollywood invited wh...</td>\n",
              "      <td>special operations opsec education fund</td>\n",
              "      <td>in the 20th century tubular aluminium became m...</td>\n",
              "      <td>realtoramit.com</td>\n",
              "      <td>0.0</td>\n",
              "      <td>1.0</td>\n",
              "    </tr>\n",
              "    <tr>\n",
              "      <th>23052</th>\n",
              "      <td>Mostly True</td>\n",
              "      <td>2008_sep_03_john-kerry_palin-isnt-convinced-it...</td>\n",
              "      <td>gov palin somebody actually doesnt believe cli...</td>\n",
              "      <td>john kerry</td>\n",
              "      <td>palin kerry said absolutely because what has h...</td>\n",
              "      <td>newsmax.com</td>\n",
              "      <td>1.0</td>\n",
              "      <td>0.0</td>\n",
              "    </tr>\n",
              "    <tr>\n",
              "      <th>21949</th>\n",
              "      <td>Half-True</td>\n",
              "      <td>2008_jul_24_let-freedom-ring_on-the-fence----c...</td>\n",
              "      <td>says obama banning handguns</td>\n",
              "      <td>let freedom ring</td>\n",
              "      <td>tv ad is that obama voted to ban virtually all...</td>\n",
              "      <td>factcheck.org</td>\n",
              "      <td>1.0</td>\n",
              "      <td>0.0</td>\n",
              "    </tr>\n",
              "    <tr>\n",
              "      <th>18176</th>\n",
              "      <td>False</td>\n",
              "      <td>2009_jan_13_spencer-bachus_big-three-wages-inf...</td>\n",
              "      <td>even recent changes average hourly wage genera...</td>\n",
              "      <td>spencer bachus</td>\n",
              "      <td>with some conservatives and it seeps into medi...</td>\n",
              "      <td>factcheck.org</td>\n",
              "      <td>0.0</td>\n",
              "      <td>1.0</td>\n",
              "    </tr>\n",
              "    <tr>\n",
              "      <th>22080</th>\n",
              "      <td>False</td>\n",
              "      <td>2014_jul_07_justin-amash_justin-amash-says-pro...</td>\n",
              "      <td>justin amash rated no 1 conservative national ...</td>\n",
              "      <td>justin amash</td>\n",
              "      <td>for comment ellis continues to lie because hes...</td>\n",
              "      <td>mlive.com</td>\n",
              "      <td>0.0</td>\n",
              "      <td>1.0</td>\n",
              "    </tr>\n",
              "    <tr>\n",
              "      <th>28479</th>\n",
              "      <td>Mostly True</td>\n",
              "      <td>2014_jun_02_john-mccain_john-mccain-says-five-...</td>\n",
              "      <td>five taliban detainees released guantanamo exc...</td>\n",
              "      <td>john mccain</td>\n",
              "      <td>should president trump end chain migration sto...</td>\n",
              "      <td>washingtontimes.com</td>\n",
              "      <td>1.0</td>\n",
              "      <td>0.0</td>\n",
              "    </tr>\n",
              "    <tr>\n",
              "      <th>25357</th>\n",
              "      <td>True</td>\n",
              "      <td>2010_jan_28_john-boehner_boehner-claims-obamas...</td>\n",
              "      <td>president obamas proposed spending freeze redu...</td>\n",
              "      <td>john boehner</td>\n",
              "      <td>when budget cuts weaken the safety net there a...</td>\n",
              "      <td>sfgate.com</td>\n",
              "      <td>1.0</td>\n",
              "      <td>0.0</td>\n",
              "    </tr>\n",
              "    <tr>\n",
              "      <th>13115</th>\n",
              "      <td>False</td>\n",
              "      <td>2010_apr_16_richard-shelby_sen-richard-shelby-...</td>\n",
              "      <td>bill reported committee sets 50 billion slush ...</td>\n",
              "      <td>richard shelby</td>\n",
              "      <td>also said that the bill grants emergency autho...</td>\n",
              "      <td>ecreditdaily.com</td>\n",
              "      <td>0.0</td>\n",
              "      <td>1.0</td>\n",
              "    </tr>\n",
              "    <tr>\n",
              "      <th>7930</th>\n",
              "      <td>Mostly False</td>\n",
              "      <td>2011_jul_20_mitt-romney_mitt-romney-says-presi...</td>\n",
              "      <td>first year president obama said going visit ki...</td>\n",
              "      <td>mitt romney</td>\n",
              "      <td>needed to be i think they saw weakness where t...</td>\n",
              "      <td>politico.com</td>\n",
              "      <td>0.0</td>\n",
              "      <td>1.0</td>\n",
              "    </tr>\n",
              "    <tr>\n",
              "      <th>...</th>\n",
              "      <td>...</td>\n",
              "      <td>...</td>\n",
              "      <td>...</td>\n",
              "      <td>...</td>\n",
              "      <td>...</td>\n",
              "      <td>...</td>\n",
              "      <td>...</td>\n",
              "      <td>...</td>\n",
              "    </tr>\n",
              "    <tr>\n",
              "      <th>28045</th>\n",
              "      <td>Mostly False</td>\n",
              "      <td>2012_jan_08_rick-santorum_rick-santorum-says-r...</td>\n",
              "      <td>paul ryans medicare plan provides pretty much ...</td>\n",
              "      <td>rick santorum</td>\n",
              "      <td>5 key life and health sections in final tax bi...</td>\n",
              "      <td>thinkadvisor.com</td>\n",
              "      <td>0.0</td>\n",
              "      <td>1.0</td>\n",
              "    </tr>\n",
              "    <tr>\n",
              "      <th>24487</th>\n",
              "      <td>Mostly False</td>\n",
              "      <td>2008_apr_21_hillary-clinton_hard-numbers-are-j...</td>\n",
              "      <td>barack obamas health care plan cost taxpayers ...</td>\n",
              "      <td>hillary clinton</td>\n",
              "      <td>accessibility links npr npr npr music npr book...</td>\n",
              "      <td>npr.org</td>\n",
              "      <td>0.0</td>\n",
              "      <td>1.0</td>\n",
              "    </tr>\n",
              "    <tr>\n",
              "      <th>22820</th>\n",
              "      <td>Mostly False</td>\n",
              "      <td>2012_apr_24_mitt-romney_mitt-romney-says-hispa...</td>\n",
              "      <td>total unemployment rate hispanic latino worker...</td>\n",
              "      <td>mitt romney</td>\n",
              "      <td>27 so romneys team finds a statistic on unempl...</td>\n",
              "      <td>sheldensays.com</td>\n",
              "      <td>0.0</td>\n",
              "      <td>1.0</td>\n",
              "    </tr>\n",
              "    <tr>\n",
              "      <th>18296</th>\n",
              "      <td>True</td>\n",
              "      <td>2009_jul_30_chain-email_health-care-exchange-g...</td>\n",
              "      <td>private healthcare plans must conform governme...</td>\n",
              "      <td>chain email</td>\n",
              "      <td>former employers or employee associations as w...</td>\n",
              "      <td>factcheck.org</td>\n",
              "      <td>1.0</td>\n",
              "      <td>0.0</td>\n",
              "    </tr>\n",
              "    <tr>\n",
              "      <th>8516</th>\n",
              "      <td>Mostly False</td>\n",
              "      <td>2012_sep_28_bill-clinton_bill-clinton-says-tar...</td>\n",
              "      <td>says government gotten tarp money back plus pr...</td>\n",
              "      <td>bill clinton</td>\n",
              "      <td>of its acquisition of wachovia in december 200...</td>\n",
              "      <td>publicintegrity.org</td>\n",
              "      <td>0.0</td>\n",
              "      <td>1.0</td>\n",
              "    </tr>\n",
              "    <tr>\n",
              "      <th>17642</th>\n",
              "      <td>Mostly False</td>\n",
              "      <td>2014_feb_14_patriot-majority-usa_demcratic-gro...</td>\n",
              "      <td>says north carolina republican senate candidat...</td>\n",
              "      <td>patriot majority usa</td>\n",
              "      <td>tpm dc in it but not of it this republican rev...</td>\n",
              "      <td>talkingpointsmemo.com</td>\n",
              "      <td>0.0</td>\n",
              "      <td>1.0</td>\n",
              "    </tr>\n",
              "    <tr>\n",
              "      <th>3785</th>\n",
              "      <td>Mostly True</td>\n",
              "      <td>2013_feb_08_zoe-lofgren_rep-zoe-lofgren-says-u...</td>\n",
              "      <td>exception slavery chinese exclusion act laws n...</td>\n",
              "      <td>zoe lofgren</td>\n",
              "      <td>be clear that the immigration system currently...</td>\n",
              "      <td>kqed.org</td>\n",
              "      <td>1.0</td>\n",
              "      <td>0.0</td>\n",
              "    </tr>\n",
              "    <tr>\n",
              "      <th>19505</th>\n",
              "      <td>False</td>\n",
              "      <td>2010_apr_29_tim-james_alabamas-tim-james-says-...</td>\n",
              "      <td>says bureau labor statistics report attributed...</td>\n",
              "      <td>tim james</td>\n",
              "      <td>sense vs political correctness in it the quote...</td>\n",
              "      <td>wyrmis.com</td>\n",
              "      <td>0.0</td>\n",
              "      <td>1.0</td>\n",
              "    </tr>\n",
              "    <tr>\n",
              "      <th>9213</th>\n",
              "      <td>Half-True</td>\n",
              "      <td>2013_sep_25_tom-graves_rep-graves-says-obama-h...</td>\n",
              "      <td>says president barack obama amended delayed re...</td>\n",
              "      <td>tom graves</td>\n",
              "      <td>jerry moran left and sen pat roberts 2016 file...</td>\n",
              "      <td>cjonline.com</td>\n",
              "      <td>1.0</td>\n",
              "      <td>0.0</td>\n",
              "    </tr>\n",
              "    <tr>\n",
              "      <th>5582</th>\n",
              "      <td>False</td>\n",
              "      <td>2011_may_11_barack-obama_barack-obama-says-us-...</td>\n",
              "      <td>president barack obama united states doubled e...</td>\n",
              "      <td>barack obama</td>\n",
              "      <td>barack obama illinois state senator us senator...</td>\n",
              "      <td>wikipedia.org</td>\n",
              "      <td>0.0</td>\n",
              "      <td>1.0</td>\n",
              "    </tr>\n",
              "    <tr>\n",
              "      <th>625</th>\n",
              "      <td>Mostly True</td>\n",
              "      <td>2010_mar_22_mitt-romney_romney-overstates-unit...</td>\n",
              "      <td>hospitals doctors mris surgeries forth extensi...</td>\n",
              "      <td>mitt romney</td>\n",
              "      <td>overall health care cost of america which by t...</td>\n",
              "      <td>foxnews.com</td>\n",
              "      <td>1.0</td>\n",
              "      <td>0.0</td>\n",
              "    </tr>\n",
              "    <tr>\n",
              "      <th>14271</th>\n",
              "      <td>True</td>\n",
              "      <td>2010_jun_14_john-boehner_boehner-says-house-ha...</td>\n",
              "      <td>house never failed pass budget modern era</td>\n",
              "      <td>john boehner</td>\n",
              "      <td>top menu search form trending featured house h...</td>\n",
              "      <td>thehill.com</td>\n",
              "      <td>1.0</td>\n",
              "      <td>0.0</td>\n",
              "    </tr>\n",
              "    <tr>\n",
              "      <th>6955</th>\n",
              "      <td>False</td>\n",
              "      <td>2008_jan_11_john-mccain_mccain-led-the-charge-...</td>\n",
              "      <td>supported surge argued im one stage</td>\n",
              "      <td>john mccain</td>\n",
              "      <td>true thus again at the south carolina debate o...</td>\n",
              "      <td>townhall.com</td>\n",
              "      <td>0.0</td>\n",
              "      <td>1.0</td>\n",
              "    </tr>\n",
              "    <tr>\n",
              "      <th>6640</th>\n",
              "      <td>False</td>\n",
              "      <td>2011_feb_08_barack-obama_president-obama-says-...</td>\n",
              "      <td>twelve judges thrown legal challenges health c...</td>\n",
              "      <td>barack obama</td>\n",
              "      <td>white house s budget proposal we will not be a...</td>\n",
              "      <td>ning.com</td>\n",
              "      <td>0.0</td>\n",
              "      <td>1.0</td>\n",
              "    </tr>\n",
              "    <tr>\n",
              "      <th>14129</th>\n",
              "      <td>False</td>\n",
              "      <td>2009_feb_27_john-mccain_mccain-says-obama-will...</td>\n",
              "      <td>presidents plan even end withdrawal timeline r...</td>\n",
              "      <td>john mccain</td>\n",
              "      <td>told marines at camp lejeune north carolina un...</td>\n",
              "      <td>cnn.com</td>\n",
              "      <td>0.0</td>\n",
              "      <td>1.0</td>\n",
              "    </tr>\n",
              "    <tr>\n",
              "      <th>20411</th>\n",
              "      <td>False</td>\n",
              "      <td>2011_jul_11_sarah-palin_sarah-palin-says-price...</td>\n",
              "      <td>slim jims recently cost 99 cents cost 269</td>\n",
              "      <td>sarah palin</td>\n",
              "      <td>may 12th obama s health care law represents a ...</td>\n",
              "      <td>wordpress.com</td>\n",
              "      <td>0.0</td>\n",
              "      <td>1.0</td>\n",
              "    </tr>\n",
              "    <tr>\n",
              "      <th>24810</th>\n",
              "      <td>Half-True</td>\n",
              "      <td>2012_jan_06_barack-obama_ad-says-president-bar...</td>\n",
              "      <td>president barack obama put place historic fuel...</td>\n",
              "      <td>barack obama</td>\n",
              "      <td>that is factually correct but has nothing to d...</td>\n",
              "      <td>washingtonpost.com</td>\n",
              "      <td>1.0</td>\n",
              "      <td>0.0</td>\n",
              "    </tr>\n",
              "    <tr>\n",
              "      <th>14730</th>\n",
              "      <td>False</td>\n",
              "      <td>425.json</td>\n",
              "      <td>democrats budget resolution would raise americ...</td>\n",
              "      <td>john mccain</td>\n",
              "      <td>see a rate cut ryan said middle class taxpayer...</td>\n",
              "      <td>bloomberg.com</td>\n",
              "      <td>0.0</td>\n",
              "      <td>1.0</td>\n",
              "    </tr>\n",
              "    <tr>\n",
              "      <th>17051</th>\n",
              "      <td>Half-True</td>\n",
              "      <td>2009_mar_20_national-republican-senatorial-com...</td>\n",
              "      <td>senator chris dodd chairman senate banking com...</td>\n",
              "      <td>national republican senatorial committee</td>\n",
              "      <td>the nrsc email dear republican friend amidst a...</td>\n",
              "      <td>huffingtonpost.com</td>\n",
              "      <td>1.0</td>\n",
              "      <td>0.0</td>\n",
              "    </tr>\n",
              "    <tr>\n",
              "      <th>20410</th>\n",
              "      <td>False</td>\n",
              "      <td>2011_jul_11_sarah-palin_sarah-palin-says-price...</td>\n",
              "      <td>slim jims recently cost 99 cents cost 269</td>\n",
              "      <td>sarah palin</td>\n",
              "      <td>may thursday may 12th obama s health care law ...</td>\n",
              "      <td>wordpress.com</td>\n",
              "      <td>0.0</td>\n",
              "      <td>1.0</td>\n",
              "    </tr>\n",
              "    <tr>\n",
              "      <th>14716</th>\n",
              "      <td>False</td>\n",
              "      <td>2009_jul_14_republican-national-committee-repu...</td>\n",
              "      <td>obama administration offered 900 million hamas...</td>\n",
              "      <td>republican national committee</td>\n",
              "      <td>lie not every victim of september 11th 2001 di...</td>\n",
              "      <td>911billofrights.blogspot.com</td>\n",
              "      <td>0.0</td>\n",
              "      <td>1.0</td>\n",
              "    </tr>\n",
              "    <tr>\n",
              "      <th>11980</th>\n",
              "      <td>Half-True</td>\n",
              "      <td>2014_aug_31_peter-king_peter-king-us-had-allie...</td>\n",
              "      <td>united states allies lined air strikes syria o...</td>\n",
              "      <td>peter king</td>\n",
              "      <td>in syria and we had allies lined up and then t...</td>\n",
              "      <td>thedailybeast.com</td>\n",
              "      <td>1.0</td>\n",
              "      <td>0.0</td>\n",
              "    </tr>\n",
              "    <tr>\n",
              "      <th>21950</th>\n",
              "      <td>Half-True</td>\n",
              "      <td>2008_jul_24_let-freedom-ring_on-the-fence----c...</td>\n",
              "      <td>says obama banning handguns</td>\n",
              "      <td>let freedom ring</td>\n",
              "      <td>attacking mueller trump administration asks su...</td>\n",
              "      <td>politico.com</td>\n",
              "      <td>1.0</td>\n",
              "      <td>0.0</td>\n",
              "    </tr>\n",
              "    <tr>\n",
              "      <th>11981</th>\n",
              "      <td>Half-True</td>\n",
              "      <td>2014_aug_31_peter-king_peter-king-us-had-allie...</td>\n",
              "      <td>united states allies lined air strikes syria o...</td>\n",
              "      <td>peter king</td>\n",
              "      <td>and now they dont trust the president and that...</td>\n",
              "      <td>crooksandliars.com</td>\n",
              "      <td>1.0</td>\n",
              "      <td>0.0</td>\n",
              "    </tr>\n",
              "    <tr>\n",
              "      <th>25310</th>\n",
              "      <td>False</td>\n",
              "      <td>2009_mar_24_house-republicans_Republicans-accu...</td>\n",
              "      <td>obama nominee dawn johnsen called motherhood i...</td>\n",
              "      <td>house republican conference</td>\n",
              "      <td>found a smear forward it to smear dawn johnsen...</td>\n",
              "      <td>mediamattersaction.org</td>\n",
              "      <td>0.0</td>\n",
              "      <td>1.0</td>\n",
              "    </tr>\n",
              "    <tr>\n",
              "      <th>7931</th>\n",
              "      <td>Mostly False</td>\n",
              "      <td>2011_jul_20_mitt-romney_mitt-romney-says-presi...</td>\n",
              "      <td>first year president obama said going visit ki...</td>\n",
              "      <td>mitt romney</td>\n",
              "      <td>skipped israel romney added that the relations...</td>\n",
              "      <td>townhall.com</td>\n",
              "      <td>0.0</td>\n",
              "      <td>1.0</td>\n",
              "    </tr>\n",
              "    <tr>\n",
              "      <th>15151</th>\n",
              "      <td>True</td>\n",
              "      <td>2010_may_03_katrina-vanden-heuvel_vanden-heuve...</td>\n",
              "      <td>moment energy companies spend 025 percent rd</td>\n",
              "      <td>katrina vanden heuvel</td>\n",
              "      <td>a policy document that goes into even more det...</td>\n",
              "      <td>jacobinmag.com</td>\n",
              "      <td>1.0</td>\n",
              "      <td>0.0</td>\n",
              "    </tr>\n",
              "    <tr>\n",
              "      <th>21166</th>\n",
              "      <td>Mostly False</td>\n",
              "      <td>2017_nov_06_patrick-morrisey_do-joe-manchin-an...</td>\n",
              "      <td>says evan jenkins positions issues joe manchin...</td>\n",
              "      <td>patrick morrisey</td>\n",
              "      <td>renewals outside those categories they found o...</td>\n",
              "      <td>wvgazettemail.com</td>\n",
              "      <td>0.0</td>\n",
              "      <td>1.0</td>\n",
              "    </tr>\n",
              "    <tr>\n",
              "      <th>20486</th>\n",
              "      <td>False</td>\n",
              "      <td>2010_mar_15_mitt-romney_obama-remarks-never-tr...</td>\n",
              "      <td>several times obama apologized deems american ...</td>\n",
              "      <td>mitt romney</td>\n",
              "      <td>worst mark possible in its it included this ki...</td>\n",
              "      <td>denverpost.com</td>\n",
              "      <td>0.0</td>\n",
              "      <td>1.0</td>\n",
              "    </tr>\n",
              "    <tr>\n",
              "      <th>23078</th>\n",
              "      <td>Mostly True</td>\n",
              "      <td>2012_mar_14_newt-gingrich_gingrich-said-energy...</td>\n",
              "      <td>obamas secretary energy dr steven chu said pub...</td>\n",
              "      <td>newt gingrich</td>\n",
              "      <td>in 2008 candidate barack obama attacked john m...</td>\n",
              "      <td>webclearinghouse.net</td>\n",
              "      <td>1.0</td>\n",
              "      <td>0.0</td>\n",
              "    </tr>\n",
              "  </tbody>\n",
              "</table>\n",
              "<p>69 rows × 8 columns</p>\n",
              "</div>"
            ],
            "text/plain": [
              "           cred_label  ... pred_label_full\n",
              "8775            False  ...             1.0\n",
              "4483     Mostly False  ...             1.0\n",
              "18331            True  ...             0.0\n",
              "18203    Mostly False  ...             1.0\n",
              "1857     Mostly False  ...             1.0\n",
              "8610        Half-True  ...             0.0\n",
              "2786   Pants on Fire!  ...             1.0\n",
              "25902       Half-True  ...             0.0\n",
              "10011  Pants on Fire!  ...             1.0\n",
              "1517   Pants on Fire!  ...             1.0\n",
              "17132       Half-True  ...             0.0\n",
              "21167    Mostly False  ...             1.0\n",
              "8517     Mostly False  ...             1.0\n",
              "8590      Mostly True  ...             0.0\n",
              "16958       Half-True  ...             0.0\n",
              "5583            False  ...             1.0\n",
              "7932      Mostly True  ...             0.0\n",
              "29276  Pants on Fire!  ...             1.0\n",
              "7731     Mostly False  ...             1.0\n",
              "969             False  ...             1.0\n",
              "3700            False  ...             1.0\n",
              "23634    Mostly False  ...             1.0\n",
              "23052     Mostly True  ...             0.0\n",
              "21949       Half-True  ...             0.0\n",
              "18176           False  ...             1.0\n",
              "22080           False  ...             1.0\n",
              "28479     Mostly True  ...             0.0\n",
              "25357            True  ...             0.0\n",
              "13115           False  ...             1.0\n",
              "7930     Mostly False  ...             1.0\n",
              "...               ...  ...             ...\n",
              "28045    Mostly False  ...             1.0\n",
              "24487    Mostly False  ...             1.0\n",
              "22820    Mostly False  ...             1.0\n",
              "18296            True  ...             0.0\n",
              "8516     Mostly False  ...             1.0\n",
              "17642    Mostly False  ...             1.0\n",
              "3785      Mostly True  ...             0.0\n",
              "19505           False  ...             1.0\n",
              "9213        Half-True  ...             0.0\n",
              "5582            False  ...             1.0\n",
              "625       Mostly True  ...             0.0\n",
              "14271            True  ...             0.0\n",
              "6955            False  ...             1.0\n",
              "6640            False  ...             1.0\n",
              "14129           False  ...             1.0\n",
              "20411           False  ...             1.0\n",
              "24810       Half-True  ...             0.0\n",
              "14730           False  ...             1.0\n",
              "17051       Half-True  ...             0.0\n",
              "20410           False  ...             1.0\n",
              "14716           False  ...             1.0\n",
              "11980       Half-True  ...             0.0\n",
              "21950       Half-True  ...             0.0\n",
              "11981       Half-True  ...             0.0\n",
              "25310           False  ...             1.0\n",
              "7931     Mostly False  ...             1.0\n",
              "15151            True  ...             0.0\n",
              "21166    Mostly False  ...             1.0\n",
              "20486           False  ...             1.0\n",
              "23078     Mostly True  ...             0.0\n",
              "\n",
              "[69 rows x 8 columns]"
            ]
          },
          "metadata": {
            "tags": []
          },
          "execution_count": 30
        }
      ]
    },
    {
      "cell_type": "code",
      "metadata": {
        "id": "dfwu1VYfs1XO",
        "colab_type": "code",
        "colab": {}
      },
      "source": [
        "# Write to csv\n",
        "unique_test_or2.to_csv('op_attn_pol_full.csv', sep='\\t')"
      ],
      "execution_count": 0,
      "outputs": []
    },
    {
      "cell_type": "code",
      "metadata": {
        "id": "0qsC9KM-s6QH",
        "colab_type": "code",
        "outputId": "9840e043-8a06-4273-f954-b6d22c7b558a",
        "colab": {
          "base_uri": "https://localhost:8080/",
          "height": 375
        }
      },
      "source": [
        "# For Art_claim model\n",
        "x_test_or['pred_label2'] = pred2.detach().numpy()\n",
        "unique_test_or3 = x_test_or[~x_test_or['claim_text'].isin(x_train_or['claim_text'])]\n",
        "unique_test_or3.head()"
      ],
      "execution_count": 24,
      "outputs": [
        {
          "output_type": "execute_result",
          "data": {
            "text/html": [
              "<div>\n",
              "<style scoped>\n",
              "    .dataframe tbody tr th:only-of-type {\n",
              "        vertical-align: middle;\n",
              "    }\n",
              "\n",
              "    .dataframe tbody tr th {\n",
              "        vertical-align: top;\n",
              "    }\n",
              "\n",
              "    .dataframe thead th {\n",
              "        text-align: right;\n",
              "    }\n",
              "</style>\n",
              "<table border=\"1\" class=\"dataframe\">\n",
              "  <thead>\n",
              "    <tr style=\"text-align: right;\">\n",
              "      <th></th>\n",
              "      <th>cred_label</th>\n",
              "      <th>claim_id</th>\n",
              "      <th>claim_text</th>\n",
              "      <th>claim_source</th>\n",
              "      <th>article</th>\n",
              "      <th>article_source</th>\n",
              "      <th>bin_cred_label</th>\n",
              "      <th>pred_label2</th>\n",
              "    </tr>\n",
              "  </thead>\n",
              "  <tbody>\n",
              "    <tr>\n",
              "      <th>11976</th>\n",
              "      <td>Pants on Fire!</td>\n",
              "      <td>2017_apr_11_sean-spicer_did-adolf-hitler-use-c...</td>\n",
              "      <td>says adolf hitler didnt even using chemical we...</td>\n",
              "      <td>sean spicer</td>\n",
              "      <td>even hitler didnt sink to using chemical weapo...</td>\n",
              "      <td>independent.co.uk</td>\n",
              "      <td>0.0</td>\n",
              "      <td>0.0</td>\n",
              "    </tr>\n",
              "    <tr>\n",
              "      <th>2760</th>\n",
              "      <td>Half-True</td>\n",
              "      <td>2010_dec_03_michael-steele_rnc-chair-michael-s...</td>\n",
              "      <td>elections chairman since 1938</td>\n",
              "      <td>michael steele</td>\n",
              "      <td>strengthening constitutional publications the ...</td>\n",
              "      <td>ashbrook.org</td>\n",
              "      <td>1.0</td>\n",
              "      <td>1.0</td>\n",
              "    </tr>\n",
              "    <tr>\n",
              "      <th>24400</th>\n",
              "      <td>False</td>\n",
              "      <td>2011_jun_28_jim-demint_jim-demint-says-federal...</td>\n",
              "      <td>weve got revenue ever</td>\n",
              "      <td>jim demint</td>\n",
              "      <td>12th out of 13 conference usa athletic departm...</td>\n",
              "      <td>hattiesburgamerican.com</td>\n",
              "      <td>0.0</td>\n",
              "      <td>0.0</td>\n",
              "    </tr>\n",
              "    <tr>\n",
              "      <th>8775</th>\n",
              "      <td>False</td>\n",
              "      <td>2010_nov_11_rand-paul_rand-paul-says-federal-w...</td>\n",
              "      <td>average federal employee makes year average pr...</td>\n",
              "      <td>rand paul</td>\n",
              "      <td>represent federal workers say on average they ...</td>\n",
              "      <td>factcheck.org</td>\n",
              "      <td>0.0</td>\n",
              "      <td>1.0</td>\n",
              "    </tr>\n",
              "    <tr>\n",
              "      <th>15203</th>\n",
              "      <td>False</td>\n",
              "      <td>2011_jan_07_steny-hoyer_steny-hoyer-says-gop-d...</td>\n",
              "      <td>preparing rules package 112th congress gop no ...</td>\n",
              "      <td>steny hoyer</td>\n",
              "      <td>online ahead of a slated jan 4 organizational ...</td>\n",
              "      <td>washingtonpost.com</td>\n",
              "      <td>0.0</td>\n",
              "      <td>0.0</td>\n",
              "    </tr>\n",
              "  </tbody>\n",
              "</table>\n",
              "</div>"
            ],
            "text/plain": [
              "           cred_label  ... pred_label2\n",
              "11976  Pants on Fire!  ...         0.0\n",
              "2760        Half-True  ...         1.0\n",
              "24400           False  ...         0.0\n",
              "8775            False  ...         1.0\n",
              "15203           False  ...         0.0\n",
              "\n",
              "[5 rows x 8 columns]"
            ]
          },
          "metadata": {
            "tags": []
          },
          "execution_count": 24
        }
      ]
    },
    {
      "cell_type": "code",
      "metadata": {
        "id": "2GF60ET-tAvJ",
        "colab_type": "code",
        "colab": {}
      },
      "source": [
        "bin_pred3=unique_test_or3['bin_cred_label'].tolist()\n",
        "pred_val3=unique_test_or3['pred_label2'].tolist()"
      ],
      "execution_count": 0,
      "outputs": []
    },
    {
      "cell_type": "code",
      "metadata": {
        "id": "bOTrL89jtDP0",
        "colab_type": "code",
        "outputId": "ac59e64a-2f38-41e5-cd04-a9518cb89237",
        "colab": {
          "base_uri": "https://localhost:8080/",
          "height": 699
        }
      },
      "source": [
        "plot_confusion_matrix(bin_pred3,pred_val3,[0,1])\n",
        "plot_confusion_matrix(bin_pred3,pred_val3,[0,1], normalize=True)"
      ],
      "execution_count": 26,
      "outputs": [
        {
          "output_type": "stream",
          "text": [
            "Confusion matrix, without normalization\n",
            "[[59 35]\n",
            " [29 36]]\n",
            "Normalized confusion matrix\n",
            "[[0.62765957 0.37234043]\n",
            " [0.44615385 0.55384615]]\n"
          ],
          "name": "stdout"
        },
        {
          "output_type": "execute_result",
          "data": {
            "text/plain": [
              "<matplotlib.axes._subplots.AxesSubplot at 0x7fd8c7a9e630>"
            ]
          },
          "metadata": {
            "tags": []
          },
          "execution_count": 26
        },
        {
          "output_type": "display_data",
          "data": {
            "image/png": "[encoded data removed]",
            "text/plain": [
              "<Figure size 432x288 with 2 Axes>"
            ]
          },
          "metadata": {
            "tags": []
          }
        },
        {
          "output_type": "display_data",
          "data": {
            "image/png": "[encoded data removed]",
            "text/plain": [
              "<Figure size 432x288 with 2 Axes>"
            ]
          },
          "metadata": {
            "tags": []
          }
        }
      ]
    },
    {
      "cell_type": "code",
      "metadata": {
        "id": "BysqYlVVtHfh",
        "colab_type": "code",
        "outputId": "1b32e723-a696-4e56-f7f8-79fd17205b69",
        "colab": {
          "base_uri": "https://localhost:8080/",
          "height": 277
        }
      },
      "source": [
        "ac_p,ac_r,ac_a,ac_f1 = evaluation_summary(\"Self Attention-article and claim\", pred_val3, bin_pred3)"
      ],
      "execution_count": 27,
      "outputs": [
        {
          "output_type": "stream",
          "text": [
            "Evaluation for: Self Attention-article and claim\n",
            "Classifier 'Self Attention-article and claim' has Acc=0.597 P=0.591 R=0.589 F1=0.589\n",
            "              precision    recall  f1-score   support\n",
            "\n",
            "         0.0      0.628     0.670     0.648        88\n",
            "         1.0      0.554     0.507     0.529        71\n",
            "\n",
            "    accuracy                          0.597       159\n",
            "   macro avg      0.591     0.589     0.589       159\n",
            "weighted avg      0.595     0.597     0.595       159\n",
            "\n",
            "\n",
            "Confusion matrix:\n",
            " [[59 35]\n",
            " [29 36]]\n"
          ],
          "name": "stdout"
        }
      ]
    },
    {
      "cell_type": "code",
      "metadata": {
        "id": "HHix3vnTtHcr",
        "colab_type": "code",
        "outputId": "6fb4daf1-09ac-4d80-98fe-a110b0bfa6d5",
        "colab": {
          "base_uri": "https://localhost:8080/",
          "height": 35
        }
      },
      "source": [
        "fpr, tpr, thresholds = roc_curve(bin_pred3, pred_val3)\n",
        "auc_arts = auc(fpr, tpr)\n",
        "print(\"Self Attention-Article_souces AUC-\",auc_arts)"
      ],
      "execution_count": 28,
      "outputs": [
        {
          "output_type": "stream",
          "text": [
            "Self Attention-Article_souces AUC- 0.5907528641571195\n"
          ],
          "name": "stdout"
        }
      ]
    },
    {
      "cell_type": "code",
      "metadata": {
        "id": "Tr9FjUVKtMUl",
        "colab_type": "code",
        "outputId": "ad053bc9-aa23-4daa-dde9-907803832161",
        "colab": {
          "base_uri": "https://localhost:8080/",
          "height": 225
        }
      },
      "source": [
        "label_counts = unique_test_or3['bin_cred_label'].value_counts()\n",
        "print(label_counts.describe())\n",
        "top_labels = label_counts.nlargest(5)\n",
        "top_labels_list = top_labels.index.tolist()\n",
        "print(top_labels)"
      ],
      "execution_count": 29,
      "outputs": [
        {
          "output_type": "stream",
          "text": [
            "count     2.000000\n",
            "mean     79.500000\n",
            "std      20.506097\n",
            "min      65.000000\n",
            "25%      72.250000\n",
            "50%      79.500000\n",
            "75%      86.750000\n",
            "max      94.000000\n",
            "Name: bin_cred_label, dtype: float64\n",
            "0.0    94\n",
            "1.0    65\n",
            "Name: bin_cred_label, dtype: int64\n"
          ],
          "name": "stdout"
        }
      ]
    },
    {
      "cell_type": "code",
      "metadata": {
        "id": "lgkCJihTtNNQ",
        "colab_type": "code",
        "outputId": "87dccd4c-65bd-4fc6-dccb-c38bd7b0e425",
        "colab": {
          "base_uri": "https://localhost:8080/",
          "height": 1000
        }
      },
      "source": [
        "incorrect3 = unique_test_or2[unique_test_or3['bin_cred_label']!=unique_test_or3['pred_label2'].astype(int)]\n",
        "incorrect3"
      ],
      "execution_count": 0,
      "outputs": [
        {
          "output_type": "execute_result",
          "data": {
            "text/html": [
              "<div>\n",
              "<style scoped>\n",
              "    .dataframe tbody tr th:only-of-type {\n",
              "        vertical-align: middle;\n",
              "    }\n",
              "\n",
              "    .dataframe tbody tr th {\n",
              "        vertical-align: top;\n",
              "    }\n",
              "\n",
              "    .dataframe thead th {\n",
              "        text-align: right;\n",
              "    }\n",
              "</style>\n",
              "<table border=\"1\" class=\"dataframe\">\n",
              "  <thead>\n",
              "    <tr style=\"text-align: right;\">\n",
              "      <th></th>\n",
              "      <th>cred_label</th>\n",
              "      <th>claim_id</th>\n",
              "      <th>claim_text</th>\n",
              "      <th>claim_source</th>\n",
              "      <th>article</th>\n",
              "      <th>article_source</th>\n",
              "      <th>bin_cred_label</th>\n",
              "      <th>pred_label_full</th>\n",
              "    </tr>\n",
              "  </thead>\n",
              "  <tbody>\n",
              "    <tr>\n",
              "      <th>5975</th>\n",
              "      <td>Mostly True</td>\n",
              "      <td>2015_jun_04_mike-huckabee_mike-huckabee-says-o...</td>\n",
              "      <td>sixty million americans depend social security...</td>\n",
              "      <td>mike huckabee</td>\n",
              "      <td>percent of our retirement income will come fro...</td>\n",
              "      <td>tampabay.com</td>\n",
              "      <td>1.0</td>\n",
              "      <td>0.0</td>\n",
              "    </tr>\n",
              "    <tr>\n",
              "      <th>26008</th>\n",
              "      <td>Mostly False</td>\n",
              "      <td>2009_apr_16_gus-bilirakis_dhs-report-right-win...</td>\n",
              "      <td>department homeland view returning military ve...</td>\n",
              "      <td>gus bilirakis</td>\n",
              "      <td>michelle widely cited blog post cried out cong...</td>\n",
              "      <td>salon.com</td>\n",
              "      <td>0.0</td>\n",
              "      <td>1.0</td>\n",
              "    </tr>\n",
              "    <tr>\n",
              "      <th>14208</th>\n",
              "      <td>False</td>\n",
              "      <td>2011_feb_23_state-democratic-party-wisconsin_l...</td>\n",
              "      <td>five states outlaw collective bargaining teach...</td>\n",
              "      <td>democratic party of wisconsin</td>\n",
              "      <td>the liberal world quits on kids how hopeless i...</td>\n",
              "      <td>dailyhowler.com</td>\n",
              "      <td>0.0</td>\n",
              "      <td>1.0</td>\n",
              "    </tr>\n",
              "    <tr>\n",
              "      <th>26123</th>\n",
              "      <td>False</td>\n",
              "      <td>2011_apr_11_donald-trump_libya-sells-most-its-...</td>\n",
              "      <td>libya supplies oil china get no oil libya</td>\n",
              "      <td>donald trump</td>\n",
              "      <td>we get no oil from libya false has no clue how...</td>\n",
              "      <td>datacentertalk.io</td>\n",
              "      <td>0.0</td>\n",
              "      <td>1.0</td>\n",
              "    </tr>\n",
              "    <tr>\n",
              "      <th>3186</th>\n",
              "      <td>False</td>\n",
              "      <td>2012_may_14_barack-obama_obama-ad-says-romney-...</td>\n",
              "      <td>says mitt romney would deny gay people right a...</td>\n",
              "      <td>barack obama</td>\n",
              "      <td>legalize gay unions after the democrat dominat...</td>\n",
              "      <td>aboutmittromney.com</td>\n",
              "      <td>0.0</td>\n",
              "      <td>1.0</td>\n",
              "    </tr>\n",
              "    <tr>\n",
              "      <th>21173</th>\n",
              "      <td>Mostly True</td>\n",
              "      <td>2008_may_07_john-mccain_his-percentage-is-righ...</td>\n",
              "      <td>friend increased size government 40 percent la...</td>\n",
              "      <td>john mccain</td>\n",
              "      <td>up much faster than private sector pay a 1992 ...</td>\n",
              "      <td>fee.org</td>\n",
              "      <td>1.0</td>\n",
              "      <td>0.0</td>\n",
              "    </tr>\n",
              "    <tr>\n",
              "      <th>20803</th>\n",
              "      <td>Pants on Fire!</td>\n",
              "      <td>2010_may_05_jd-hayworth_rival-says-hes-forced-...</td>\n",
              "      <td>two weeks ago john mccain leading proponent am...</td>\n",
              "      <td>j.d. hayworth</td>\n",
              "      <td>clinton jd hayworth 2 the massachusetts suprem...</td>\n",
              "      <td>noonehastherighttoremainstupid.blogspot.com</td>\n",
              "      <td>0.0</td>\n",
              "      <td>1.0</td>\n",
              "    </tr>\n",
              "    <tr>\n",
              "      <th>24097</th>\n",
              "      <td>False</td>\n",
              "      <td>2011_jul_29_bill-oreilly_bill-oreilly-says-pov...</td>\n",
              "      <td>since 1965 united states spent untold trillion...</td>\n",
              "      <td>bill o'reilly</td>\n",
              "      <td>false rating for that citing a study by the ta...</td>\n",
              "      <td>bostonmagazine.com</td>\n",
              "      <td>0.0</td>\n",
              "      <td>1.0</td>\n",
              "    </tr>\n",
              "    <tr>\n",
              "      <th>28158</th>\n",
              "      <td>False</td>\n",
              "      <td>2016_jan_26_bernie-s_bernie-sanders-says-he-po...</td>\n",
              "      <td>almost polls come suggest much stronger candid...</td>\n",
              "      <td>bernie sanders</td>\n",
              "      <td>decided that although hi pants are not quite o...</td>\n",
              "      <td>mediaite.com</td>\n",
              "      <td>0.0</td>\n",
              "      <td>1.0</td>\n",
              "    </tr>\n",
              "    <tr>\n",
              "      <th>27033</th>\n",
              "      <td>Pants on Fire!</td>\n",
              "      <td>2010_jan_20_rush-limbaugh_limbaugh-claims-whit...</td>\n",
              "      <td>high administrative costs donate haiti relief ...</td>\n",
              "      <td>rush limbaugh</td>\n",
              "      <td>the world politifact national on thursday june...</td>\n",
              "      <td>quora.com</td>\n",
              "      <td>0.0</td>\n",
              "      <td>0.0</td>\n",
              "    </tr>\n",
              "    <tr>\n",
              "      <th>26127</th>\n",
              "      <td>False</td>\n",
              "      <td>2015_nov_04_ben-carson_does-ben-carsons-tithe-...</td>\n",
              "      <td>says tax plan wouldnt leave federal government...</td>\n",
              "      <td>ben carson</td>\n",
              "      <td>says his tax plan wouldnt leave the federal go...</td>\n",
              "      <td>relationshipscience.com</td>\n",
              "      <td>0.0</td>\n",
              "      <td>1.0</td>\n",
              "    </tr>\n",
              "    <tr>\n",
              "      <th>22519</th>\n",
              "      <td>False</td>\n",
              "      <td>2008_jan_07_joe-biden_edwards-a-significant-pl...</td>\n",
              "      <td>john doesnt record senate johns passed four bi...</td>\n",
              "      <td>joe biden</td>\n",
              "      <td>the most experienced democratic candidate in t...</td>\n",
              "      <td>washingtonpost.com</td>\n",
              "      <td>0.0</td>\n",
              "      <td>0.0</td>\n",
              "    </tr>\n",
              "    <tr>\n",
              "      <th>20874</th>\n",
              "      <td>True</td>\n",
              "      <td>769.json</td>\n",
              "      <td>barack obama 96 percent votes solely along par...</td>\n",
              "      <td>sarah palin</td>\n",
              "      <td>a team of mavericks with john mccain also with...</td>\n",
              "      <td>cnn.com</td>\n",
              "      <td>1.0</td>\n",
              "      <td>0.0</td>\n",
              "    </tr>\n",
              "    <tr>\n",
              "      <th>2676</th>\n",
              "      <td>Half-True</td>\n",
              "      <td>2013_dec_09_heritage-foundation_heritage-found...</td>\n",
              "      <td>fact repealing obamacare would easier repealin...</td>\n",
              "      <td>heritage foundation</td>\n",
              "      <td>what s in the final tax reform bill economy ne...</td>\n",
              "      <td>dailysignal.com</td>\n",
              "      <td>1.0</td>\n",
              "      <td>0.0</td>\n",
              "    </tr>\n",
              "    <tr>\n",
              "      <th>3831</th>\n",
              "      <td>Mostly True</td>\n",
              "      <td>2016_mar_20_john-kasich_john-kasich-calls-out-...</td>\n",
              "      <td>says got know 18 billion worth free media got ...</td>\n",
              "      <td>john kasich</td>\n",
              "      <td>things we purposefully inserted something that...</td>\n",
              "      <td>csmonitor.com</td>\n",
              "      <td>1.0</td>\n",
              "      <td>0.0</td>\n",
              "    </tr>\n",
              "    <tr>\n",
              "      <th>11395</th>\n",
              "      <td>False</td>\n",
              "      <td>2011_feb_23_state-democratic-party-wisconsin_l...</td>\n",
              "      <td>five states outlaw collective bargaining teach...</td>\n",
              "      <td>democratic party of wisconsin</td>\n",
              "      <td>social security administration has the leeway ...</td>\n",
              "      <td>cnn.com</td>\n",
              "      <td>0.0</td>\n",
              "      <td>1.0</td>\n",
              "    </tr>\n",
              "    <tr>\n",
              "      <th>5210</th>\n",
              "      <td>Mostly True</td>\n",
              "      <td>2014_aug_08_facebook-posts_1978-someone-minimu...</td>\n",
              "      <td>1978 student worked summer job could afford pa...</td>\n",
              "      <td>facebook posts</td>\n",
              "      <td>calendar 19 dec 2pm est 20 dec 12pm est 21 dec...</td>\n",
              "      <td>reddit.com</td>\n",
              "      <td>1.0</td>\n",
              "      <td>0.0</td>\n",
              "    </tr>\n",
              "    <tr>\n",
              "      <th>15143</th>\n",
              "      <td>True</td>\n",
              "      <td>2009_jan_16_competitive-enterprise-institute_g...</td>\n",
              "      <td>geithner still didnt correct type error years ...</td>\n",
              "      <td>competitive enterprise institute</td>\n",
              "      <td>2009 treasury secretary nominee timothy failur...</td>\n",
              "      <td>cei.org</td>\n",
              "      <td>1.0</td>\n",
              "      <td>1.0</td>\n",
              "    </tr>\n",
              "    <tr>\n",
              "      <th>5421</th>\n",
              "      <td>Half-True</td>\n",
              "      <td>2013_dec_09_heritage-foundation_heritage-found...</td>\n",
              "      <td>fact repealing obamacare would easier repealin...</td>\n",
              "      <td>heritage foundation</td>\n",
              "      <td>found that yes the background check itself tak...</td>\n",
              "      <td>oregonlive.com</td>\n",
              "      <td>1.0</td>\n",
              "      <td>0.0</td>\n",
              "    </tr>\n",
              "    <tr>\n",
              "      <th>7750</th>\n",
              "      <td>Half-True</td>\n",
              "      <td>2008_jan_25_mike-huckabee_it-all-depends-what-...</td>\n",
              "      <td>average american working month may pay government</td>\n",
              "      <td>mike huckabee</td>\n",
              "      <td>alan right now millions of americans are crunc...</td>\n",
              "      <td>fool.com</td>\n",
              "      <td>1.0</td>\n",
              "      <td>0.0</td>\n",
              "    </tr>\n",
              "    <tr>\n",
              "      <th>6292</th>\n",
              "      <td>Mostly False</td>\n",
              "      <td>2009_oct_08_nancy-pelosi_car-pollution-china-d...</td>\n",
              "      <td>people die china year auto emissions</td>\n",
              "      <td>nancy pelosi</td>\n",
              "      <td>is set to be published in the journal plos one...</td>\n",
              "      <td>huffingtonpost.com</td>\n",
              "      <td>0.0</td>\n",
              "      <td>1.0</td>\n",
              "    </tr>\n",
              "    <tr>\n",
              "      <th>23557</th>\n",
              "      <td>Mostly False</td>\n",
              "      <td>2009_oct_08_nancy-pelosi_car-pollution-china-d...</td>\n",
              "      <td>people die china year auto emissions</td>\n",
              "      <td>nancy pelosi</td>\n",
              "      <td>people in china a day accounting for one in si...</td>\n",
              "      <td>theguardian.com</td>\n",
              "      <td>0.0</td>\n",
              "      <td>1.0</td>\n",
              "    </tr>\n",
              "    <tr>\n",
              "      <th>32</th>\n",
              "      <td>False</td>\n",
              "      <td>2009_oct_20_gun-owners-america_gun-rights-grou...</td>\n",
              "      <td>baucus health care bill could used ban guns home</td>\n",
              "      <td>gun owners of america</td>\n",
              "      <td>are here reality check health insurance reform...</td>\n",
              "      <td>archives.gov</td>\n",
              "      <td>0.0</td>\n",
              "      <td>0.0</td>\n",
              "    </tr>\n",
              "    <tr>\n",
              "      <th>10753</th>\n",
              "      <td>Pants on Fire!</td>\n",
              "      <td>2012_jun_26_chain-email_river-school-lip-readi...</td>\n",
              "      <td>says instructor river school washington dc sch...</td>\n",
              "      <td>chain email</td>\n",
              "      <td>michelle obamas all this for a damn flag shown...</td>\n",
              "      <td>ning.com</td>\n",
              "      <td>0.0</td>\n",
              "      <td>0.0</td>\n",
              "    </tr>\n",
              "    <tr>\n",
              "      <th>24925</th>\n",
              "      <td>Pants on Fire!</td>\n",
              "      <td>2014_feb_24_matt-bevin_republican-challenger-m...</td>\n",
              "      <td>mitch mcconnell voted harry reid infringe gun ...</td>\n",
              "      <td>matt bevin</td>\n",
              "      <td>t accurately reflect begich s voting record on...</td>\n",
              "      <td>oregonlive.com</td>\n",
              "      <td>0.0</td>\n",
              "      <td>0.0</td>\n",
              "    </tr>\n",
              "    <tr>\n",
              "      <th>4050</th>\n",
              "      <td>Mostly True</td>\n",
              "      <td>2011_aug_19_jon-huntsman_jon-huntsman-says-int...</td>\n",
              "      <td>500 million internet users 80 million bloggers...</td>\n",
              "      <td>jon huntsman</td>\n",
              "      <td>in this post i d like to take a moment looking...</td>\n",
              "      <td>hiddenharmonies.org</td>\n",
              "      <td>1.0</td>\n",
              "      <td>1.0</td>\n",
              "    </tr>\n",
              "    <tr>\n",
              "      <th>29115</th>\n",
              "      <td>Mostly True</td>\n",
              "      <td>2016_jul_05_elizabeth-warren_warren-says-trump...</td>\n",
              "      <td>says donald trumps position isto roll back fin...</td>\n",
              "      <td>elizabeth warren</td>\n",
              "      <td>her on his pence pick she tweeted of course a ...</td>\n",
              "      <td>politicususa.com</td>\n",
              "      <td>1.0</td>\n",
              "      <td>1.0</td>\n",
              "    </tr>\n",
              "    <tr>\n",
              "      <th>7554</th>\n",
              "      <td>Mostly False</td>\n",
              "      <td>2009_oct_08_nancy-pelosi_car-pollution-china-d...</td>\n",
              "      <td>people die china year auto emissions</td>\n",
              "      <td>nancy pelosi</td>\n",
              "      <td>shrouded in smog china invests 235 billion to ...</td>\n",
              "      <td>telegraph.co.uk</td>\n",
              "      <td>0.0</td>\n",
              "      <td>1.0</td>\n",
              "    </tr>\n",
              "    <tr>\n",
              "      <th>8798</th>\n",
              "      <td>Half-True</td>\n",
              "      <td>2016_feb_12_hillary-clinton_did-bernie-sanders...</td>\n",
              "      <td>says sen bernie sanders called president barac...</td>\n",
              "      <td>hillary clinton</td>\n",
              "      <td>bernie sanders senator bernie sanders news jan...</td>\n",
              "      <td>senate.gov</td>\n",
              "      <td>1.0</td>\n",
              "      <td>1.0</td>\n",
              "    </tr>\n",
              "    <tr>\n",
              "      <th>15502</th>\n",
              "      <td>Pants on Fire!</td>\n",
              "      <td>2014_feb_24_matt-bevin_republican-challenger-m...</td>\n",
              "      <td>mitch mcconnell voted harry reid infringe gun ...</td>\n",
              "      <td>matt bevin</td>\n",
              "      <td>a way to damage mcconnell moving toward a toug...</td>\n",
              "      <td>cbslocal.com</td>\n",
              "      <td>0.0</td>\n",
              "      <td>0.0</td>\n",
              "    </tr>\n",
              "    <tr>\n",
              "      <th>...</th>\n",
              "      <td>...</td>\n",
              "      <td>...</td>\n",
              "      <td>...</td>\n",
              "      <td>...</td>\n",
              "      <td>...</td>\n",
              "      <td>...</td>\n",
              "      <td>...</td>\n",
              "      <td>...</td>\n",
              "    </tr>\n",
              "    <tr>\n",
              "      <th>24316</th>\n",
              "      <td>True</td>\n",
              "      <td>769.json</td>\n",
              "      <td>barack obama 96 percent votes solely along par...</td>\n",
              "      <td>sarah palin</td>\n",
              "      <td>fact check does obama almost always vote with ...</td>\n",
              "      <td>cnn.com</td>\n",
              "      <td>1.0</td>\n",
              "      <td>0.0</td>\n",
              "    </tr>\n",
              "    <tr>\n",
              "      <th>20169</th>\n",
              "      <td>Half-True</td>\n",
              "      <td>2010_jun_11_george-will_george-will-says-final...</td>\n",
              "      <td>final pitch larsens perfect game 1956 world se...</td>\n",
              "      <td>george will</td>\n",
              "      <td>disappointment when i thought he walked ryan t...</td>\n",
              "      <td>timesunion.com</td>\n",
              "      <td>1.0</td>\n",
              "      <td>1.0</td>\n",
              "    </tr>\n",
              "    <tr>\n",
              "      <th>2109</th>\n",
              "      <td>Mostly True</td>\n",
              "      <td>2011_jan_25_barack-obama_barack-obama-state-un...</td>\n",
              "      <td>many quarter students arent even finishing hig...</td>\n",
              "      <td>barack obama</td>\n",
              "      <td>as many as a quarter of our students arent eve...</td>\n",
              "      <td>coursehero.com</td>\n",
              "      <td>1.0</td>\n",
              "      <td>0.0</td>\n",
              "    </tr>\n",
              "    <tr>\n",
              "      <th>5401</th>\n",
              "      <td>Pants on Fire!</td>\n",
              "      <td>2010_jan_28_nancy-pfotenhauer_health-care-refo...</td>\n",
              "      <td>presidents health care proposals cause america...</td>\n",
              "      <td>nancy pfotenhauer</td>\n",
              "      <td>ones that are looking at massive tax increases...</td>\n",
              "      <td>google.com</td>\n",
              "      <td>0.0</td>\n",
              "      <td>1.0</td>\n",
              "    </tr>\n",
              "    <tr>\n",
              "      <th>4459</th>\n",
              "      <td>False</td>\n",
              "      <td>2009_jul_14_republican-national-committee-repu...</td>\n",
              "      <td>obama administration offered 900 million hamas...</td>\n",
              "      <td>republican national committee</td>\n",
              "      <td>lie not every victim of september 11th 2001 di...</td>\n",
              "      <td>911billofrights.blogspot.com</td>\n",
              "      <td>0.0</td>\n",
              "      <td>1.0</td>\n",
              "    </tr>\n",
              "    <tr>\n",
              "      <th>8213</th>\n",
              "      <td>Half-True</td>\n",
              "      <td>2016_jul_19_mitch-mcconnell_did-hillary-clinto...</td>\n",
              "      <td>says hillary clinton lied parents named hillary</td>\n",
              "      <td>mitch mcconnell</td>\n",
              "      <td>why did hillary clinton claim she was named fo...</td>\n",
              "      <td>quora.com</td>\n",
              "      <td>1.0</td>\n",
              "      <td>0.0</td>\n",
              "    </tr>\n",
              "    <tr>\n",
              "      <th>4718</th>\n",
              "      <td>True</td>\n",
              "      <td>2017_jun_16_ivanka-trump_ivanka-trump-mostly-r...</td>\n",
              "      <td>currently 6 million jobs available country due...</td>\n",
              "      <td>ivanka trump</td>\n",
              "      <td>skills gap problem isn t just a local one and ...</td>\n",
              "      <td>transnationaleducation.com.au</td>\n",
              "      <td>1.0</td>\n",
              "      <td>0.0</td>\n",
              "    </tr>\n",
              "    <tr>\n",
              "      <th>19394</th>\n",
              "      <td>Pants on Fire!</td>\n",
              "      <td>2012_may_02_americans-prosperity_ad-says-stimu...</td>\n",
              "      <td>says stimulus bill sent tax credits overseas 1...</td>\n",
              "      <td>americans for prosperity</td>\n",
              "      <td>industry could have handled the demand thus a ...</td>\n",
              "      <td>washingtonpost.com</td>\n",
              "      <td>0.0</td>\n",
              "      <td>1.0</td>\n",
              "    </tr>\n",
              "    <tr>\n",
              "      <th>22863</th>\n",
              "      <td>Mostly True</td>\n",
              "      <td>2010_sep_07_mary-jordan_do-presidents-always-g...</td>\n",
              "      <td>presidents party always gets shellacked midter...</td>\n",
              "      <td>mary jordan</td>\n",
              "      <td>but for real i am going to crush you all loser...</td>\n",
              "      <td>reddit.com</td>\n",
              "      <td>1.0</td>\n",
              "      <td>0.0</td>\n",
              "    </tr>\n",
              "    <tr>\n",
              "      <th>17101</th>\n",
              "      <td>Mostly True</td>\n",
              "      <td>2008_aug_26_michelle-obama_obama-was-there-for...</td>\n",
              "      <td>state senator illinois obama made sure women g...</td>\n",
              "      <td>michelle obama</td>\n",
              "      <td>new white house website it states fighting for...</td>\n",
              "      <td>ctemploymentlawblog.com</td>\n",
              "      <td>1.0</td>\n",
              "      <td>1.0</td>\n",
              "    </tr>\n",
              "    <tr>\n",
              "      <th>16977</th>\n",
              "      <td>True</td>\n",
              "      <td>2017_aug_08_donald-trump_renovations-Trump-out...</td>\n",
              "      <td>says time away washington coincides long plann...</td>\n",
              "      <td>donald trump</td>\n",
              "      <td>degrees with no air conditioning walters assur...</td>\n",
              "      <td>cleveland.com</td>\n",
              "      <td>1.0</td>\n",
              "      <td>0.0</td>\n",
              "    </tr>\n",
              "    <tr>\n",
              "      <th>19737</th>\n",
              "      <td>Pants on Fire!</td>\n",
              "      <td>2011_dec_19_newt-gingrich_newt-gingrich-says-f...</td>\n",
              "      <td>says freddie mac electric coops credit unions ...</td>\n",
              "      <td>newt gingrich</td>\n",
              "      <td>dear newt gingrich credit unions are not gover...</td>\n",
              "      <td>creditunionsonline.com</td>\n",
              "      <td>0.0</td>\n",
              "      <td>0.0</td>\n",
              "    </tr>\n",
              "    <tr>\n",
              "      <th>23523</th>\n",
              "      <td>Half-True</td>\n",
              "      <td>2015_apr_02_bernie-s_checking-bernie-sanders-a...</td>\n",
              "      <td>last election november 63 percent american peo...</td>\n",
              "      <td>bernie sanders</td>\n",
              "      <td>as a right not a privilege 5 youth unemploymen...</td>\n",
              "      <td>dailykos.com</td>\n",
              "      <td>1.0</td>\n",
              "      <td>0.0</td>\n",
              "    </tr>\n",
              "    <tr>\n",
              "      <th>3396</th>\n",
              "      <td>Half-True</td>\n",
              "      <td>2008_oct_15_john-mccain_mccains-aim-still-off-...</td>\n",
              "      <td>voted twice budget resolution increases taxes ...</td>\n",
              "      <td>john mccain</td>\n",
              "      <td>a project of the annenberg public policy cente...</td>\n",
              "      <td>factcheck.org</td>\n",
              "      <td>1.0</td>\n",
              "      <td>1.0</td>\n",
              "    </tr>\n",
              "    <tr>\n",
              "      <th>24668</th>\n",
              "      <td>True</td>\n",
              "      <td>2014_nov_11_facebook-posts_congress-has-11-app...</td>\n",
              "      <td>congress 11 percent approval ratings yet 964 p...</td>\n",
              "      <td>facebook posts</td>\n",
              "      <td>ross has heavy hand online by gordon wayne wat...</td>\n",
              "      <td>gordonwatts.com</td>\n",
              "      <td>1.0</td>\n",
              "      <td>0.0</td>\n",
              "    </tr>\n",
              "    <tr>\n",
              "      <th>6663</th>\n",
              "      <td>Mostly True</td>\n",
              "      <td>2010_may_04_kyrsten-sinema_under-arizona-immig...</td>\n",
              "      <td>arizona immigration law police required check ...</td>\n",
              "      <td>kyrsten sinema</td>\n",
              "      <td>nations drug laws having the immigration bill ...</td>\n",
              "      <td>reddit.com</td>\n",
              "      <td>1.0</td>\n",
              "      <td>1.0</td>\n",
              "    </tr>\n",
              "    <tr>\n",
              "      <th>15427</th>\n",
              "      <td>Mostly True</td>\n",
              "      <td>2008_jun_04_barack-obama_yes-but-you-cant-lump...</td>\n",
              "      <td>ronald reagan met gorbachev kennedy met khrusc...</td>\n",
              "      <td>barack obama</td>\n",
              "      <td>with mccain saying this is bowing down to terr...</td>\n",
              "      <td>aaiusa.org</td>\n",
              "      <td>1.0</td>\n",
              "      <td>1.0</td>\n",
              "    </tr>\n",
              "    <tr>\n",
              "      <th>17294</th>\n",
              "      <td>False</td>\n",
              "      <td>2008_apr_15_focus-family-action_the-bill-has-n...</td>\n",
              "      <td>among obamas pet projects bill would commit us...</td>\n",
              "      <td>focus on the family action</td>\n",
              "      <td>up for vote the bill which has the support of ...</td>\n",
              "      <td>crossroad.to</td>\n",
              "      <td>0.0</td>\n",
              "      <td>0.0</td>\n",
              "    </tr>\n",
              "    <tr>\n",
              "      <th>23687</th>\n",
              "      <td>Mostly False</td>\n",
              "      <td>2010_jul_09_sarah-palin_palin-says-us-ranks-25...</td>\n",
              "      <td>us ranks 25th worldwide defense spending perce...</td>\n",
              "      <td>sarah palin</td>\n",
              "      <td>pointing out that us military spending is actu...</td>\n",
              "      <td>prospectjournal.org</td>\n",
              "      <td>0.0</td>\n",
              "      <td>0.0</td>\n",
              "    </tr>\n",
              "    <tr>\n",
              "      <th>11987</th>\n",
              "      <td>True</td>\n",
              "      <td>2009_mar_17_christina-romer_yes-take-predictio...</td>\n",
              "      <td>last week blue chip economic indicators came s...</td>\n",
              "      <td>christina romer</td>\n",
              "      <td>start to see employment going up rather than g...</td>\n",
              "      <td>nbcnews.com</td>\n",
              "      <td>1.0</td>\n",
              "      <td>0.0</td>\n",
              "    </tr>\n",
              "    <tr>\n",
              "      <th>28439</th>\n",
              "      <td>True</td>\n",
              "      <td>2010_oct_31_john-boehner_john-boehner-says-sti...</td>\n",
              "      <td>members congress not three days read bill stim...</td>\n",
              "      <td>john boehner</td>\n",
              "      <td>rep john boehner explained that americans shou...</td>\n",
              "      <td>cnsnews.com</td>\n",
              "      <td>1.0</td>\n",
              "      <td>0.0</td>\n",
              "    </tr>\n",
              "    <tr>\n",
              "      <th>25094</th>\n",
              "      <td>False</td>\n",
              "      <td>2017_aug_31_donald-trump_donald-trump-repeats-...</td>\n",
              "      <td>stopped traffic coming 78 percent</td>\n",
              "      <td>donald trump</td>\n",
              "      <td>percent of all global mobile devices could pot...</td>\n",
              "      <td>cisco.com</td>\n",
              "      <td>0.0</td>\n",
              "      <td>1.0</td>\n",
              "    </tr>\n",
              "    <tr>\n",
              "      <th>29448</th>\n",
              "      <td>False</td>\n",
              "      <td>2011_feb_23_state-democratic-party-wisconsin_l...</td>\n",
              "      <td>five states outlaw collective bargaining teach...</td>\n",
              "      <td>democratic party of wisconsin</td>\n",
              "      <td>the top 5 states on her list are right to work...</td>\n",
              "      <td>reddit.com</td>\n",
              "      <td>0.0</td>\n",
              "      <td>1.0</td>\n",
              "    </tr>\n",
              "    <tr>\n",
              "      <th>4734</th>\n",
              "      <td>Half-True</td>\n",
              "      <td>2009_jul_30_bill-pascrell_pascrell-says-53-per...</td>\n",
              "      <td>53 percent americans cut back health care last...</td>\n",
              "      <td>bill pascrell</td>\n",
              "      <td>before their natural deaths as the dutch data ...</td>\n",
              "      <td>nejm.org</td>\n",
              "      <td>1.0</td>\n",
              "      <td>1.0</td>\n",
              "    </tr>\n",
              "    <tr>\n",
              "      <th>19958</th>\n",
              "      <td>Mostly True</td>\n",
              "      <td>2013_feb_08_zoe-lofgren_rep-zoe-lofgren-says-u...</td>\n",
              "      <td>exception slavery chinese exclusion act laws n...</td>\n",
              "      <td>zoe lofgren</td>\n",
              "      <td>be clear that the immigration system currently...</td>\n",
              "      <td>kqed.org</td>\n",
              "      <td>1.0</td>\n",
              "      <td>0.0</td>\n",
              "    </tr>\n",
              "    <tr>\n",
              "      <th>20417</th>\n",
              "      <td>Mostly True</td>\n",
              "      <td>2016_mar_20_john-kasich_john-kasich-calls-out-...</td>\n",
              "      <td>says got know 18 billion worth free media got ...</td>\n",
              "      <td>john kasich</td>\n",
              "      <td>on media coverage without spending a dime gues...</td>\n",
              "      <td>downtrend.com</td>\n",
              "      <td>1.0</td>\n",
              "      <td>0.0</td>\n",
              "    </tr>\n",
              "    <tr>\n",
              "      <th>11262</th>\n",
              "      <td>Pants on Fire!</td>\n",
              "      <td>2011_sep_01_rick-perry_rick-perry-says-obama-d...</td>\n",
              "      <td>says president barack obama delivered 2 billio...</td>\n",
              "      <td>rick perry</td>\n",
              "      <td>health care plan dealt with 8 percent of our p...</td>\n",
              "      <td>google.com</td>\n",
              "      <td>0.0</td>\n",
              "      <td>1.0</td>\n",
              "    </tr>\n",
              "    <tr>\n",
              "      <th>18005</th>\n",
              "      <td>Pants on Fire!</td>\n",
              "      <td>2014_feb_24_matt-bevin_republican-challenger-m...</td>\n",
              "      <td>mitch mcconnell voted harry reid infringe gun ...</td>\n",
              "      <td>matt bevin</td>\n",
              "      <td>never said any such thing another pants on fir...</td>\n",
              "      <td>oregonlive.com</td>\n",
              "      <td>0.0</td>\n",
              "      <td>0.0</td>\n",
              "    </tr>\n",
              "    <tr>\n",
              "      <th>9695</th>\n",
              "      <td>Mostly True</td>\n",
              "      <td>2014_dec_09_barack-obama_america-younger-compe...</td>\n",
              "      <td>younger competitors entirely immigration</td>\n",
              "      <td>barack obama</td>\n",
              "      <td>the business roundtable an association of ceos...</td>\n",
              "      <td>businessinsider.com</td>\n",
              "      <td>1.0</td>\n",
              "      <td>0.0</td>\n",
              "    </tr>\n",
              "    <tr>\n",
              "      <th>24370</th>\n",
              "      <td>Half-True</td>\n",
              "      <td>2011_feb_16_newt-gingrich_newt-gingrich-accuse...</td>\n",
              "      <td>obama administration actually cut democracy eg...</td>\n",
              "      <td>newt gingrich</td>\n",
              "      <td>places crosstalk amanpour so president obama s...</td>\n",
              "      <td>go.com</td>\n",
              "      <td>1.0</td>\n",
              "      <td>0.0</td>\n",
              "    </tr>\n",
              "  </tbody>\n",
              "</table>\n",
              "<p>72 rows × 8 columns</p>\n",
              "</div>"
            ],
            "text/plain": [
              "           cred_label  ... pred_label_full\n",
              "5975      Mostly True  ...             0.0\n",
              "26008    Mostly False  ...             1.0\n",
              "14208           False  ...             1.0\n",
              "26123           False  ...             1.0\n",
              "3186            False  ...             1.0\n",
              "21173     Mostly True  ...             0.0\n",
              "20803  Pants on Fire!  ...             1.0\n",
              "24097           False  ...             1.0\n",
              "28158           False  ...             1.0\n",
              "27033  Pants on Fire!  ...             0.0\n",
              "26127           False  ...             1.0\n",
              "22519           False  ...             0.0\n",
              "20874            True  ...             0.0\n",
              "2676        Half-True  ...             0.0\n",
              "3831      Mostly True  ...             0.0\n",
              "11395           False  ...             1.0\n",
              "5210      Mostly True  ...             0.0\n",
              "15143            True  ...             1.0\n",
              "5421        Half-True  ...             0.0\n",
              "7750        Half-True  ...             0.0\n",
              "6292     Mostly False  ...             1.0\n",
              "23557    Mostly False  ...             1.0\n",
              "32              False  ...             0.0\n",
              "10753  Pants on Fire!  ...             0.0\n",
              "24925  Pants on Fire!  ...             0.0\n",
              "4050      Mostly True  ...             1.0\n",
              "29115     Mostly True  ...             1.0\n",
              "7554     Mostly False  ...             1.0\n",
              "8798        Half-True  ...             1.0\n",
              "15502  Pants on Fire!  ...             0.0\n",
              "...               ...  ...             ...\n",
              "24316            True  ...             0.0\n",
              "20169       Half-True  ...             1.0\n",
              "2109      Mostly True  ...             0.0\n",
              "5401   Pants on Fire!  ...             1.0\n",
              "4459            False  ...             1.0\n",
              "8213        Half-True  ...             0.0\n",
              "4718             True  ...             0.0\n",
              "19394  Pants on Fire!  ...             1.0\n",
              "22863     Mostly True  ...             0.0\n",
              "17101     Mostly True  ...             1.0\n",
              "16977            True  ...             0.0\n",
              "19737  Pants on Fire!  ...             0.0\n",
              "23523       Half-True  ...             0.0\n",
              "3396        Half-True  ...             1.0\n",
              "24668            True  ...             0.0\n",
              "6663      Mostly True  ...             1.0\n",
              "15427     Mostly True  ...             1.0\n",
              "17294           False  ...             0.0\n",
              "23687    Mostly False  ...             0.0\n",
              "11987            True  ...             0.0\n",
              "28439            True  ...             0.0\n",
              "25094           False  ...             1.0\n",
              "29448           False  ...             1.0\n",
              "4734        Half-True  ...             1.0\n",
              "19958     Mostly True  ...             0.0\n",
              "20417     Mostly True  ...             0.0\n",
              "11262  Pants on Fire!  ...             1.0\n",
              "18005  Pants on Fire!  ...             0.0\n",
              "9695      Mostly True  ...             0.0\n",
              "24370       Half-True  ...             0.0\n",
              "\n",
              "[72 rows x 8 columns]"
            ]
          },
          "metadata": {
            "tags": []
          },
          "execution_count": 65
        }
      ]
    },
    {
      "cell_type": "code",
      "metadata": {
        "id": "mUBuVjxUtPW3",
        "colab_type": "code",
        "colab": {}
      },
      "source": [
        "# Write to csv\n",
        "unique_test_or3.to_csv('op_attn_pol_artcl.csv', sep='\\t')"
      ],
      "execution_count": 0,
      "outputs": []
    },
    {
      "cell_type": "markdown",
      "metadata": {
        "id": "RgQKsXrf0Hdq",
        "colab_type": "text"
      },
      "source": [
        "## Bibliography"
      ]
    },
    {
      "cell_type": "markdown",
      "metadata": {
        "id": "FuGHVyUJ0LE6",
        "colab_type": "text"
      },
      "source": [
        "Kashyap Popat, Subhabrata Mukherjee, Andrew Yates and Gerhard Weikum, <i>DeClarE: Debunking Fake News and False Claims using Evidence-Aware Deep Learning</i>, Proceedings of the 2018 Conference on Empirical Methods in Natural Language Processing, Pages 22-32, 2018.\n",
        "\n",
        "Zhouhan Lin, Minwei Feng, Cicero Nogueira dos Santos, Mo Yu, Bing Xiang, Bowen Zhou and Yoshua Bengio,<i> A Structured Self-attentive Sentence Embedding</i>, ICLR, 2017."
      ]
    }
  ]
}