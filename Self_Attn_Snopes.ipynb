{
  "nbformat": 4,
  "nbformat_minor": 0,
  "metadata": {
    "colab": {
      "name": "Self_Attn_Snopes.ipynb",
      "version": "0.3.2",
      "provenance": [],
      "collapsed_sections": []
    },
    "kernelspec": {
      "name": "python3",
      "display_name": "Python 3"
    },
    "accelerator": "GPU"
  },
  "cells": [
    {
      "cell_type": "markdown",
      "metadata": {
        "id": "VPqTvnmTehcd",
        "colab_type": "text"
      },
      "source": [
        "# Hybrid Model on Snopes Dataset"
      ]
    },
    {
      "cell_type": "markdown",
      "metadata": {
        "id": "NgYQKlB3eqIV",
        "colab_type": "text"
      },
      "source": [
        "The Hybrid model is created as a combination of the DeClarE model (Popat et al.,2018) and Self-Attentive Sentence Embedding model (Lin et al.,2017). This model uses the overall structure of DeClarE but replaces its attention mechanism with the Self-attention created in the second paper. The code for the Self-Attention model can be found at: https://github.com/kaushalshetty/Structured-Self-Attention/blob/master . This code have been used as the base for the Hybrid model. Before running the code in Google Colab, please upload the config.json and model_params.json file which is provided as a part of the project code zip file. Both of these file contain the hyper-parameters of the model and were originally created by the developer of this code base."
      ]
    },
    {
      "cell_type": "markdown",
      "metadata": {
        "id": "9kRi2AwlhoXc",
        "colab_type": "text"
      },
      "source": [
        "## All Imports"
      ]
    },
    {
      "cell_type": "code",
      "metadata": {
        "id": "u3H5j7obAurl",
        "colab_type": "code",
        "outputId": "c4b744ad-b4dc-4f26-ce7c-e36890ff01da",
        "colab": {
          "base_uri": "https://localhost:8080/",
          "height": 35
        }
      },
      "source": [
        "# Most of the code of this notebook is taken from https://github.com/kaushalshetty/Structured-Self-Attention/blob/master\n",
        "# All imports\n",
        "import json\n",
        "import pandas as pd\n",
        "import numpy as np\n",
        "from numpy import array\n",
        "from numpy import asarray\n",
        "from numpy import zeros\n",
        "import gzip\n",
        "\n",
        "from sklearn.model_selection import train_test_split\n",
        "from sklearn.metrics import confusion_matrix\n",
        "\n",
        "from sklearn.metrics import classification_report\n",
        "from sklearn.metrics import confusion_matrix\n",
        "from sklearn.metrics import precision_score\n",
        "from sklearn.metrics import recall_score\n",
        "from sklearn.metrics import accuracy_score\n",
        "from sklearn.metrics import fbeta_score\n",
        "from sklearn.metrics import roc_curve, auc\n",
        "\n",
        "from keras.preprocessing.text import Tokenizer\n",
        "from keras.preprocessing.sequence import pad_sequences\n",
        "from keras.utils import plot_model\n",
        "from keras.utils import np_utils\n",
        "\n",
        "from keras.optimizers import SGD, Adam\n",
        "from nltk import word_tokenize\n",
        "import matplotlib.pyplot as plt\n",
        "\n",
        "import torch,keras\n",
        "from torch.autograd import Variable\n",
        "import torch.nn.functional as F\n",
        "import torch.utils.data as data_utils\n",
        "from keras.datasets import imdb\n",
        "\n",
        "import random, os, numpy, scipy\n",
        "from codecs import open\n",
        "import os,sys"
      ],
      "execution_count": 1,
      "outputs": [
        {
          "output_type": "stream",
          "text": [
            "Using TensorFlow backend.\n"
          ],
          "name": "stderr"
        }
      ]
    },
    {
      "cell_type": "code",
      "metadata": {
        "id": "WN-XVNshA4HD",
        "colab_type": "code",
        "colab": {}
      },
      "source": [
        "# Random seed set to ensure that code provides the same output whenever randomisation is done.\n",
        "seed = 7\n",
        "np.random.seed(seed)"
      ],
      "execution_count": 0,
      "outputs": []
    },
    {
      "cell_type": "code",
      "metadata": {
        "id": "wtDrFTeDA6qF",
        "colab_type": "code",
        "outputId": "8225071d-151b-48fe-b924-5b45ce23da4c",
        "colab": {
          "base_uri": "https://localhost:8080/",
          "height": 277
        }
      },
      "source": [
        "# Get the Snopes Dataset from the location provided in the DeClarE paper.\n",
        "!wget http://resources.mpi-inf.mpg.de/impact/dl_cred_analysis/Snopes.zip\n",
        "!unzip Snopes.zip"
      ],
      "execution_count": 3,
      "outputs": [
        {
          "output_type": "stream",
          "text": [
            "--2019-09-01 11:25:13--  http://resources.mpi-inf.mpg.de/impact/dl_cred_analysis/Snopes.zip\n",
            "Resolving resources.mpi-inf.mpg.de (resources.mpi-inf.mpg.de)... 139.19.206.46\n",
            "Connecting to resources.mpi-inf.mpg.de (resources.mpi-inf.mpg.de)|139.19.206.46|:80... connected.\n",
            "HTTP request sent, awaiting response... 200 OK\n",
            "Length: 5559754 (5.3M) [application/zip]\n",
            "Saving to: ‘Snopes.zip’\n",
            "\n",
            "Snopes.zip          100%[===================>]   5.30M  2.49MB/s    in 2.1s    \n",
            "\n",
            "2019-09-01 11:25:16 (2.49 MB/s) - ‘Snopes.zip’ saved [5559754/5559754]\n",
            "\n",
            "Archive:  Snopes.zip\n",
            "   creating: Snopes/\n",
            "  inflating: Snopes/README           \n",
            "  inflating: Snopes/snopes.tsv       \n"
          ],
          "name": "stdout"
        }
      ]
    },
    {
      "cell_type": "code",
      "metadata": {
        "id": "X0B95u3WBVlk",
        "colab_type": "code",
        "outputId": "50ebf311-5c57-41a4-e13f-a2ae35f24a2e",
        "colab": {
          "base_uri": "https://localhost:8080/",
          "height": 451
        }
      },
      "source": [
        "# Download the Glove.zip file and expand it.\n",
        "!wget http://nlp.stanford.edu/data/glove.6B.zip\n",
        "!unzip glove*.zip"
      ],
      "execution_count": 4,
      "outputs": [
        {
          "output_type": "stream",
          "text": [
            "--2019-09-01 11:25:29--  http://nlp.stanford.edu/data/glove.6B.zip\n",
            "Resolving nlp.stanford.edu (nlp.stanford.edu)... 171.64.67.140\n",
            "Connecting to nlp.stanford.edu (nlp.stanford.edu)|171.64.67.140|:80... connected.\n",
            "HTTP request sent, awaiting response... 302 Found\n",
            "Location: https://nlp.stanford.edu/data/glove.6B.zip [following]\n",
            "--2019-09-01 11:25:29--  https://nlp.stanford.edu/data/glove.6B.zip\n",
            "Connecting to nlp.stanford.edu (nlp.stanford.edu)|171.64.67.140|:443... connected.\n",
            "HTTP request sent, awaiting response... 301 Moved Permanently\n",
            "Location: http://downloads.cs.stanford.edu/nlp/data/glove.6B.zip [following]\n",
            "--2019-09-01 11:25:30--  http://downloads.cs.stanford.edu/nlp/data/glove.6B.zip\n",
            "Resolving downloads.cs.stanford.edu (downloads.cs.stanford.edu)... 171.64.64.22\n",
            "Connecting to downloads.cs.stanford.edu (downloads.cs.stanford.edu)|171.64.64.22|:80... connected.\n",
            "HTTP request sent, awaiting response... 200 OK\n",
            "Length: 862182613 (822M) [application/zip]\n",
            "Saving to: ‘glove.6B.zip’\n",
            "\n",
            "glove.6B.zip        100%[===================>] 822.24M  19.7MB/s    in 42s     \n",
            "\n",
            "2019-09-01 11:26:13 (19.4 MB/s) - ‘glove.6B.zip’ saved [862182613/862182613]\n",
            "\n",
            "Archive:  glove.6B.zip\n",
            "  inflating: glove.6B.50d.txt        \n",
            "  inflating: glove.6B.100d.txt       \n",
            "  inflating: glove.6B.200d.txt       \n",
            "  inflating: glove.6B.300d.txt       \n"
          ],
          "name": "stdout"
        }
      ]
    },
    {
      "cell_type": "markdown",
      "metadata": {
        "id": "-aWuHwl7hu-y",
        "colab_type": "text"
      },
      "source": [
        "## Data preperation methods"
      ]
    },
    {
      "cell_type": "code",
      "metadata": {
        "id": "jrwthlFsA9Ag",
        "colab_type": "code",
        "colab": {}
      },
      "source": [
        "# This method divides the true and false data from the input dataframe and returns them as seperate dataframes\n",
        "def divide_truefalse(fact):\n",
        "  col = ['cred_label','claim_id','claim_text','article','article_source','bin_cred_label']\n",
        "  true_data= list()\n",
        "  false_data=list()\n",
        "  for index, row in fact.iterrows():\n",
        "    if row['cred_label'] == 'true' or row['cred_label'] == 'mostly true':\n",
        "      true_data.append(row)\n",
        "    else:\n",
        "      false_data.append(row)\n",
        "\n",
        "  data_frame_true = pd.DataFrame(true_data,columns=col)\n",
        "  data_frame_false = pd.DataFrame(false_data,columns=col)\n",
        "  return data_frame_true,data_frame_false"
      ],
      "execution_count": 0,
      "outputs": []
    },
    {
      "cell_type": "code",
      "metadata": {
        "id": "_1P6aAdhA_Yp",
        "colab_type": "code",
        "colab": {}
      },
      "source": [
        "# Method to load the Snopes into the Datafarme, process it and divide it into traning and test sets.\n",
        "def load_snopes():\n",
        "  facts=list()\n",
        "  fact=pd.read_csv('./Snopes/snopes.tsv', delimiter = '\\t', names = ['cred_label','claim_id','claim_text','article','article_source'])\n",
        "  \n",
        "  # Convert label to binary\n",
        "  claim_label = fact['cred_label']\n",
        "  # The original credibility labels are -{'false', 'mostly false', 'mostly true', 'true'}\n",
        "  claim_label = [1 if tuple == 'true'  or tuple == 'mostly true' else 0 for tuple in claim_label]\n",
        "  fact['bin_cred_label'] = claim_label\n",
        "  # Take only the top 8000\n",
        "  fact_true,fact_false = divide_truefalse(fact)\n",
        "  top = fact_false.head(8000)\n",
        "  frame = [fact_true,top]\n",
        "  fact = pd.concat(frame)\n",
        "  fact = fact.reset_index(drop=True)\n",
        "  claim_label = fact['cred_label']\n",
        "  # Convert the labels to binary values of 0 for false and 1 for true.\n",
        "  claim_label = [1 if tuple == 'true' or tuple == 'mostly true' else 0 for tuple in claim_label]\n",
        "  \n",
        "  # Get Train and Test sets\n",
        "  input_train,input_test,label_train,label_test = train_test_split(fact, claim_label, test_size=0.2, random_state=8)\n",
        "  # Convert the traning and test data as lists and return.\n",
        "  train_list= list()\n",
        "  train_list.append(input_train)\n",
        "  train_list.append(label_train)\n",
        "  \n",
        "  test_list = list()\n",
        "  test_list.append(input_test)\n",
        "  test_list.append(label_test)\n",
        "  return train_list, test_list"
      ],
      "execution_count": 0,
      "outputs": []
    },
    {
      "cell_type": "code",
      "metadata": {
        "id": "TwFc4qPnBFbZ",
        "colab_type": "code",
        "colab": {}
      },
      "source": [
        "# Get Snopes dataset. This method calls the previous methods.\n",
        "def load_data_set(max_len,vocab_size,batch_size):\n",
        "    \"\"\"\n",
        "        Loads the dataset.\n",
        " \n",
        "        Args:\n",
        "        max_len: {int} timesteps used for padding\n",
        "\t\t\t  vocab_size: {int} size of the vocabulary\n",
        "\t\t\t  batch_size: batch_size\n",
        "        \"\"\"\n",
        "    NUM_WORDS=vocab_size\n",
        "    # Get the Snopes dataframe\n",
        "    train_set,test_set = load_snopes()\n",
        "    x_train,y_train = train_set[0],train_set[1]\n",
        "    x_test,y_test = test_set[0],test_set[1]\n",
        "\n",
        "    # Code to check how many unique claims are present in the test set.\n",
        "    # Code found here: https://stackoverflow.com/questions/23460345/selecting-unique-rows-between-two-dataframes-in-pandas\n",
        "    unique_test = x_test[~x_test['claim_text'].isin(x_train['claim_text'])]\n",
        "    uniq_set = set(unique_test['claim_text'].tolist())\n",
        "    print(\"There are %d total unique rows in the test set and %d unique claims\" % (len(unique_test),len(uniq_set)))\n",
        "    \n",
        "    # Get the required columns as lists for both traning and test data\n",
        "    art_list = x_train['article'].tolist()\n",
        "    clm_list = x_train['claim_text'].tolist()\n",
        "    art_src_list = x_train['article_source'].tolist()\n",
        "    \n",
        "    test_art_list = x_test['article'].tolist()\n",
        "    test_clm_list = x_test['claim_text'].tolist()\n",
        "    test_art_src_list = x_test['article_source'].tolist()\n",
        "    # Text to Sequence conversion\n",
        "    t = Tokenizer()\n",
        "    t.fit_on_texts(clm_list+art_list+art_src_list)\n",
        "    t.num_words=NUM_WORDS\n",
        "    encoded_claim = t.texts_to_sequences(clm_list) # claim\n",
        "    encoded_art = t.texts_to_sequences(art_list) # article\n",
        "    encoded_art_src = t.texts_to_sequences(art_src_list) # article source\n",
        "    \n",
        "    encoded_claim_test = t.texts_to_sequences(test_clm_list)\n",
        "    encoded_art_test = t.texts_to_sequences(test_art_list)\n",
        "    encoded_art_src_test = t.texts_to_sequences(test_art_src_list)\n",
        "    word_to_id = t.word_index\n",
        "    \n",
        "    # Add a padding of 150 to article and 50 to claim. Padding of 8 given to article source.\n",
        "    # This is done for the training data.\n",
        "    x_train_pad_cl = pad_sequences(encoded_claim, maxlen=50, padding='post') # claim padding\n",
        "    x_train_pad = pad_sequences(encoded_art, maxlen=max_len, padding='post') # article padding\n",
        "    x_train_pad_s = pad_sequences(encoded_art_src, maxlen=8, padding='post') # article source padding\n",
        "    \n",
        "    # Test padding\n",
        "    x_test_pad_cl = pad_sequences(encoded_claim_test, maxlen=50, padding='post')\n",
        "    x_test_pad = pad_sequences(encoded_art_test, maxlen=max_len, padding='post')\n",
        "    x_test_pad_s = pad_sequences(encoded_art_src_test, maxlen=8, padding='post')\n",
        "    \n",
        "    # Covert training data to a Numpy array\n",
        "    x_train_pad_np_cl = np.array(x_train_pad_cl, dtype=np.float32) # claim numpy\n",
        "    x_train_pad_np = np.array(x_train_pad, dtype=np.float32) # article numpy\n",
        "    x_train_pad_np_s = np.array(x_train_pad_s, dtype=np.float32) # article source numpy\n",
        "    \n",
        "    # Test data numpy\n",
        "    x_test_pad_np_cl = np.array(x_test_pad_cl, dtype=np.float32)\n",
        "    x_test_pad_np = np.array(x_test_pad, dtype=np.float32)\n",
        "    x_test_pad_np_s = np.array(x_test_pad_s, dtype=np.float32)\n",
        "    \n",
        "    y_train_np = np.array(y_train, dtype=np.float32)\n",
        "    y_test_np = np.array(y_test, dtype=np.float32)\n",
        "    \n",
        "    # Convert the training data to a Tensor Variable to be used by the Hybrid model.\n",
        "    train_data = data_utils.TensorDataset(torch.from_numpy(x_train_pad_np_cl).type(torch.LongTensor),\n",
        "                                          torch.from_numpy(x_train_pad_np).type(torch.LongTensor),\n",
        "                                          torch.from_numpy(x_train_pad_np_s).type(torch.LongTensor),\n",
        "                                          torch.from_numpy(y_train_np).type(torch.DoubleTensor))\n",
        "    train_loader = data_utils.DataLoader(train_data,batch_size=batch_size,drop_last=True)\n",
        "    return train_loader, x_test_pad_np_cl, x_test_pad_np, x_test_pad_np_s, y_test_np, word_to_id, x_test,x_train"
      ],
      "execution_count": 0,
      "outputs": []
    },
    {
      "cell_type": "code",
      "metadata": {
        "id": "5yrkUB0SBJH6",
        "colab_type": "code",
        "colab": {}
      },
      "source": [
        "# Get the embedding matrix using Glove.\n",
        " \n",
        "vocab,word2idx = None,{}\n",
        "\n",
        "def load_glove_embeddings(path, word2idx, embedding_dim):\n",
        "    \"\"\"Loading the glove embeddings\"\"\"\n",
        "    vocab_size = len(word2idx) + 1\n",
        "    with open(path) as f:\n",
        "        embeddings = np.zeros((vocab_size, embedding_dim))\n",
        "        for line in f.readlines():\n",
        "            values = line.split()\n",
        "            word = values[0]\n",
        "            index = word2idx.get(word)\n",
        "            if index:\n",
        "                vector = np.array(values[1:], dtype='float32')\n",
        "                if vector.shape[-1] != embedding_dim:\n",
        "                    raise Exception('Dimension not matching.')\n",
        "                embeddings[index] = vector\n",
        "        return torch.from_numpy(embeddings).float()"
      ],
      "execution_count": 0,
      "outputs": []
    },
    {
      "cell_type": "code",
      "metadata": {
        "id": "_Hh09NurqHUt",
        "colab_type": "code",
        "outputId": "216cbd6b-f0ce-45ca-fadb-5b32ae102b6c",
        "colab": {
          "base_uri": "https://localhost:8080/",
          "height": 52
        }
      },
      "source": [
        "# Method to read and store the contents of the uploaded json files.\n",
        "def json_to_dict(json_set):\n",
        "    for k,v in json_set.items():\n",
        "        if v == 'False':\n",
        "            json_set[k] = False\n",
        "        elif v == 'True':\n",
        "            json_set[k] = True\n",
        "        else:\n",
        "            json_set[k] = v\n",
        "    return json_set\n",
        "\n",
        "  \n",
        "with open('config.json', 'r') as f:\n",
        "    params_set = json.load(f)\n",
        "\n",
        "with open('model_params.json', 'r') as f:\n",
        "    model_params = json.load(f)\n",
        "\n",
        "params_set = json_to_dict(params_set)\n",
        "model_params = json_to_dict(model_params)\n",
        " \n",
        "print(\"Using settings:\",params_set)\n",
        "print(\"Using model settings\",model_params)"
      ],
      "execution_count": 9,
      "outputs": [
        {
          "output_type": "stream",
          "text": [
            "Using settings: {'epochs': 2, 'use_regularization': True, 'C': 0.03, 'clip': True, 'use_embeddings': True, 'attention_hops': 10}\n",
            "Using model settings {'batch_size': 512, 'vocab_size': 20000, 'timesteps': 100, 'lstm_hidden_dimension': 50, 'd_a': 100}\n"
          ],
          "name": "stdout"
        }
      ]
    },
    {
      "cell_type": "code",
      "metadata": {
        "id": "vMdffdIfngnJ",
        "colab_type": "code",
        "outputId": "04240d57-aed3-4926-9bf1-380097891a37",
        "colab": {
          "base_uri": "https://localhost:8080/",
          "height": 35
        }
      },
      "source": [
        "# Call the method to load the Snopes dataset and embedding matrix\n",
        "MAXLENGTH = 150\n",
        "train_loader,x_test_pad_cl,x_test_pad,x_test_pad_s,y_test,word_to_id,x_test_or,x_train_or = load_data_set(MAXLENGTH,model_params[\"vocab_size\"],model_params['batch_size']) #loading snopes dataset  \n",
        "\n",
        "embeddings = load_glove_embeddings(\"glove.6B.50d.txt\",word_to_id,50)"
      ],
      "execution_count": 11,
      "outputs": [
        {
          "output_type": "stream",
          "text": [
            "There are 87 total unique rows in the test set and 69 unique claims\n"
          ],
          "name": "stdout"
        }
      ]
    },
    {
      "cell_type": "markdown",
      "metadata": {
        "id": "ilzc2ENMh7HJ",
        "colab_type": "text"
      },
      "source": [
        "## StructuredSelfAttention Model Full"
      ]
    },
    {
      "cell_type": "code",
      "metadata": {
        "id": "AJJu_bj0BDFk",
        "colab_type": "code",
        "colab": {}
      },
      "source": [
        "# Structured Self Attention class. This class reprsents the Hybrid model. Most of this clas is taken from: https://github.com/kaushalshetty/Structured-Self-Attention/blob/master\n",
        " \n",
        "class StructuredSelfAttention(torch.nn.Module):\n",
        "    def __init__(self,batch_size,lstm_hid_dim,d_a,r,max_len,emb_dim=100,vocab_size=None,use_pretrained_embeddings = False,embeddings=None,type= 0,n_classes = 1):\n",
        "        \"\"\"\n",
        "        Initializes parameters suggested in paper\n",
        " \n",
        "        Args:\n",
        "            batch_size  : {int} batch_size used for training\n",
        "            lstm_hid_dim: {int} hidden dimension for lstm\n",
        "            d_a         : {int} hidden dimension for the dense layer\n",
        "            r           : {int} attention-hops or attention heads\n",
        "            max_len     : {int} number of lstm timesteps\n",
        "            emb_dim     : {int} embeddings dimension\n",
        "            vocab_size  : {int} size of the vocabulary\n",
        "            use_pretrained_embeddings: {bool} use or train your own embeddings\n",
        "            embeddings  : {torch.FloatTensor} loaded pretrained embeddings\n",
        "            type        : [0,1] 0-->binary_classification 1-->multiclass classification\n",
        "            n_classes   : {int} number of classes\n",
        " \n",
        "        Returns:\n",
        "            self\n",
        " \n",
        "        Raises:\n",
        "            Exception\n",
        "        \"\"\"\n",
        "        super(StructuredSelfAttention,self).__init__()\n",
        "        # Model layers initialization\n",
        "        self.embeddings,emb_dim = self._load_embeddings(use_pretrained_embeddings,embeddings,vocab_size,emb_dim)\n",
        "        self.lstm = torch.nn.LSTM(emb_dim,lstm_hid_dim,1,batch_first=True)\n",
        "        self.linear_first = torch.nn.Linear(lstm_hid_dim,d_a)\n",
        "        self.linear_first.bias.data.fill_(0)\n",
        "        self.linear_second = torch.nn.Linear(d_a,r)\n",
        "        self.linear_second.bias.data.fill_(0)\n",
        "        self.n_classes = n_classes\n",
        "        \n",
        "        self.embeddings2,emb_dim = self._load_embeddings(use_pretrained_embeddings,embeddings,vocab_size,emb_dim)\n",
        "        self.lstm2 = torch.nn.LSTM(emb_dim,lstm_hid_dim,1,batch_first=True)\n",
        "        self.linear_first2 = torch.nn.Linear(lstm_hid_dim,d_a)\n",
        "        self.linear_first2.bias.data.fill_(0)\n",
        "        self.linear_second2 = torch.nn.Linear(d_a,r)\n",
        "        self.linear_second2.bias.data.fill_(0)\n",
        "        \n",
        "        self.embeddings4,emb_dim = self._load_embeddings(use_pretrained_embeddings,embeddings,vocab_size,emb_dim)\n",
        "        \n",
        "        self.linear_penul = torch.nn.Linear(2*lstm_hid_dim,8)\n",
        "        self.linear_final = torch.nn.Linear(8,self.n_classes)\n",
        "        self.batch_size = batch_size       \n",
        "        self.max_len = max_len\n",
        "        self.lstm_hid_dim = lstm_hid_dim\n",
        "        self.hidden_state = self.init_hidden()\n",
        "        self.r = r\n",
        "        self.type = type\n",
        "                 \n",
        "    def _load_embeddings(self,use_pretrained_embeddings,embeddings,vocab_size,emb_dim):\n",
        "        \"\"\"Load the embeddings based on flag\"\"\"\n",
        "        if use_pretrained_embeddings is True and embeddings is None:\n",
        "            raise Exception(\"Send a pretrained word embedding as an argument\")\n",
        "           \n",
        "        if not use_pretrained_embeddings and vocab_size is None:\n",
        "            raise Exception(\"Vocab size cannot be empty\")\n",
        "   \n",
        "        if not use_pretrained_embeddings:\n",
        "            word_embeddings = torch.nn.Embedding(vocab_size,emb_dim,padding_idx=0)\n",
        "            \n",
        "        elif use_pretrained_embeddings:\n",
        "            word_embeddings = torch.nn.Embedding(embeddings.size(0), embeddings.size(1))\n",
        "            word_embeddings.weight = torch.nn.Parameter(embeddings)\n",
        "            emb_dim = embeddings.size(1)\n",
        "            \n",
        "        return word_embeddings,emb_dim\n",
        "       \n",
        "        \n",
        "    def softmax(self,input, axis=1):\n",
        "        \"\"\"\n",
        "        Softmax applied to axis=n\n",
        " \n",
        "        Args:\n",
        "           input: {Tensor,Variable} input on which softmax is to be applied\n",
        "           axis : {int} axis on which softmax is to be applied\n",
        " \n",
        "        Returns:\n",
        "            softmaxed tensors\n",
        " \n",
        "       \n",
        "        \"\"\"\n",
        "        input_size = input.size()\n",
        "        trans_input = input.transpose(axis, len(input_size)-1)\n",
        "        trans_size = trans_input.size()\n",
        "        input_2d = trans_input.contiguous().view(-1, trans_size[-1])\n",
        "        soft_max_2d = F.softmax(input_2d)\n",
        "        soft_max_nd = soft_max_2d.view(*trans_size)\n",
        "        return soft_max_nd.transpose(axis, len(input_size)-1)\n",
        "       \n",
        "        \n",
        "    def init_hidden(self):\n",
        "        return (Variable(torch.zeros(1,self.batch_size,self.lstm_hid_dim)),Variable(torch.zeros(1,self.batch_size,self.lstm_hid_dim)))\n",
        "       \n",
        "        \n",
        "    def forward(self,x,y,ys):\n",
        "        embeddings = self.embeddings(x) # claim embedding\n",
        "        embeddings_part_y = self.embeddings(y[:,:100]) # article embedding, taking the first 100.\n",
        "        main_embedding  = torch.cat((embeddings, embeddings_part_y), 1) # concatenation of claim and article\n",
        "        # Bi-LSTM layer\n",
        "        outputs, self.hidden_state = self.lstm(main_embedding.view(self.batch_size,self.max_len,-1),self.hidden_state)   \n",
        "        # Self-Attention mechanism\n",
        "        x = torch.tanh(self.linear_first(outputs))       \n",
        "        x = self.linear_second(x)       \n",
        "        x = self.softmax(x,1)       \n",
        "        attention = x.transpose(1,2)  \n",
        "        sentence_embeddings = attention@outputs\n",
        "        \n",
        "        # The same mechanim doen for the Article only input\n",
        "        embeddings2 = self.embeddings2(y)    \n",
        "        outputs2, self.hidden_state2 = self.lstm2(embeddings2.view(self.batch_size,self.max_len,-1),self.hidden_state)       \n",
        "        x2 = torch.tanh(self.linear_first2(outputs2))       \n",
        "        x2 = self.linear_second2(x2)       \n",
        "        x2 = self.softmax(x2,1)       \n",
        "        attention2 = x2.transpose(1,2)       \n",
        "        sentence_embeddings2 = attention2@outputs2\n",
        "        # Combine the output of the two Self-Attentions\n",
        "        ele_mul = sentence_embeddings * sentence_embeddings2\n",
        "        # Take an average\n",
        "        avg_sentence_embeddings = torch.sum(ele_mul,1)/self.r\n",
        "        # Create embedding for article source\n",
        "        embeddings4 = self.embeddings4(ys) \n",
        "        # Take average\n",
        "        avg_asource_embeddings = torch.sum(embeddings4,1)/self.r\n",
        "        # Combine with the average of the Sef-attention outputs.\n",
        "        comb_avg = torch.cat((avg_sentence_embeddings, avg_asource_embeddings), 1)\n",
        "        dense1 = self.linear_penul(comb_avg) \n",
        "        output = torch.sigmoid(self.linear_final(dense1))\n",
        "        return output,attention2\n",
        "        \n",
        "    #Regularization\n",
        "    def l2_matrix_norm(self,m):\n",
        "        \"\"\"\n",
        "        Frobenius norm calculation\n",
        " \n",
        "        Args:\n",
        "           m: {Variable} ||AAT - I||\n",
        " \n",
        "        Returns:\n",
        "            regularized value\n",
        "       \n",
        "        \"\"\"\n",
        "        return torch.sum(torch.sum(torch.sum(m**2,1),1)**0.5).type(torch.DoubleTensor)"
      ],
      "execution_count": 0,
      "outputs": []
    },
    {
      "cell_type": "code",
      "metadata": {
        "id": "MurMNo71BLvj",
        "colab_type": "code",
        "colab": {}
      },
      "source": [
        "# Training function that applies the penalization. Most of this code is taken from: https://github.com/kaushalshetty/Structured-Self-Attention/blob/master\n",
        " \n",
        "def train(attention_model,train_loader,criterion,optimizer,epochs = 5,use_regularization = False,C=0,clip=False):\n",
        "    \"\"\"\n",
        "        Training code\n",
        " \n",
        "        Args:\n",
        "            attention_model : {object} model\n",
        "            train_loader    : {DataLoader} training data loaded into a dataloader\n",
        "            optimizer       :  optimizer\n",
        "            criterion       :  loss function. Must be BCELoss for binary_classification and NLLLoss for multiclass\n",
        "            epochs          : {int} number of epochs\n",
        "            use_regularizer : {bool} use penalization or not\n",
        "            C               : {int} penalization coeff\n",
        "            clip            : {bool} use gradient clipping or not\n",
        "       \n",
        "        Returns:\n",
        "            accuracy and losses of the model\n",
        "      \n",
        "        \"\"\"\n",
        "    losses = []\n",
        "    accuracy = []\n",
        "    for i in range(epochs):\n",
        "        print(\"Running EPOCH\",i+1)\n",
        "        total_loss = 0\n",
        "        n_batches = 0\n",
        "        correct = 0\n",
        "        \n",
        "        for batch_idx,train in enumerate(train_loader):\n",
        "            attention_model.hidden_state = attention_model.init_hidden()\n",
        "            x,x2,x2s,y = Variable(train[0]),Variable(train[1]),Variable(train[2]),Variable(train[3])\n",
        "            y_pred,att = attention_model(x,x2,x2s)\n",
        "            \n",
        "            #penalization AAT - I\n",
        "            if use_regularization:\n",
        "                attT = att.transpose(1,2)\n",
        "                identity = torch.eye(att.size(1))\n",
        "                identity = Variable(identity.unsqueeze(0).expand(train_loader.batch_size,att.size(1),att.size(1)))\n",
        "                penal = attention_model.l2_matrix_norm(att@attT - identity)\n",
        "            \n",
        "            if not bool(attention_model.type) :\n",
        "                #binary classification\n",
        "                #Adding a very small value to prevent BCELoss from outputting NaN's\n",
        "                correct+=torch.eq(torch.round(y_pred.type(torch.DoubleTensor).squeeze(1)),y).data.sum()\n",
        "                if use_regularization:\n",
        "                    try:\n",
        "                        loss = criterion(y_pred.type(torch.DoubleTensor).squeeze(1)+1e-8,y) + C * penal/train_loader.batch_size\n",
        "                        \n",
        "                    except RuntimeError:\n",
        "                        raise Exception(\"BCELoss gets nan values on regularization. Either remove regularization or add very small values\")\n",
        "                else:\n",
        "                    loss = criterion(y_pred.type(torch.DoubleTensor).squeeze(1),y)\n",
        "\n",
        "            total_loss+=loss.data\n",
        "            optimizer.zero_grad()\n",
        "            loss.backward()\n",
        "            \n",
        "            #gradient clipping\n",
        "            if clip:\n",
        "                torch.nn.utils.clip_grad_norm_(attention_model.parameters(),0.5)\n",
        "            optimizer.step()\n",
        "            n_batches+=1\n",
        "        \n",
        "        print(\"avg_loss is\",total_loss/n_batches)\n",
        "        corr_nump = correct.data.cpu().numpy().astype(int)\n",
        "        acc = corr_nump/float(n_batches*train_loader.batch_size)\n",
        "        print(\"Accuracy of the model\",acc)\n",
        "        losses.append(total_loss/n_batches)\n",
        "        accuracy.append(acc)\n",
        "    return losses,accuracy\n",
        "\n",
        "# Evaluate the test result and return the accuracy and the predicted values\n",
        "def evaluate(attention_model,x_test_cl,x_test,x_test_s,y_test):\n",
        "    \n",
        "    attention_model.batch_size = x_test.shape[0]\n",
        "    attention_model.hidden_state = attention_model.init_hidden()\n",
        "    \n",
        "    x_test_var = Variable(torch.from_numpy(x_test).type(torch.LongTensor)) # article var\n",
        "    x_test_var_cl = Variable(torch.from_numpy(x_test_cl).type(torch.LongTensor)) # claim var\n",
        "    x_test_var_s = Variable(torch.from_numpy(x_test_s).type(torch.LongTensor)) # article source var\n",
        "    y_test_pred,_ = attention_model(x_test_var_cl,x_test_var,x_test_var_s)\n",
        "\n",
        "    y_preds = torch.round(y_test_pred.type(torch.DoubleTensor).squeeze(1))\n",
        "    y_test_var = Variable(torch.from_numpy(y_test).type(torch.DoubleTensor))\n",
        "    sum = torch.eq(y_preds,y_test_var).data.sum()\n",
        "    total = x_test_var.size(0)\n",
        "    acc = sum.data.cpu().numpy().astype(int)/float(total)\n",
        "    return acc, y_preds\n",
        "\n",
        "def get_activation_wts(attention_model,x,y,ys):\n",
        "    \"\"\"\n",
        "        Get r attention heads\n",
        " \n",
        "        Args:\n",
        "            attention_model : {object} model\n",
        "            x               : {torch.Variable} input whose weights we want (claim)\n",
        "            y               : {torch.Variable} the second input (article)\n",
        "       \n",
        "        Returns:\n",
        "            r different attention weights\n",
        " \n",
        "      \n",
        "    \"\"\"\n",
        "    attention_model.batch_size = x.size(0)\n",
        "    attention_model.hidden_state = attention_model.init_hidden()\n",
        "    _,wts = attention_model(x,y,ys)\n",
        "    return wts"
      ],
      "execution_count": 0,
      "outputs": []
    },
    {
      "cell_type": "code",
      "metadata": {
        "id": "HenT1r-PBOoE",
        "colab_type": "code",
        "colab": {}
      },
      "source": [
        "#Creates and HTML file which show the attention weights visulaization on the article. This code taken from: https://github.com/kaushalshetty/Structured-Self-Attention/blob/master\n",
        " \n",
        "def createHTML(texts, weights, fileName):\n",
        "    \"\"\"\n",
        "    Creates a html file with text heat.\n",
        "\tweights: attention weights for visualizing\n",
        "\ttexts: text on which attention weights are to be visualized\n",
        "    \"\"\"\n",
        "    fileName = \"visualization/\"+fileName\n",
        "    fOut = open(fileName, \"w\", encoding=\"utf-8\")\n",
        "    part1 = \"\"\"\n",
        "    <html lang=\"en\">\n",
        "    <head>\n",
        "    <meta http-equiv=\"content-type\" content=\"text/html; charset=utf-8\">\n",
        "    <style>\n",
        "    body {\n",
        "    font-family: Sans-Serif;\n",
        "    }\n",
        "    </style>\n",
        "    </head>\n",
        "    <body>\n",
        "    <h3>\n",
        "    Heatmaps\n",
        "    </h3>\n",
        "    </body>\n",
        "    <script>\n",
        "    \"\"\"\n",
        "    part2 = \"\"\"\n",
        "    var color = \"255,0,0\";\n",
        "    var ngram_length = 3;\n",
        "    var half_ngram = 1;\n",
        "    for (var k=0; k < any_text.length; k++) {\n",
        "    var tokens = any_text[k].split(\" \");\n",
        "    var intensity = new Array(tokens.length);\n",
        "    var max_intensity = Number.MIN_SAFE_INTEGER;\n",
        "    var min_intensity = Number.MAX_SAFE_INTEGER;\n",
        "    for (var i = 0; i < intensity.length; i++) {\n",
        "    intensity[i] = 0.0;\n",
        "    for (var j = -half_ngram; j < ngram_length-half_ngram; j++) {\n",
        "    if (i+j < intensity.length && i+j > -1) {\n",
        "    intensity[i] += trigram_weights[k][i + j];\n",
        "    }\n",
        "    }\n",
        "    if (i == 0 || i == intensity.length-1) {\n",
        "    intensity[i] /= 2.0;\n",
        "    } else {\n",
        "    intensity[i] /= 3.0;\n",
        "    }\n",
        "    if (intensity[i] > max_intensity) {\n",
        "    max_intensity = intensity[i];\n",
        "    }\n",
        "    if (intensity[i] < min_intensity) {\n",
        "    min_intensity = intensity[i];\n",
        "    }\n",
        "    }\n",
        "    var denominator = max_intensity - min_intensity;\n",
        "    for (var i = 0; i < intensity.length; i++) {\n",
        "    intensity[i] = (intensity[i] - min_intensity) / denominator;\n",
        "    }\n",
        "    if (k%2 == 0) {\n",
        "    var heat_text = \"<p><br><b>Example:</b><br>\";\n",
        "    } else {\n",
        "    var heat_text = \"<b>Example:</b><br>\";\n",
        "    }\n",
        "    var space = \"\";\n",
        "    for (var i = 0; i < tokens.length; i++) {\n",
        "    heat_text += \"<span style='background-color:rgba(\" + color + \",\" + intensity[i] + \")'>\" + space + tokens[i] + \"</span>\";\n",
        "    if (space == \"\") {\n",
        "    space = \" \";\n",
        "    }\n",
        "    }\n",
        "    //heat_text += \"<p>\";\n",
        "    document.body.innerHTML += heat_text;\n",
        "    }\n",
        "    </script>\n",
        "    </html>\"\"\"\n",
        "    putQuote = lambda x: \"\\\"%s\\\"\"%x\n",
        "    textsString = \"var any_text = [%s];\\n\"%(\",\".join(map(putQuote, texts)))\n",
        "    weightsString = \"var trigram_weights = [%s];\\n\"%(\",\".join(map(str,weights)))\n",
        "    fOut.write(part1)\n",
        "    fOut.write(textsString)\n",
        "    fOut.write(weightsString)\n",
        "    fOut.write(part2)\n",
        "    fOut.close()\n",
        "  \n",
        "    return"
      ],
      "execution_count": 0,
      "outputs": []
    },
    {
      "cell_type": "code",
      "metadata": {
        "id": "J5PgrwbPBRSh",
        "colab_type": "code",
        "colab": {}
      },
      "source": [
        "# Create a new directory called visualization.\n",
        "!mkdir visualization"
      ],
      "execution_count": 0,
      "outputs": []
    },
    {
      "cell_type": "markdown",
      "metadata": {
        "id": "vrxe_XLciHNk",
        "colab_type": "text"
      },
      "source": [
        "## Model execution"
      ]
    },
    {
      "cell_type": "code",
      "metadata": {
        "id": "QguJ8wKDBZMZ",
        "colab_type": "code",
        "colab": {}
      },
      "source": [
        "#Method to process the article and the attention weights then create the HTML file.\n",
        "def visualize_attention(wts,x_test_pad,word_to_id,filename):\n",
        "    wts_add = torch.sum(wts,1)\n",
        "    wts_add_np = wts_add.data.numpy()\n",
        "    wts_add_list = wts_add_np.tolist()\n",
        "    id_to_word = {v:k for k,v in word_to_id.items()}\n",
        "    text= []\n",
        "    for test in x_test_pad:\n",
        "        line=list()\n",
        "        for i in test:\n",
        "          if i == 0.0:\n",
        "            word = '<UNK>'\n",
        "          else:\n",
        "            word = id_to_word.get(i)\n",
        "          line.append(word)\n",
        "        text.append(\" \".join(line))\n",
        "    createHTML(text, wts_add_list, filename)\n",
        "    print(\"Attention visualization created for {} samples\".format(len(x_test_pad)))\n",
        "    return\n",
        "# Method to perform the classification using Binary Cross Entropy Loss and RMSProp optimizer\n",
        "def binary_classfication(attention_model,train_loader,epochs=5,use_regularization=True,C=1.0,clip=True):\n",
        "    loss = torch.nn.BCELoss()\n",
        "    optimizer = torch.optim.RMSprop(attention_model.parameters())\n",
        "    loss,accuracy=train(attention_model,train_loader,loss,optimizer,epochs,use_regularization,C,clip)\n",
        "    return loss, accuracy"
      ],
      "execution_count": 0,
      "outputs": []
    },
    {
      "cell_type": "code",
      "metadata": {
        "id": "dNwJGRMrBcBG",
        "colab_type": "code",
        "outputId": "1e2ff01b-62bf-4520-f176-94b90960f5b1",
        "colab": {
          "base_uri": "https://localhost:8080/",
          "height": 211
        }
      },
      "source": [
        "# Model execution\n",
        "attention_model = StructuredSelfAttention(batch_size=train_loader.batch_size,lstm_hid_dim=model_params['lstm_hidden_dimension'],d_a = model_params[\"d_a\"],r=params_set[\"attention_hops\"],vocab_size=len(word_to_id),max_len=MAXLENGTH,type=0,n_classes=1,use_pretrained_embeddings=True,embeddings=embeddings)\n",
        "\n",
        "loss, acc = binary_classfication(attention_model,train_loader=train_loader,epochs=3,use_regularization=True,C=params_set[\"C\"],clip=params_set[\"clip\"])"
      ],
      "execution_count": 17,
      "outputs": [
        {
          "output_type": "stream",
          "text": [
            "Running EPOCH 1\n"
          ],
          "name": "stdout"
        },
        {
          "output_type": "stream",
          "text": [
            "/usr/local/lib/python3.6/dist-packages/ipykernel_launcher.py:96: UserWarning: Implicit dimension choice for softmax has been deprecated. Change the call to include dim=X as an argument.\n"
          ],
          "name": "stderr"
        },
        {
          "output_type": "stream",
          "text": [
            "avg_loss is tensor(0.7570, dtype=torch.float64)\n",
            "Accuracy of the model 0.6172688802083334\n",
            "Running EPOCH 2\n",
            "avg_loss is tensor(0.2156, dtype=torch.float64)\n",
            "Accuracy of the model 0.9462890625\n",
            "Running EPOCH 3\n",
            "avg_loss is tensor(0.0863, dtype=torch.float64)\n",
            "Accuracy of the model 0.98828125\n"
          ],
          "name": "stdout"
        }
      ]
    },
    {
      "cell_type": "code",
      "metadata": {
        "id": "fUPRuf9hVzA0",
        "colab_type": "code",
        "outputId": "d1962b49-43cf-4e6b-d1ec-8f1f6d5d5129",
        "colab": {
          "base_uri": "https://localhost:8080/",
          "height": 72
        }
      },
      "source": [
        "# Accuracy of the test data\n",
        "acc, pred = evaluate(attention_model, x_test_pad_cl, x_test_pad, x_test_pad_s, y_test)\n",
        "print(acc)"
      ],
      "execution_count": 18,
      "outputs": [
        {
          "output_type": "stream",
          "text": [
            "/usr/local/lib/python3.6/dist-packages/ipykernel_launcher.py:96: UserWarning: Implicit dimension choice for softmax has been deprecated. Change the call to include dim=X as an argument.\n"
          ],
          "name": "stderr"
        },
        {
          "output_type": "stream",
          "text": [
            "0.9832366215344939\n"
          ],
          "name": "stdout"
        }
      ]
    },
    {
      "cell_type": "code",
      "metadata": {
        "id": "bXD4v87pjN0q",
        "colab_type": "code",
        "colab": {}
      },
      "source": [
        "# Method to plot the confusion matrix. Code taken from https://scikit-learn.org/stable/auto_examples/model_selection/plot_confusion_matrix.html\n",
        "def plot_confusion_matrix(y_true, y_pred, classes,\n",
        "                          normalize=False,\n",
        "                          title=None,\n",
        "                          cmap=plt.cm.Greens):\n",
        "    \"\"\"\n",
        "    This function prints and plots the confusion matrix.\n",
        "    Normalization can be applied by setting `normalize=True`.\n",
        "    \"\"\"\n",
        "    if not title:\n",
        "        if normalize:\n",
        "            title = 'Normalized confusion matrix'\n",
        "        else:\n",
        "            title = 'Confusion matrix, without normalization'\n",
        "\n",
        "    # Compute confusion matrix\n",
        "    cm = confusion_matrix(y_true, y_pred)\n",
        "    if normalize:\n",
        "        cm = cm.astype('float') / cm.sum(axis=1)[:, np.newaxis]\n",
        "        print(\"Normalized confusion matrix\")\n",
        "    else:\n",
        "        print('Confusion matrix, without normalization')\n",
        "\n",
        "    print(cm)\n",
        "\n",
        "    fig, ax = plt.subplots()\n",
        "    im = ax.imshow(cm, interpolation='nearest', cmap=cmap)\n",
        "    ax.figure.colorbar(im, ax=ax)\n",
        "    # We want to show all ticks...\n",
        "    ax.set(xticks=np.arange(cm.shape[1]),\n",
        "           yticks=np.arange(cm.shape[0]),\n",
        "           # ... and label them with the respective list entries\n",
        "           xticklabels=['False','True'], yticklabels=['False','True'],\n",
        "           title=title,\n",
        "           ylabel='True label',\n",
        "           xlabel='Predicted label')\n",
        "\n",
        "    # Rotate the tick labels and set their alignment.\n",
        "    plt.setp(ax.get_xticklabels(), rotation=45, ha=\"right\",\n",
        "             rotation_mode=\"anchor\")\n",
        "    plt.grid(False)\n",
        "\n",
        "    # Loop over data dimensions and create text annotations.\n",
        "    fmt = '.2f' if normalize else 'd'\n",
        "    thresh = cm.max() / 2.\n",
        "    for i in range(cm.shape[0]):\n",
        "        for j in range(cm.shape[1]):\n",
        "            ax.text(j, i, format(cm[i, j], fmt),\n",
        "                    ha=\"center\", va=\"center\",\n",
        "                    color=\"white\" if cm[i, j] > thresh else \"black\")\n",
        "    fig.tight_layout()\n",
        "    return ax"
      ],
      "execution_count": 0,
      "outputs": []
    },
    {
      "cell_type": "code",
      "metadata": {
        "id": "FxDVcnUbjS_4",
        "colab_type": "code",
        "outputId": "5a6d57bc-bacb-436b-a31a-4c9c68f931fc",
        "colab": {
          "base_uri": "https://localhost:8080/",
          "height": 699
        }
      },
      "source": [
        "plot_confusion_matrix(y_test,pred.detach().numpy(),[0,1])\n",
        "plot_confusion_matrix(y_test,pred.detach().numpy(),[0,1], normalize=True)"
      ],
      "execution_count": 20,
      "outputs": [
        {
          "output_type": "stream",
          "text": [
            "Confusion matrix, without normalization\n",
            "[[1586   20]\n",
            " [  32 1464]]\n",
            "Normalized confusion matrix\n",
            "[[0.9875467  0.0124533 ]\n",
            " [0.02139037 0.97860963]]\n"
          ],
          "name": "stdout"
        },
        {
          "output_type": "execute_result",
          "data": {
            "text/plain": [
              "<matplotlib.axes._subplots.AxesSubplot at 0x7f0ba32602e8>"
            ]
          },
          "metadata": {
            "tags": []
          },
          "execution_count": 20
        },
        {
          "output_type": "display_data",
          "data": {
            "image/png": "[encoded data removed]",
            "text/plain": [
              "<Figure size 432x288 with 2 Axes>"
            ]
          },
          "metadata": {
            "tags": []
          }
        },
        {
          "output_type": "display_data",
          "data": {
            "image/png": "[encoded data removed]",
            "text/plain": [
              "<Figure size 432x288 with 2 Axes>"
            ]
          },
          "metadata": {
            "tags": []
          }
        }
      ]
    },
    {
      "cell_type": "code",
      "metadata": {
        "id": "wI-ewwH8jkum",
        "colab_type": "code",
        "colab": {}
      },
      "source": [
        "# Code taken from Lab5 of TaD. This method returns the accuarcy, precision, recall and F1 measure values for an input.\n",
        "def evaluation_summary(description, predictions, true_labels):\n",
        "  print(\"Evaluation for: \" + description)\n",
        "  precision = precision_score(predictions, true_labels, average='macro')\n",
        "  recall = recall_score(predictions, true_labels, average='macro')\n",
        "  accuracy = accuracy_score(predictions, true_labels)\n",
        "  f1 = fbeta_score(predictions, true_labels, 1, average='macro') #1 means f_1 measure\n",
        "  print(\"Classifier '%s' has Acc=%0.3f P=%0.3f R=%0.3f F1=%0.3f\" % (description,accuracy,precision,recall,f1))\n",
        "  print(classification_report(predictions, true_labels, digits=3))\n",
        "  print('\\nConfusion matrix:\\n',confusion_matrix(true_labels, predictions))\n",
        "  return precision,recall,accuracy,f1 "
      ],
      "execution_count": 0,
      "outputs": []
    },
    {
      "cell_type": "code",
      "metadata": {
        "id": "ptu1vzljjoz1",
        "colab_type": "code",
        "outputId": "4b54eaf1-8973-454a-d1c9-e934da31083a",
        "colab": {
          "base_uri": "https://localhost:8080/",
          "height": 277
        }
      },
      "source": [
        "basic_p,basc_r,basic_a,basic_f1 = evaluation_summary(\"Self Attention-Full\", pred.detach().numpy(), y_test)"
      ],
      "execution_count": 22,
      "outputs": [
        {
          "output_type": "stream",
          "text": [
            "Evaluation for: Self Attention-Full\n",
            "Classifier 'Self Attention-Full' has Acc=0.983 P=0.983 R=0.983 F1=0.983\n",
            "              precision    recall  f1-score   support\n",
            "\n",
            "         0.0      0.988     0.980     0.984      1618\n",
            "         1.0      0.979     0.987     0.983      1484\n",
            "\n",
            "    accuracy                          0.983      3102\n",
            "   macro avg      0.983     0.983     0.983      3102\n",
            "weighted avg      0.983     0.983     0.983      3102\n",
            "\n",
            "\n",
            "Confusion matrix:\n",
            " [[1586   20]\n",
            " [  32 1464]]\n"
          ],
          "name": "stdout"
        }
      ]
    },
    {
      "cell_type": "code",
      "metadata": {
        "id": "Vcr55amik4zv",
        "colab_type": "code",
        "outputId": "095dedff-2e0b-449a-e3d2-cac362fbe4fd",
        "colab": {
          "base_uri": "https://localhost:8080/",
          "height": 35
        }
      },
      "source": [
        "# Calculate the AUC value of the result.\n",
        "fpr, tpr, thresholds = roc_curve(y_test, pred.detach().numpy())\n",
        "auc_basic = auc(fpr, tpr)\n",
        "print(\"Self Attention-Full AUC-\",auc_basic)"
      ],
      "execution_count": 23,
      "outputs": [
        {
          "output_type": "stream",
          "text": [
            "Self Attention-Full AUC- 0.983078162771958\n"
          ],
          "name": "stdout"
        }
      ]
    },
    {
      "cell_type": "code",
      "metadata": {
        "id": "LP4jO3Jvbscb",
        "colab_type": "code",
        "outputId": "04a101f1-0279-4b73-9915-db5462349e70",
        "colab": {
          "base_uri": "https://localhost:8080/",
          "height": 72
        }
      },
      "source": [
        "# Visualize the attention weights for this model.\n",
        "test_last_idx = 15\n",
        "wts = get_activation_wts(attention_model,Variable(torch.from_numpy(x_test_pad_cl[:test_last_idx]).type(torch.LongTensor)),\n",
        "                             Variable(torch.from_numpy(x_test_pad[:test_last_idx]).type(torch.LongTensor)),\n",
        "                        Variable(torch.from_numpy(x_test_pad_s[:test_last_idx]).type(torch.LongTensor)))\n",
        "visualize_attention(wts,x_test_pad[:test_last_idx],word_to_id,filename='attention_full.html')"
      ],
      "execution_count": 24,
      "outputs": [
        {
          "output_type": "stream",
          "text": [
            "Attention visualization created for 15 samples\n"
          ],
          "name": "stdout"
        },
        {
          "output_type": "stream",
          "text": [
            "/usr/local/lib/python3.6/dist-packages/ipykernel_launcher.py:96: UserWarning: Implicit dimension choice for softmax has been deprecated. Change the call to include dim=X as an argument.\n"
          ],
          "name": "stderr"
        }
      ]
    },
    {
      "cell_type": "markdown",
      "metadata": {
        "id": "SZbKLJM-l1Xx",
        "colab_type": "text"
      },
      "source": [
        "## Sub-Model: Self Attention model using only Article and Claim"
      ]
    },
    {
      "cell_type": "code",
      "metadata": {
        "id": "CjBl7F1rl0qq",
        "colab_type": "code",
        "colab": {}
      },
      "source": [
        "# Same model but it uses only article and claim as input. \n",
        " \n",
        "class StructuredSelfAttention(torch.nn.Module):\n",
        "    \"\"\"\n",
        "    The class is an implementation of the paper A Structured Self-Attentive Sentence Embedding including regularization\n",
        "    and without pruning. Slight modifications have been done for speedup\n",
        "    \"\"\"\n",
        "    def __init__(self,batch_size,lstm_hid_dim,d_a,r,max_len,emb_dim=100,vocab_size=None,use_pretrained_embeddings = False,embeddings=None,type= 0,n_classes = 1):\n",
        "        \"\"\"\n",
        "        Initializes parameters suggested in paper\n",
        " \n",
        "        Args:\n",
        "            batch_size  : {int} batch_size used for training\n",
        "            lstm_hid_dim: {int} hidden dimension for lstm\n",
        "            d_a         : {int} hidden dimension for the dense layer\n",
        "            r           : {int} attention-hops or attention heads\n",
        "            max_len     : {int} number of lstm timesteps\n",
        "            emb_dim     : {int} embeddings dimension\n",
        "            vocab_size  : {int} size of the vocabulary\n",
        "            use_pretrained_embeddings: {bool} use or train your own embeddings\n",
        "            embeddings  : {torch.FloatTensor} loaded pretrained embeddings\n",
        "            type        : [0,1] 0-->binary_classification 1-->multiclass classification\n",
        "            n_classes   : {int} number of classes\n",
        " \n",
        "        Returns:\n",
        "            self\n",
        " \n",
        "        Raises:\n",
        "            Exception\n",
        "        \"\"\"\n",
        "        super(StructuredSelfAttention,self).__init__()\n",
        "        # Initialization of the required layers\n",
        "        self.embeddings,emb_dim = self._load_embeddings(use_pretrained_embeddings,embeddings,vocab_size,emb_dim)\n",
        "        self.lstm = torch.nn.LSTM(emb_dim,lstm_hid_dim,1,batch_first=True)\n",
        "        self.linear_first = torch.nn.Linear(lstm_hid_dim,d_a)\n",
        "        self.linear_first.bias.data.fill_(0)\n",
        "        self.linear_second = torch.nn.Linear(d_a,r)\n",
        "        self.linear_second.bias.data.fill_(0)\n",
        "        self.n_classes = n_classes\n",
        "        \n",
        "        self.embeddings2,emb_dim = self._load_embeddings(use_pretrained_embeddings,embeddings,vocab_size,emb_dim)\n",
        "        self.lstm2 = torch.nn.LSTM(emb_dim,lstm_hid_dim,1,batch_first=True)\n",
        "        self.linear_first2 = torch.nn.Linear(lstm_hid_dim,d_a)\n",
        "        self.linear_first2.bias.data.fill_(0)\n",
        "        self.linear_second2 = torch.nn.Linear(d_a,r)\n",
        "        self.linear_second2.bias.data.fill_(0)\n",
        "        \n",
        "        self.linear_final = torch.nn.Linear(lstm_hid_dim,self.n_classes)\n",
        "        self.batch_size = batch_size       \n",
        "        self.max_len = max_len\n",
        "        self.lstm_hid_dim = lstm_hid_dim\n",
        "        self.hidden_state = self.init_hidden()\n",
        "        self.r = r\n",
        "        self.type = type\n",
        "                 \n",
        "    def _load_embeddings(self,use_pretrained_embeddings,embeddings,vocab_size,emb_dim):\n",
        "        \"\"\"Load the embeddings based on flag\"\"\"\n",
        "        if use_pretrained_embeddings is True and embeddings is None:\n",
        "            raise Exception(\"Send a pretrained word embedding as an argument\")\n",
        "          \n",
        "        if not use_pretrained_embeddings and vocab_size is None:\n",
        "            raise Exception(\"Vocab size cannot be empty\")\n",
        "        \n",
        "        if not use_pretrained_embeddings:\n",
        "            word_embeddings = torch.nn.Embedding(vocab_size,emb_dim,padding_idx=0)\n",
        "            \n",
        "        elif use_pretrained_embeddings:\n",
        "            word_embeddings = torch.nn.Embedding(embeddings.size(0), embeddings.size(1))\n",
        "            word_embeddings.weight = torch.nn.Parameter(embeddings)\n",
        "            emb_dim = embeddings.size(1)\n",
        "            \n",
        "        return word_embeddings,emb_dim\n",
        "       \n",
        "        \n",
        "    def softmax(self,input, axis=1):\n",
        "        \"\"\"\n",
        "        Softmax applied to axis=n\n",
        " \n",
        "        Args:\n",
        "           input: {Tensor,Variable} input on which softmax is to be applied\n",
        "           axis : {int} axis on which softmax is to be applied\n",
        " \n",
        "        Returns:\n",
        "            softmaxed tensors\n",
        " \n",
        "       \n",
        "        \"\"\"\n",
        "        input_size = input.size()\n",
        "        trans_input = input.transpose(axis, len(input_size)-1)\n",
        "        trans_size = trans_input.size()\n",
        "        input_2d = trans_input.contiguous().view(-1, trans_size[-1])\n",
        "        soft_max_2d = F.softmax(input_2d)\n",
        "        soft_max_nd = soft_max_2d.view(*trans_size)\n",
        "        return soft_max_nd.transpose(axis, len(input_size)-1)\n",
        "       \n",
        "        \n",
        "    def init_hidden(self):\n",
        "        return (Variable(torch.zeros(1,self.batch_size,self.lstm_hid_dim)),Variable(torch.zeros(1,self.batch_size,self.lstm_hid_dim)))\n",
        "       \n",
        "        \n",
        "    def forward(self,x,y,ys):\n",
        "        embeddings = self.embeddings(x) # claim embedding\n",
        "        embeddings_part_y = self.embeddings(y[:,:100]) # article embedding taking the first 100 values\n",
        "        main_embedding  = torch.cat((embeddings, embeddings_part_y), 1) # combination of the two\n",
        "        # BI-LSTM layer\n",
        "        outputs, self.hidden_state = self.lstm(main_embedding.view(self.batch_size,self.max_len,-1),self.hidden_state)\n",
        "        # Self-Attention mechanism \n",
        "        x = torch.tanh(self.linear_first(outputs))       \n",
        "        x = self.linear_second(x)       \n",
        "        x = self.softmax(x,1)       \n",
        "        attention = x.transpose(1,2)  \n",
        "        sentence_embeddings = attention@outputs\n",
        "        # Same processing followed for article only.\n",
        "        embeddings2 = self.embeddings2(y)    \n",
        "        outputs2, self.hidden_state2 = self.lstm2(embeddings2.view(self.batch_size,self.max_len,-1),self.hidden_state)       \n",
        "        x2 = torch.tanh(self.linear_first2(outputs2))       \n",
        "        x2 = self.linear_second2(x2)       \n",
        "        x2 = self.softmax(x2,1)       \n",
        "        attention2 = x2.transpose(1,2)       \n",
        "        sentence_embeddings2 = attention2@outputs2\n",
        "        # element-wise multiplication of the two outputs.\n",
        "        ele_mul = sentence_embeddings * sentence_embeddings2\n",
        "        # Average of the output.\n",
        "        avg_sentence_embeddings = torch.sum(ele_mul,1)/self.r\n",
        "        \n",
        "        output = torch.sigmoid(self.linear_final(avg_sentence_embeddings))\n",
        "\n",
        "        return output,attention2\n",
        "        \n",
        "    #Regularization\n",
        "    def l2_matrix_norm(self,m):\n",
        "        \"\"\"\n",
        "        Frobenius norm calculation\n",
        " \n",
        "        Args:\n",
        "           m: {Variable} ||AAT - I||\n",
        " \n",
        "        Returns:\n",
        "            regularized value\n",
        " \n",
        "       \n",
        "        \"\"\"\n",
        "        return torch.sum(torch.sum(torch.sum(m**2,1),1)**0.5).type(torch.DoubleTensor)"
      ],
      "execution_count": 0,
      "outputs": []
    },
    {
      "cell_type": "code",
      "metadata": {
        "id": "bhfqYZ3wmrX0",
        "colab_type": "code",
        "outputId": "58ce3ff0-c738-4861-964e-f3655c2aa745",
        "colab": {
          "base_uri": "https://localhost:8080/",
          "height": 211
        }
      },
      "source": [
        "# Initialize and Train the model.\n",
        "attention_model2 = StructuredSelfAttention(batch_size=train_loader.batch_size,lstm_hid_dim=model_params['lstm_hidden_dimension'],d_a = model_params[\"d_a\"],r=params_set[\"attention_hops\"],vocab_size=len(word_to_id),max_len=MAXLENGTH,type=0,n_classes=1,use_pretrained_embeddings=True,embeddings=embeddings)\n",
        "\n",
        "loss, acc = binary_classfication(attention_model2,train_loader=train_loader,epochs=3,use_regularization=True,C=params_set[\"C\"],clip=params_set[\"clip\"])\n"
      ],
      "execution_count": 46,
      "outputs": [
        {
          "output_type": "stream",
          "text": [
            "Running EPOCH 1\n"
          ],
          "name": "stdout"
        },
        {
          "output_type": "stream",
          "text": [
            "/usr/local/lib/python3.6/dist-packages/ipykernel_launcher.py:93: UserWarning: Implicit dimension choice for softmax has been deprecated. Change the call to include dim=X as an argument.\n"
          ],
          "name": "stderr"
        },
        {
          "output_type": "stream",
          "text": [
            "avg_loss is tensor(0.7340, dtype=torch.float64)\n",
            "Accuracy of the model 0.6321614583333334\n",
            "Running EPOCH 2\n",
            "avg_loss is tensor(0.2139, dtype=torch.float64)\n",
            "Accuracy of the model 0.957763671875\n",
            "Running EPOCH 3\n",
            "avg_loss is tensor(0.0974, dtype=torch.float64)\n",
            "Accuracy of the model 0.9927571614583334\n"
          ],
          "name": "stdout"
        }
      ]
    },
    {
      "cell_type": "code",
      "metadata": {
        "id": "ScnWwiN0nuEg",
        "colab_type": "code",
        "outputId": "d6b4220c-dfd9-46ab-ae54-7e3678d30993",
        "colab": {
          "base_uri": "https://localhost:8080/",
          "height": 72
        }
      },
      "source": [
        "# Accuracy of the test data\n",
        "acc2, pred2 = evaluate(attention_model2, x_test_pad_cl, x_test_pad, x_test_pad_s, y_test)\n",
        "print(acc2)"
      ],
      "execution_count": 47,
      "outputs": [
        {
          "output_type": "stream",
          "text": [
            "/usr/local/lib/python3.6/dist-packages/ipykernel_launcher.py:93: UserWarning: Implicit dimension choice for softmax has been deprecated. Change the call to include dim=X as an argument.\n"
          ],
          "name": "stderr"
        },
        {
          "output_type": "stream",
          "text": [
            "0.9871050934880722\n"
          ],
          "name": "stdout"
        }
      ]
    },
    {
      "cell_type": "code",
      "metadata": {
        "id": "9OScIuiznuBM",
        "colab_type": "code",
        "outputId": "b7cdf8eb-3ed7-42cc-9238-7b5877da62a6",
        "colab": {
          "base_uri": "https://localhost:8080/",
          "height": 699
        }
      },
      "source": [
        "plot_confusion_matrix(y_test,pred2.detach().numpy(),[0,1])\n",
        "plot_confusion_matrix(y_test,pred2.detach().numpy(),[0,1], normalize=True)"
      ],
      "execution_count": 48,
      "outputs": [
        {
          "output_type": "stream",
          "text": [
            "Confusion matrix, without normalization\n",
            "[[1587   19]\n",
            " [  21 1475]]\n",
            "Normalized confusion matrix\n",
            "[[0.98816936 0.01183064]\n",
            " [0.01403743 0.98596257]]\n"
          ],
          "name": "stdout"
        },
        {
          "output_type": "execute_result",
          "data": {
            "text/plain": [
              "<matplotlib.axes._subplots.AxesSubplot at 0x7f0ba322bc88>"
            ]
          },
          "metadata": {
            "tags": []
          },
          "execution_count": 48
        },
        {
          "output_type": "display_data",
          "data": {
            "image/png": "[encoded data removed]",
            "text/plain": [
              "<Figure size 432x288 with 2 Axes>"
            ]
          },
          "metadata": {
            "tags": []
          }
        },
        {
          "output_type": "display_data",
          "data": {
            "image/png": "[encoded data removed]",
            "text/plain": [
              "<Figure size 432x288 with 2 Axes>"
            ]
          },
          "metadata": {
            "tags": []
          }
        }
      ]
    },
    {
      "cell_type": "code",
      "metadata": {
        "id": "do5oB6fMn-EU",
        "colab_type": "code",
        "outputId": "8d12de6c-99ff-4886-df72-31d2c0c95ded",
        "colab": {
          "base_uri": "https://localhost:8080/",
          "height": 277
        }
      },
      "source": [
        "art_cl_p,art_cl_r,art_cl_a,art_cl_f1 = evaluation_summary(\"Self Attention-Article and Claim\", pred2.detach().numpy(), y_test)"
      ],
      "execution_count": 49,
      "outputs": [
        {
          "output_type": "stream",
          "text": [
            "Evaluation for: Self Attention-Article and Claim\n",
            "Classifier 'Self Attention-Article and Claim' has Acc=0.987 P=0.987 R=0.987 F1=0.987\n",
            "              precision    recall  f1-score   support\n",
            "\n",
            "         0.0      0.988     0.987     0.988      1608\n",
            "         1.0      0.986     0.987     0.987      1494\n",
            "\n",
            "    accuracy                          0.987      3102\n",
            "   macro avg      0.987     0.987     0.987      3102\n",
            "weighted avg      0.987     0.987     0.987      3102\n",
            "\n",
            "\n",
            "Confusion matrix:\n",
            " [[1587   19]\n",
            " [  21 1475]]\n"
          ],
          "name": "stdout"
        }
      ]
    },
    {
      "cell_type": "code",
      "metadata": {
        "id": "4Mb94dIYoQvH",
        "colab_type": "code",
        "outputId": "8a87e2fd-6d5d-4432-d911-58ffa1a437a7",
        "colab": {
          "base_uri": "https://localhost:8080/",
          "height": 35
        }
      },
      "source": [
        "fpr, tpr, thresholds = roc_curve(y_test, pred2.detach().numpy())\n",
        "auc_art_cl = auc(fpr, tpr)\n",
        "print(\"Self Attention-Article_claim AUC-\",auc_art_cl)"
      ],
      "execution_count": 50,
      "outputs": [
        {
          "output_type": "stream",
          "text": [
            "Self Attention-Article_claim AUC- 0.9870659658633066\n"
          ],
          "name": "stdout"
        }
      ]
    },
    {
      "cell_type": "code",
      "metadata": {
        "id": "ThdPxMoLocpw",
        "colab_type": "code",
        "outputId": "c9815560-ab5b-4618-ca57-766d935c8e47",
        "colab": {
          "base_uri": "https://localhost:8080/",
          "height": 89
        }
      },
      "source": [
        "# Visulaisation\n",
        "test_last_idx = 15\n",
        "wts2 = get_activation_wts(attention_model2,Variable(torch.from_numpy(x_test_pad_cl[:test_last_idx]).type(torch.LongTensor)),\n",
        "                             Variable(torch.from_numpy(x_test_pad[:test_last_idx]).type(torch.LongTensor)),\n",
        "                        Variable(torch.from_numpy(x_test_pad_s[:test_last_idx]).type(torch.LongTensor)))\n",
        "print(wts2.size())\n",
        "visualize_attention(wts2,x_test_pad[:test_last_idx],word_to_id,filename='attention_art_cl.html')"
      ],
      "execution_count": 51,
      "outputs": [
        {
          "output_type": "stream",
          "text": [
            "torch.Size([15, 10, 150])\n",
            "Attention visualization created for 15 samples\n"
          ],
          "name": "stdout"
        },
        {
          "output_type": "stream",
          "text": [
            "/usr/local/lib/python3.6/dist-packages/ipykernel_launcher.py:93: UserWarning: Implicit dimension choice for softmax has been deprecated. Change the call to include dim=X as an argument.\n"
          ],
          "name": "stderr"
        }
      ]
    },
    {
      "cell_type": "markdown",
      "metadata": {
        "id": "pO9QzQ2Us6Gn",
        "colab_type": "text"
      },
      "source": [
        "##Sub Model- Using only Article"
      ]
    },
    {
      "cell_type": "code",
      "metadata": {
        "id": "2w6Imszvs5Q6",
        "colab_type": "code",
        "colab": {}
      },
      "source": [
        "# Self attention class this time only using the Article.\n",
        " \n",
        "class StructuredSelfAttention(torch.nn.Module):\n",
        "    \"\"\"\n",
        "    The class is an implementation of the paper A Structured Self-Attentive Sentence Embedding including regularization\n",
        "    and without pruning. Slight modifications have been done for speedup\n",
        "    \"\"\"\n",
        "    def __init__(self,batch_size,lstm_hid_dim,d_a,r,max_len,emb_dim=100,vocab_size=None,use_pretrained_embeddings = False,embeddings=None,type= 0,n_classes = 1):\n",
        "        \"\"\"\n",
        "        Initializes parameters suggested in paper\n",
        " \n",
        "        Args:\n",
        "            batch_size  : {int} batch_size used for training\n",
        "            lstm_hid_dim: {int} hidden dimension for lstm\n",
        "            d_a         : {int} hidden dimension for the dense layer\n",
        "            r           : {int} attention-hops or attention heads\n",
        "            max_len     : {int} number of lstm timesteps\n",
        "            emb_dim     : {int} embeddings dimension\n",
        "            vocab_size  : {int} size of the vocabulary\n",
        "            use_pretrained_embeddings: {bool} use or train your own embeddings\n",
        "            embeddings  : {torch.FloatTensor} loaded pretrained embeddings\n",
        "            type        : [0,1] 0-->binary_classification 1-->multiclass classification\n",
        "            n_classes   : {int} number of classes\n",
        " \n",
        "        Returns:\n",
        "            self\n",
        " \n",
        "        Raises:\n",
        "            Exception\n",
        "        \"\"\"\n",
        "        super(StructuredSelfAttention,self).__init__()\n",
        "        self.n_classes = n_classes\n",
        "        \n",
        "        # Self Attention layers for Article\n",
        "        self.embeddings2,emb_dim = self._load_embeddings(use_pretrained_embeddings,embeddings,vocab_size,emb_dim)\n",
        "        self.lstm2 = torch.nn.LSTM(emb_dim,lstm_hid_dim,1,batch_first=True)\n",
        "        self.linear_first2 = torch.nn.Linear(lstm_hid_dim,d_a)\n",
        "        self.linear_first2.bias.data.fill_(0)\n",
        "        self.linear_second2 = torch.nn.Linear(d_a,r)\n",
        "        self.linear_second2.bias.data.fill_(0)\n",
        "        \n",
        "        self.linear_final = torch.nn.Linear(lstm_hid_dim,self.n_classes)\n",
        "        self.batch_size = batch_size       \n",
        "        self.max_len = max_len\n",
        "        self.lstm_hid_dim = lstm_hid_dim\n",
        "        self.hidden_state = self.init_hidden()\n",
        "        self.r = r\n",
        "        self.type = type\n",
        "                 \n",
        "    def _load_embeddings(self,use_pretrained_embeddings,embeddings,vocab_size,emb_dim):\n",
        "        \"\"\"Load the embeddings based on flag\"\"\"\n",
        "        if use_pretrained_embeddings is True and embeddings is None:\n",
        "            raise Exception(\"Send a pretrained word embedding as an argument\")\n",
        "          \n",
        "        if not use_pretrained_embeddings and vocab_size is None:\n",
        "            raise Exception(\"Vocab size cannot be empty\")\n",
        "        \n",
        "        if not use_pretrained_embeddings:\n",
        "            word_embeddings = torch.nn.Embedding(vocab_size,emb_dim,padding_idx=0)\n",
        "            \n",
        "        elif use_pretrained_embeddings:\n",
        "            word_embeddings = torch.nn.Embedding(embeddings.size(0), embeddings.size(1))\n",
        "            word_embeddings.weight = torch.nn.Parameter(embeddings)\n",
        "            emb_dim = embeddings.size(1)\n",
        "            \n",
        "        return word_embeddings,emb_dim\n",
        "       \n",
        "        \n",
        "    def softmax(self,input, axis=1):\n",
        "        \"\"\"\n",
        "        Softmax applied to axis=n\n",
        " \n",
        "        Args:\n",
        "           input: {Tensor,Variable} input on which softmax is to be applied\n",
        "           axis : {int} axis on which softmax is to be applied\n",
        " \n",
        "        Returns:\n",
        "            softmaxed tensors\n",
        " \n",
        "       \n",
        "        \"\"\"\n",
        "        input_size = input.size()\n",
        "        trans_input = input.transpose(axis, len(input_size)-1)\n",
        "        trans_size = trans_input.size()\n",
        "        input_2d = trans_input.contiguous().view(-1, trans_size[-1])\n",
        "        soft_max_2d = F.softmax(input_2d)\n",
        "        soft_max_nd = soft_max_2d.view(*trans_size)\n",
        "        return soft_max_nd.transpose(axis, len(input_size)-1)\n",
        "       \n",
        "        \n",
        "    def init_hidden(self):\n",
        "        return (Variable(torch.zeros(1,self.batch_size,self.lstm_hid_dim)),Variable(torch.zeros(1,self.batch_size,self.lstm_hid_dim)))\n",
        "       \n",
        "        \n",
        "    def forward(self,x,y,ys):\n",
        "        # Article embedding\n",
        "        embeddings2 = self.embeddings2(y)   \n",
        "        # Bi-LSTM layer \n",
        "        outputs2, self.hidden_state2 = self.lstm2(embeddings2.view(self.batch_size,self.max_len,-1),self.hidden_state)      \n",
        "        # Self-Attention mechanism \n",
        "        x2 = torch.tanh(self.linear_first2(outputs2))       \n",
        "        x2 = self.linear_second2(x2)       \n",
        "        x2 = self.softmax(x2,1)       \n",
        "        attention2 = x2.transpose(1,2)       \n",
        "        sentence_embeddings2 = attention2@outputs2\n",
        "        # Average of the output.\n",
        "        avg_sentence_embeddings = torch.sum(sentence_embeddings2,1)/self.r\n",
        "\n",
        "        output = torch.sigmoid(self.linear_final(avg_sentence_embeddings))\n",
        "\n",
        "        return output,attention2\n",
        "        \n",
        "    #Regularization\n",
        "    def l2_matrix_norm(self,m):\n",
        "        \"\"\"\n",
        "        Frobenius norm calculation\n",
        " \n",
        "        Args:\n",
        "           m: {Variable} ||AAT - I||\n",
        " \n",
        "        Returns:\n",
        "            regularized value\n",
        " \n",
        "       \n",
        "        \"\"\"\n",
        "        return torch.sum(torch.sum(torch.sum(m**2,1),1)**0.5).type(torch.DoubleTensor)"
      ],
      "execution_count": 0,
      "outputs": []
    },
    {
      "cell_type": "code",
      "metadata": {
        "id": "CdRkiOlns5OF",
        "colab_type": "code",
        "outputId": "4d4ca6c9-bcf2-4a28-b670-3899ff49d043",
        "colab": {
          "base_uri": "https://localhost:8080/",
          "height": 211
        }
      },
      "source": [
        "# Initialize and train the model\n",
        "attention_model3 = StructuredSelfAttention(batch_size=train_loader.batch_size,lstm_hid_dim=model_params['lstm_hidden_dimension'],d_a = model_params[\"d_a\"],r=params_set[\"attention_hops\"],vocab_size=len(word_to_id),max_len=MAXLENGTH,type=0,n_classes=1,use_pretrained_embeddings=True,embeddings=embeddings)\n",
        "\n",
        "loss, acc = binary_classfication(attention_model3,train_loader=train_loader,epochs=3,use_regularization=True,C=params_set[\"C\"],clip=params_set[\"clip\"])\n"
      ],
      "execution_count": 0,
      "outputs": [
        {
          "output_type": "stream",
          "text": [
            "Running EPOCH 1\n"
          ],
          "name": "stdout"
        },
        {
          "output_type": "stream",
          "text": [
            "/usr/local/lib/python3.6/dist-packages/ipykernel_launcher.py:95: UserWarning: Implicit dimension choice for softmax has been deprecated. Change the call to include dim=X as an argument.\n"
          ],
          "name": "stderr"
        },
        {
          "output_type": "stream",
          "text": [
            "avg_loss is tensor(0.7992, dtype=torch.float64)\n",
            "Accuracy of the model 0.603515625\n",
            "Running EPOCH 2\n",
            "avg_loss is tensor(0.3817, dtype=torch.float64)\n",
            "Accuracy of the model 0.8905436197916666\n",
            "Running EPOCH 3\n",
            "avg_loss is tensor(0.1924, dtype=torch.float64)\n",
            "Accuracy of the model 0.9679361979166666\n"
          ],
          "name": "stdout"
        }
      ]
    },
    {
      "cell_type": "code",
      "metadata": {
        "id": "s_XOO5C9s5KK",
        "colab_type": "code",
        "outputId": "4b9cb365-041e-464e-8a3c-87df47ae02f9",
        "colab": {
          "base_uri": "https://localhost:8080/",
          "height": 72
        }
      },
      "source": [
        "# Accuracy of the test data\n",
        "acc3, pred3 = evaluate(attention_model3, x_test_pad_cl, x_test_pad, x_test_pad_s, y_test)\n",
        "print(acc3)"
      ],
      "execution_count": 0,
      "outputs": [
        {
          "output_type": "stream",
          "text": [
            "0.8668600902643456\n"
          ],
          "name": "stdout"
        },
        {
          "output_type": "stream",
          "text": [
            "/usr/local/lib/python3.6/dist-packages/ipykernel_launcher.py:95: UserWarning: Implicit dimension choice for softmax has been deprecated. Change the call to include dim=X as an argument.\n"
          ],
          "name": "stderr"
        }
      ]
    },
    {
      "cell_type": "code",
      "metadata": {
        "id": "xE6kpGlQuurI",
        "colab_type": "code",
        "outputId": "a2a07bf7-c601-4bfa-adef-1d677647915c",
        "colab": {
          "base_uri": "https://localhost:8080/",
          "height": 699
        }
      },
      "source": [
        "plot_confusion_matrix(y_test,pred3.detach().numpy(),[0,1])\n",
        "plot_confusion_matrix(y_test,pred3.detach().numpy(),[0,1], normalize=True)"
      ],
      "execution_count": 0,
      "outputs": [
        {
          "output_type": "stream",
          "text": [
            "Confusion matrix, without normalization\n",
            "[[1309  339]\n",
            " [  74 1380]]\n",
            "Normalized confusion matrix\n",
            "[[0.79429612 0.20570388]\n",
            " [0.05089409 0.94910591]]\n"
          ],
          "name": "stdout"
        },
        {
          "output_type": "execute_result",
          "data": {
            "text/plain": [
              "<matplotlib.axes._subplots.AxesSubplot at 0x7f798b563198>"
            ]
          },
          "metadata": {
            "tags": []
          },
          "execution_count": 51
        },
        {
          "output_type": "display_data",
          "data": {
            "image/png": "[encoded data removed]",
            "text/plain": [
              "<Figure size 432x288 with 2 Axes>"
            ]
          },
          "metadata": {
            "tags": []
          }
        },
        {
          "output_type": "display_data",
          "data": {
            "image/png": "[encoded data removed]",
            "text/plain": [
              "<Figure size 432x288 with 2 Axes>"
            ]
          },
          "metadata": {
            "tags": []
          }
        }
      ]
    },
    {
      "cell_type": "code",
      "metadata": {
        "id": "UwoLPrTiuu4U",
        "colab_type": "code",
        "outputId": "fffacab0-97e0-4a32-d2de-a089d7307b4e",
        "colab": {
          "base_uri": "https://localhost:8080/",
          "height": 277
        }
      },
      "source": [
        "art_p,art_r,art_a,art_f1 = evaluation_summary(\"Self Attention-Article only\", pred3.detach().numpy(), y_test)"
      ],
      "execution_count": 0,
      "outputs": [
        {
          "output_type": "stream",
          "text": [
            "Evaluation for: Self Attention-Article only\n",
            "Classifier 'Self Attention-Article only' has Acc=0.867 P=0.872 R=0.875 F1=0.867\n",
            "              precision    recall  f1-score   support\n",
            "\n",
            "         0.0      0.794     0.946     0.864      1383\n",
            "         1.0      0.949     0.803     0.870      1719\n",
            "\n",
            "    accuracy                          0.867      3102\n",
            "   macro avg      0.872     0.875     0.867      3102\n",
            "weighted avg      0.880     0.867     0.867      3102\n",
            "\n",
            "\n",
            "Confusion matrix:\n",
            " [[1309  339]\n",
            " [  74 1380]]\n"
          ],
          "name": "stdout"
        }
      ]
    },
    {
      "cell_type": "code",
      "metadata": {
        "id": "Jn-_epNXuu0W",
        "colab_type": "code",
        "outputId": "6b55a2fd-2c6c-4b00-e2dd-30dc4a8b1721",
        "colab": {
          "base_uri": "https://localhost:8080/",
          "height": 35
        }
      },
      "source": [
        "fpr, tpr, thresholds = roc_curve(y_test, pred3.detach().numpy())\n",
        "auc_art = auc(fpr, tpr)\n",
        "print(\"Self Attention-Article only AUC-\",auc_art)"
      ],
      "execution_count": 0,
      "outputs": [
        {
          "output_type": "stream",
          "text": [
            "Self Attention-Article only AUC- 0.8717010156114369\n"
          ],
          "name": "stdout"
        }
      ]
    },
    {
      "cell_type": "code",
      "metadata": {
        "id": "6PXLsTBevXMs",
        "colab_type": "code",
        "outputId": "bdf2a341-fa1b-4a3a-d935-166ebc7b8ed4",
        "colab": {
          "base_uri": "https://localhost:8080/",
          "height": 89
        }
      },
      "source": [
        "# Visulaisation\n",
        "test_last_idx = 15\n",
        "wts3 = get_activation_wts(attention_model3,Variable(torch.from_numpy(x_test_pad_cl[:test_last_idx]).type(torch.LongTensor)),\n",
        "                             Variable(torch.from_numpy(x_test_pad[:test_last_idx]).type(torch.LongTensor)),\n",
        "                        Variable(torch.from_numpy(x_test_pad_s[:test_last_idx]).type(torch.LongTensor)))\n",
        "print(wts3.size())\n",
        "visualize_attention(wts3,x_test_pad[:test_last_idx],word_to_id,filename='attention_art.html')"
      ],
      "execution_count": 0,
      "outputs": [
        {
          "output_type": "stream",
          "text": [
            "torch.Size([15, 10, 150])\n",
            "Attention visualization created for 15 samples\n"
          ],
          "name": "stdout"
        },
        {
          "output_type": "stream",
          "text": [
            "/usr/local/lib/python3.6/dist-packages/ipykernel_launcher.py:95: UserWarning: Implicit dimension choice for softmax has been deprecated. Change the call to include dim=X as an argument.\n"
          ],
          "name": "stderr"
        }
      ]
    },
    {
      "cell_type": "markdown",
      "metadata": {
        "id": "CipjryIawDsT",
        "colab_type": "text"
      },
      "source": [
        "## Sub Model- Article and sources"
      ]
    },
    {
      "cell_type": "code",
      "metadata": {
        "id": "UcJ_XbuSwPeo",
        "colab_type": "code",
        "colab": {}
      },
      "source": [
        "# Self attention class uing only the article and article source\n",
        " \n",
        "class StructuredSelfAttention(torch.nn.Module):\n",
        "    \"\"\"\n",
        "    The class is an implementation of the paper A Structured Self-Attentive Sentence Embedding including regularization\n",
        "    and without pruning. Slight modifications have been done for speedup\n",
        "    \"\"\"\n",
        "    def __init__(self,batch_size,lstm_hid_dim,d_a,r,max_len,emb_dim=100,vocab_size=None,use_pretrained_embeddings = False,embeddings=None,type= 0,n_classes = 1):\n",
        "        \"\"\"\n",
        "        Initializes parameters suggested in paper\n",
        " \n",
        "        Args:\n",
        "            batch_size  : {int} batch_size used for training\n",
        "            lstm_hid_dim: {int} hidden dimension for lstm\n",
        "            d_a         : {int} hidden dimension for the dense layer\n",
        "            r           : {int} attention-hops or attention heads\n",
        "            max_len     : {int} number of lstm timesteps\n",
        "            emb_dim     : {int} embeddings dimension\n",
        "            vocab_size  : {int} size of the vocabulary\n",
        "            use_pretrained_embeddings: {bool} use or train your own embeddings\n",
        "            embeddings  : {torch.FloatTensor} loaded pretrained embeddings\n",
        "            type        : [0,1] 0-->binary_classification 1-->multiclass classification\n",
        "            n_classes   : {int} number of classes\n",
        " \n",
        "        Returns:\n",
        "            self\n",
        " \n",
        "        Raises:\n",
        "            Exception\n",
        "        \"\"\"\n",
        "        super(StructuredSelfAttention,self).__init__()\n",
        "        self.n_classes = n_classes\n",
        "        \n",
        "        # Self Attention layers for Article\n",
        "        self.embeddings2,emb_dim = self._load_embeddings(use_pretrained_embeddings,embeddings,vocab_size,emb_dim)\n",
        "        self.lstm2 = torch.nn.LSTM(emb_dim,lstm_hid_dim,1,batch_first=True)\n",
        "        self.linear_first2 = torch.nn.Linear(lstm_hid_dim,d_a)\n",
        "        self.linear_first2.bias.data.fill_(0)\n",
        "        self.linear_second2 = torch.nn.Linear(d_a,r)\n",
        "        self.linear_second2.bias.data.fill_(0)\n",
        "        \n",
        "         # Embedding layers for sources\n",
        "        self.embeddings4,emb_dim = self._load_embeddings(use_pretrained_embeddings,embeddings,vocab_size,emb_dim)\n",
        "        \n",
        "        self.linear_final = torch.nn.Linear(2*lstm_hid_dim,self.n_classes)\n",
        "        self.batch_size = batch_size       \n",
        "        self.max_len = max_len\n",
        "        self.lstm_hid_dim = lstm_hid_dim\n",
        "        self.hidden_state = self.init_hidden()\n",
        "        self.r = r\n",
        "        self.type = type\n",
        "                 \n",
        "    def _load_embeddings(self,use_pretrained_embeddings,embeddings,vocab_size,emb_dim):\n",
        "        \"\"\"Load the embeddings based on flag\"\"\"\n",
        "        if use_pretrained_embeddings is True and embeddings is None:\n",
        "            raise Exception(\"Send a pretrained word embedding as an argument\")\n",
        "          \n",
        "        if not use_pretrained_embeddings and vocab_size is None:\n",
        "            raise Exception(\"Vocab size cannot be empty\")\n",
        "        \n",
        "        if not use_pretrained_embeddings:\n",
        "            word_embeddings = torch.nn.Embedding(vocab_size,emb_dim,padding_idx=0)\n",
        "            \n",
        "        elif use_pretrained_embeddings:\n",
        "            word_embeddings = torch.nn.Embedding(embeddings.size(0), embeddings.size(1))\n",
        "            word_embeddings.weight = torch.nn.Parameter(embeddings)\n",
        "            emb_dim = embeddings.size(1)\n",
        "            \n",
        "        return word_embeddings,emb_dim\n",
        "       \n",
        "        \n",
        "    def softmax(self,input, axis=1):\n",
        "        \"\"\"\n",
        "        Softmax applied to axis=n\n",
        " \n",
        "        Args:\n",
        "           input: {Tensor,Variable} input on which softmax is to be applied\n",
        "           axis : {int} axis on which softmax is to be applied\n",
        " \n",
        "        Returns:\n",
        "            softmaxed tensors\n",
        " \n",
        "       \n",
        "        \"\"\"\n",
        "        input_size = input.size()\n",
        "        trans_input = input.transpose(axis, len(input_size)-1)\n",
        "        trans_size = trans_input.size()\n",
        "        input_2d = trans_input.contiguous().view(-1, trans_size[-1])\n",
        "        soft_max_2d = F.softmax(input_2d)\n",
        "        soft_max_nd = soft_max_2d.view(*trans_size)\n",
        "        return soft_max_nd.transpose(axis, len(input_size)-1)\n",
        "       \n",
        "        \n",
        "    def init_hidden(self):\n",
        "        return (Variable(torch.zeros(1,self.batch_size,self.lstm_hid_dim)),Variable(torch.zeros(1,self.batch_size,self.lstm_hid_dim)))\n",
        "       \n",
        "        \n",
        "    def forward(self,x,y,ys):\n",
        "        # Article embedding\n",
        "        embeddings2 = self.embeddings2(y)    \n",
        "        # Bi-LSTM layer \n",
        "        outputs2, self.hidden_state2 = self.lstm2(embeddings2.view(self.batch_size,self.max_len,-1),self.hidden_state) \n",
        "        # Self-Attention mechanism      \n",
        "        x2 = torch.tanh(self.linear_first2(outputs2))       \n",
        "        x2 = self.linear_second2(x2)       \n",
        "        x2 = self.softmax(x2,1)       \n",
        "        attention2 = x2.transpose(1,2)       \n",
        "        sentence_embeddings2 = attention2@outputs2\n",
        "        # Average of the output.\n",
        "        avg_sentence_embeddings = torch.sum(sentence_embeddings2,1)/self.r\n",
        "        # Article source embedding\n",
        "        embeddings4 = self.embeddings4(ys) \n",
        "        \n",
        "        avg_asource_embeddings = torch.sum(embeddings4,1)/self.r\n",
        "        # Combined average of the source and self-attention outputs.\n",
        "        comb_avg = torch.cat((avg_sentence_embeddings, avg_asource_embeddings), 1)\n",
        "\n",
        "        output = torch.sigmoid(self.linear_final(comb_avg))\n",
        "        return output,attention2\n",
        "        \n",
        "    #Regularization\n",
        "    def l2_matrix_norm(self,m):\n",
        "        \"\"\"\n",
        "        Frobenius norm calculation\n",
        " \n",
        "        Args:\n",
        "           m: {Variable} ||AAT - I||\n",
        " \n",
        "        Returns:\n",
        "            regularized value\n",
        " \n",
        "       \n",
        "        \"\"\"\n",
        "        return torch.sum(torch.sum(torch.sum(m**2,1),1)**0.5).type(torch.DoubleTensor)"
      ],
      "execution_count": 0,
      "outputs": []
    },
    {
      "cell_type": "code",
      "metadata": {
        "id": "vYQAYGycwiCg",
        "colab_type": "code",
        "outputId": "d5a4fef1-3284-4ca7-cca2-54a0521cd263",
        "colab": {
          "base_uri": "https://localhost:8080/",
          "height": 211
        }
      },
      "source": [
        "# Initialize and Train the model\n",
        "attention_model4 = StructuredSelfAttention(batch_size=train_loader.batch_size,lstm_hid_dim=model_params['lstm_hidden_dimension'],d_a = model_params[\"d_a\"],r=params_set[\"attention_hops\"],vocab_size=len(word_to_id),max_len=MAXLENGTH,type=0,n_classes=1,use_pretrained_embeddings=True,embeddings=embeddings)\n",
        "\n",
        "loss, acc = binary_classfication(attention_model4,train_loader=train_loader,epochs=3,use_regularization=False,C=params_set[\"C\"],clip=params_set[\"clip\"])\n"
      ],
      "execution_count": 0,
      "outputs": [
        {
          "output_type": "stream",
          "text": [
            "Running EPOCH 1\n"
          ],
          "name": "stdout"
        },
        {
          "output_type": "stream",
          "text": [
            "/usr/local/lib/python3.6/dist-packages/ipykernel_launcher.py:99: UserWarning: Implicit dimension choice for softmax has been deprecated. Change the call to include dim=X as an argument.\n"
          ],
          "name": "stderr"
        },
        {
          "output_type": "stream",
          "text": [
            "avg_loss is tensor(0.7028, dtype=torch.float64)\n",
            "Accuracy of the model 0.606201171875\n",
            "Running EPOCH 2\n",
            "avg_loss is tensor(0.2535, dtype=torch.float64)\n",
            "Accuracy of the model 0.91357421875\n",
            "Running EPOCH 3\n",
            "avg_loss is tensor(0.1169, dtype=torch.float64)\n",
            "Accuracy of the model 0.9659016927083334\n"
          ],
          "name": "stdout"
        }
      ]
    },
    {
      "cell_type": "code",
      "metadata": {
        "id": "_YjkpH8zyC37",
        "colab_type": "code",
        "outputId": "003561a5-8221-4c0c-80fe-c0d5d888c720",
        "colab": {
          "base_uri": "https://localhost:8080/",
          "height": 72
        }
      },
      "source": [
        "# Accuracy of the test data\n",
        "acc4, pred4 = evaluate(attention_model4, x_test_pad_cl, x_test_pad, x_test_pad_s, y_test)\n",
        "print(acc4)"
      ],
      "execution_count": 0,
      "outputs": [
        {
          "output_type": "stream",
          "text": [
            "0.8629916183107672\n"
          ],
          "name": "stdout"
        },
        {
          "output_type": "stream",
          "text": [
            "/usr/local/lib/python3.6/dist-packages/ipykernel_launcher.py:99: UserWarning: Implicit dimension choice for softmax has been deprecated. Change the call to include dim=X as an argument.\n"
          ],
          "name": "stderr"
        }
      ]
    },
    {
      "cell_type": "code",
      "metadata": {
        "id": "7V1j1MLCyDdQ",
        "colab_type": "code",
        "outputId": "06cbb9a1-7b9a-465b-df02-341285ef8a1c",
        "colab": {
          "base_uri": "https://localhost:8080/",
          "height": 699
        }
      },
      "source": [
        "plot_confusion_matrix(y_test,pred4.detach().numpy(),[0,1])\n",
        "plot_confusion_matrix(y_test,pred4.detach().numpy(),[0,1], normalize=True)"
      ],
      "execution_count": 0,
      "outputs": [
        {
          "output_type": "stream",
          "text": [
            "Confusion matrix, without normalization\n",
            "[[1361  287]\n",
            " [ 138 1316]]\n",
            "Normalized confusion matrix\n",
            "[[0.82584951 0.17415049]\n",
            " [0.09491059 0.90508941]]\n"
          ],
          "name": "stdout"
        },
        {
          "output_type": "execute_result",
          "data": {
            "text/plain": [
              "<matplotlib.axes._subplots.AxesSubplot at 0x7f798c9ecd68>"
            ]
          },
          "metadata": {
            "tags": []
          },
          "execution_count": 58
        },
        {
          "output_type": "display_data",
          "data": {
            "image/png": "[encoded data removed]",
            "text/plain": [
              "<Figure size 432x288 with 2 Axes>"
            ]
          },
          "metadata": {
            "tags": []
          }
        },
        {
          "output_type": "display_data",
          "data": {
            "image/png": "[encoded data removed]",
            "text/plain": [
              "<Figure size 432x288 with 2 Axes>"
            ]
          },
          "metadata": {
            "tags": []
          }
        }
      ]
    },
    {
      "cell_type": "code",
      "metadata": {
        "id": "CJlxFy0SyC0I",
        "colab_type": "code",
        "outputId": "62d087ed-4d60-44a5-82dd-0f594c1c0efc",
        "colab": {
          "base_uri": "https://localhost:8080/",
          "height": 277
        }
      },
      "source": [
        "arts_p,arts_r,arts_a,arts_f1 = evaluation_summary(\"Self Attention-Article and sources\", pred4.detach().numpy(), y_test)"
      ],
      "execution_count": 0,
      "outputs": [
        {
          "output_type": "stream",
          "text": [
            "Evaluation for: Self Attention-Article and sources\n",
            "Classifier 'Self Attention-Article and sources' has Acc=0.863 P=0.865 R=0.864 F1=0.863\n",
            "              precision    recall  f1-score   support\n",
            "\n",
            "         0.0      0.826     0.908     0.865      1499\n",
            "         1.0      0.905     0.821     0.861      1603\n",
            "\n",
            "    accuracy                          0.863      3102\n",
            "   macro avg      0.865     0.864     0.863      3102\n",
            "weighted avg      0.867     0.863     0.863      3102\n",
            "\n",
            "\n",
            "Confusion matrix:\n",
            " [[1361  287]\n",
            " [ 138 1316]]\n"
          ],
          "name": "stdout"
        }
      ]
    },
    {
      "cell_type": "code",
      "metadata": {
        "id": "VY0WD6gUynql",
        "colab_type": "code",
        "outputId": "06467a09-25b0-487e-eb26-c461c45ab619",
        "colab": {
          "base_uri": "https://localhost:8080/",
          "height": 35
        }
      },
      "source": [
        "fpr, tpr, thresholds = roc_curve(y_test, pred4.detach().numpy())\n",
        "auc_arts = auc(fpr, tpr)\n",
        "print(\"Self Attention-Article_souces AUC-\",auc_arts)"
      ],
      "execution_count": 0,
      "outputs": [
        {
          "output_type": "stream",
          "text": [
            "Self Attention-Article_souces AUC- 0.8654694615456525\n"
          ],
          "name": "stdout"
        }
      ]
    },
    {
      "cell_type": "code",
      "metadata": {
        "id": "wg0h-zzFy4QO",
        "colab_type": "code",
        "outputId": "3394c8e5-eae8-485b-bf5a-17819e140d9d",
        "colab": {
          "base_uri": "https://localhost:8080/",
          "height": 89
        }
      },
      "source": [
        "# Visulaisation\n",
        "test_last_idx = 15\n",
        "wts4 = get_activation_wts(attention_model4,Variable(torch.from_numpy(x_test_pad_cl[:test_last_idx]).type(torch.LongTensor)),\n",
        "                             Variable(torch.from_numpy(x_test_pad[:test_last_idx]).type(torch.LongTensor)),\n",
        "                        Variable(torch.from_numpy(x_test_pad_s[:test_last_idx]).type(torch.LongTensor)))\n",
        "print(wts4.size())\n",
        "visualize_attention(wts4,x_test_pad[:test_last_idx],word_to_id,filename='attention_art_sources.html')"
      ],
      "execution_count": 0,
      "outputs": [
        {
          "output_type": "stream",
          "text": [
            "torch.Size([15, 10, 150])\n",
            "Attention visualization created for 15 samples\n"
          ],
          "name": "stdout"
        },
        {
          "output_type": "stream",
          "text": [
            "/usr/local/lib/python3.6/dist-packages/ipykernel_launcher.py:99: UserWarning: Implicit dimension choice for softmax has been deprecated. Change the call to include dim=X as an argument.\n"
          ],
          "name": "stderr"
        }
      ]
    },
    {
      "cell_type": "markdown",
      "metadata": {
        "id": "1kM_HDUPAZ2h",
        "colab_type": "text"
      },
      "source": [
        "## Test for Unique Claims"
      ]
    },
    {
      "cell_type": "markdown",
      "metadata": {
        "id": "G-T5ubFoqnix",
        "colab_type": "text"
      },
      "source": [
        "Due to the problem of experimental bias introduced into the model, we test the performance of the Hybrid model on unique claims. This bias is introduced because a claim can be associated with many articles and hence can be repeated in traning and test data making it seen data for the model when testing."
      ]
    },
    {
      "cell_type": "code",
      "metadata": {
        "id": "Vk9o5HldAXfQ",
        "colab_type": "code",
        "outputId": "0b21e2d1-7257-4ac2-89d6-d33523403289",
        "colab": {
          "base_uri": "https://localhost:8080/",
          "height": 375
        }
      },
      "source": [
        " #For full model\n",
        "x_test_or['pred_label_full'] = pred.detach().numpy()\n",
        "unique_test_or2 = x_test_or[~x_test_or['claim_text'].isin(x_train_or['claim_text'])]\n",
        "unique_test_or2.head()"
      ],
      "execution_count": 25,
      "outputs": [
        {
          "output_type": "execute_result",
          "data": {
            "text/html": [
              "<div>\n",
              "<style scoped>\n",
              "    .dataframe tbody tr th:only-of-type {\n",
              "        vertical-align: middle;\n",
              "    }\n",
              "\n",
              "    .dataframe tbody tr th {\n",
              "        vertical-align: top;\n",
              "    }\n",
              "\n",
              "    .dataframe thead th {\n",
              "        text-align: right;\n",
              "    }\n",
              "</style>\n",
              "<table border=\"1\" class=\"dataframe\">\n",
              "  <thead>\n",
              "    <tr style=\"text-align: right;\">\n",
              "      <th></th>\n",
              "      <th>cred_label</th>\n",
              "      <th>claim_id</th>\n",
              "      <th>claim_text</th>\n",
              "      <th>article</th>\n",
              "      <th>article_source</th>\n",
              "      <th>bin_cred_label</th>\n",
              "      <th>pred_label_full</th>\n",
              "    </tr>\n",
              "  </thead>\n",
              "  <tbody>\n",
              "    <tr>\n",
              "      <th>6157</th>\n",
              "      <td>true</td>\n",
              "      <td>holidays_christmas_photos_decorations</td>\n",
              "      <td>photograph shows holiday display depicting hom...</td>\n",
              "      <td>the legends information and misinformation tha...</td>\n",
              "      <td>www.sjpba.net</td>\n",
              "      <td>1</td>\n",
              "      <td>1.0</td>\n",
              "    </tr>\n",
              "    <tr>\n",
              "      <th>23491</th>\n",
              "      <td>mostly true</td>\n",
              "      <td>trayvon-martin-space-camp</td>\n",
              "      <td>photograph shows shooting victim trayvon marti...</td>\n",
              "      <td>read more false george zimmerman found dead fo...</td>\n",
              "      <td>hoax.trendolizer.com</td>\n",
              "      <td>1</td>\n",
              "      <td>0.0</td>\n",
              "    </tr>\n",
              "    <tr>\n",
              "      <th>9511</th>\n",
              "      <td>true</td>\n",
              "      <td>politics_war_onleave</td>\n",
              "      <td>civilians give seats commercial flight soldier...</td>\n",
              "      <td>offline quote quick reply remove advertisement...</td>\n",
              "      <td>www.puff.com</td>\n",
              "      <td>1</td>\n",
              "      <td>1.0</td>\n",
              "    </tr>\n",
              "    <tr>\n",
              "      <th>5648</th>\n",
              "      <td>true</td>\n",
              "      <td>humor_mediagoofs_sixpence2</td>\n",
              "      <td>urban myths board game fell joke using nursery...</td>\n",
              "      <td>a true legend a red indicates a false one and ...</td>\n",
              "      <td>www.j-dubbstheater.com</td>\n",
              "      <td>1</td>\n",
              "      <td>1.0</td>\n",
              "    </tr>\n",
              "    <tr>\n",
              "      <th>27614</th>\n",
              "      <td>true</td>\n",
              "      <td>politics_obama_photos_crashers</td>\n",
              "      <td>photograph shows barack obama posing couple cr...</td>\n",
              "      <td>comment culture travel life women fashion luxu...</td>\n",
              "      <td>www.telegraph.co.uk</td>\n",
              "      <td>1</td>\n",
              "      <td>1.0</td>\n",
              "    </tr>\n",
              "  </tbody>\n",
              "</table>\n",
              "</div>"
            ],
            "text/plain": [
              "        cred_label  ... pred_label_full\n",
              "6157          true  ...             1.0\n",
              "23491  mostly true  ...             0.0\n",
              "9511          true  ...             1.0\n",
              "5648          true  ...             1.0\n",
              "27614         true  ...             1.0\n",
              "\n",
              "[5 rows x 7 columns]"
            ]
          },
          "metadata": {
            "tags": []
          },
          "execution_count": 25
        }
      ]
    },
    {
      "cell_type": "code",
      "metadata": {
        "id": "pcmsv5h1CWdW",
        "colab_type": "code",
        "colab": {}
      },
      "source": [
        "bin_pred2=unique_test_or2['bin_cred_label'].tolist()\n",
        "pred_val2=unique_test_or2['pred_label_full'].tolist()"
      ],
      "execution_count": 0,
      "outputs": []
    },
    {
      "cell_type": "code",
      "metadata": {
        "id": "_5EbVyxoCY-N",
        "colab_type": "code",
        "outputId": "8fa0d739-35e2-4eb8-9346-dd71fdb14b0f",
        "colab": {
          "base_uri": "https://localhost:8080/",
          "height": 699
        }
      },
      "source": [
        "plot_confusion_matrix(bin_pred2,pred_val2,[0,1])\n",
        "plot_confusion_matrix(bin_pred2,pred_val2,[0,1], normalize=True)"
      ],
      "execution_count": 27,
      "outputs": [
        {
          "output_type": "stream",
          "text": [
            "Confusion matrix, without normalization\n",
            "[[18 17]\n",
            " [16 36]]\n",
            "Normalized confusion matrix\n",
            "[[0.51428571 0.48571429]\n",
            " [0.30769231 0.69230769]]\n"
          ],
          "name": "stdout"
        },
        {
          "output_type": "execute_result",
          "data": {
            "text/plain": [
              "<matplotlib.axes._subplots.AxesSubplot at 0x7f0ba3131cc0>"
            ]
          },
          "metadata": {
            "tags": []
          },
          "execution_count": 27
        },
        {
          "output_type": "display_data",
          "data": {
            "image/png": "[encoded data removed]",
            "text/plain": [
              "<Figure size 432x288 with 2 Axes>"
            ]
          },
          "metadata": {
            "tags": []
          }
        },
        {
          "output_type": "display_data",
          "data": {
            "image/png": "[encoded data removed]",
            "text/plain": [
              "<Figure size 432x288 with 2 Axes>"
            ]
          },
          "metadata": {
            "tags": []
          }
        }
      ]
    },
    {
      "cell_type": "code",
      "metadata": {
        "id": "hjCV7HSqCZxr",
        "colab_type": "code",
        "outputId": "6b0ddb05-a181-414f-edf7-2f89a22baf34",
        "colab": {
          "base_uri": "https://localhost:8080/",
          "height": 277
        }
      },
      "source": [
        "ac_p,ac_r,ac_a,ac_f1 = evaluation_summary(\"Self Attention-article and claim\", pred_val2, bin_pred2)"
      ],
      "execution_count": 28,
      "outputs": [
        {
          "output_type": "stream",
          "text": [
            "Evaluation for: Self Attention-article and claim\n",
            "Classifier 'Self Attention-article and claim' has Acc=0.621 P=0.603 R=0.604 F1=0.604\n",
            "              precision    recall  f1-score   support\n",
            "\n",
            "         0.0      0.514     0.529     0.522        34\n",
            "         1.0      0.692     0.679     0.686        53\n",
            "\n",
            "    accuracy                          0.621        87\n",
            "   macro avg      0.603     0.604     0.604        87\n",
            "weighted avg      0.623     0.621     0.622        87\n",
            "\n",
            "\n",
            "Confusion matrix:\n",
            " [[18 17]\n",
            " [16 36]]\n"
          ],
          "name": "stdout"
        }
      ]
    },
    {
      "cell_type": "code",
      "metadata": {
        "id": "hdBxpd9VCcLm",
        "colab_type": "code",
        "outputId": "8bf3a30e-db3c-46cc-f953-c988d6d8308d",
        "colab": {
          "base_uri": "https://localhost:8080/",
          "height": 35
        }
      },
      "source": [
        "fpr, tpr, thresholds = roc_curve(bin_pred2, pred_val2)\n",
        "auc_arts = auc(fpr, tpr)\n",
        "print(\"Self Attention-Article_souces AUC-\",auc_arts)"
      ],
      "execution_count": 29,
      "outputs": [
        {
          "output_type": "stream",
          "text": [
            "Self Attention-Article_souces AUC- 0.6032967032967033\n"
          ],
          "name": "stdout"
        }
      ]
    },
    {
      "cell_type": "code",
      "metadata": {
        "id": "oMSYZ3WSCePc",
        "colab_type": "code",
        "outputId": "860bda64-87e7-4197-a1c9-4ef77e539297",
        "colab": {
          "base_uri": "https://localhost:8080/",
          "height": 225
        }
      },
      "source": [
        "label_counts = unique_test_or2['bin_cred_label'].value_counts()\n",
        "print(label_counts.describe())\n",
        "top_labels = label_counts.nlargest(5)\n",
        "top_labels_list = top_labels.index.tolist()\n",
        "print(top_labels)"
      ],
      "execution_count": 30,
      "outputs": [
        {
          "output_type": "stream",
          "text": [
            "count     2.000000\n",
            "mean     43.500000\n",
            "std      12.020815\n",
            "min      35.000000\n",
            "25%      39.250000\n",
            "50%      43.500000\n",
            "75%      47.750000\n",
            "max      52.000000\n",
            "Name: bin_cred_label, dtype: float64\n",
            "1    52\n",
            "0    35\n",
            "Name: bin_cred_label, dtype: int64\n"
          ],
          "name": "stdout"
        }
      ]
    },
    {
      "cell_type": "code",
      "metadata": {
        "id": "-cFHNcM1Cr_o",
        "colab_type": "code",
        "outputId": "74d8b5a0-69ff-45b3-be44-4242e8a5942f",
        "colab": {
          "base_uri": "https://localhost:8080/",
          "height": 1000
        }
      },
      "source": [
        "incorrect2 = unique_test_or2[unique_test_or2['bin_cred_label']!=unique_test_or2['pred_label_full'].astype(int)]\n",
        "incorrect2"
      ],
      "execution_count": 52,
      "outputs": [
        {
          "output_type": "execute_result",
          "data": {
            "text/html": [
              "<div>\n",
              "<style scoped>\n",
              "    .dataframe tbody tr th:only-of-type {\n",
              "        vertical-align: middle;\n",
              "    }\n",
              "\n",
              "    .dataframe tbody tr th {\n",
              "        vertical-align: top;\n",
              "    }\n",
              "\n",
              "    .dataframe thead th {\n",
              "        text-align: right;\n",
              "    }\n",
              "</style>\n",
              "<table border=\"1\" class=\"dataframe\">\n",
              "  <thead>\n",
              "    <tr style=\"text-align: right;\">\n",
              "      <th></th>\n",
              "      <th>cred_label</th>\n",
              "      <th>claim_id</th>\n",
              "      <th>claim_text</th>\n",
              "      <th>article</th>\n",
              "      <th>article_source</th>\n",
              "      <th>bin_cred_label</th>\n",
              "      <th>pred_label_full</th>\n",
              "    </tr>\n",
              "  </thead>\n",
              "  <tbody>\n",
              "    <tr>\n",
              "      <th>23491</th>\n",
              "      <td>mostly true</td>\n",
              "      <td>trayvon-martin-space-camp</td>\n",
              "      <td>photograph shows shooting victim trayvon marti...</td>\n",
              "      <td>read more false george zimmerman found dead fo...</td>\n",
              "      <td>hoax.trendolizer.com</td>\n",
              "      <td>1</td>\n",
              "      <td>0.0</td>\n",
              "    </tr>\n",
              "    <tr>\n",
              "      <th>7714</th>\n",
              "      <td>false</td>\n",
              "      <td>holidays_flagday_burnflag</td>\n",
              "      <td>flag protocol specifies us flag burned allowed...</td>\n",
              "      <td>so little compared to conventional treatment t...</td>\n",
              "      <td>la-compagnie-noire.com</td>\n",
              "      <td>0</td>\n",
              "      <td>1.0</td>\n",
              "    </tr>\n",
              "    <tr>\n",
              "      <th>19336</th>\n",
              "      <td>true</td>\n",
              "      <td>critters_gnus_jumboluv</td>\n",
              "      <td>village india learned hard way not interfere c...</td>\n",
              "      <td>is the breakup month for couples the visual ap...</td>\n",
              "      <td>matthewenglish1.blogspot.com</td>\n",
              "      <td>1</td>\n",
              "      <td>0.0</td>\n",
              "    </tr>\n",
              "    <tr>\n",
              "      <th>2150</th>\n",
              "      <td>true</td>\n",
              "      <td>photos_people_heritage</td>\n",
              "      <td>photograph shows white supremacist activist su...</td>\n",
              "      <td>of a portuguese farmhouse 0 0 24 carrot eyesig...</td>\n",
              "      <td>camelopardid2.rssing.com</td>\n",
              "      <td>1</td>\n",
              "      <td>0.0</td>\n",
              "    </tr>\n",
              "    <tr>\n",
              "      <th>15823</th>\n",
              "      <td>true</td>\n",
              "      <td>politics_soapbox_wakeup</td>\n",
              "      <td>naval captains speech urges americans wake act...</td>\n",
              "      <td>headlines about world 16 dan ouimette essay na...</td>\n",
              "      <td>www.briefguru.com</td>\n",
              "      <td>1</td>\n",
              "      <td>0.0</td>\n",
              "    </tr>\n",
              "    <tr>\n",
              "      <th>911</th>\n",
              "      <td>false</td>\n",
              "      <td>rumors_burqacell</td>\n",
              "      <td>antiterrorism presentation describes suspiciou...</td>\n",
              "      <td>area multiple listing service reo real estate ...</td>\n",
              "      <td>ndfhgss4.awardspace.biz</td>\n",
              "      <td>0</td>\n",
              "      <td>1.0</td>\n",
              "    </tr>\n",
              "    <tr>\n",
              "      <th>12600</th>\n",
              "      <td>true</td>\n",
              "      <td>risque_tattled_chung</td>\n",
              "      <td>employee south korean firm gets fired email br...</td>\n",
              "      <td>it s sent down the alimentary canal it s no mo...</td>\n",
              "      <td>snarkypants.com</td>\n",
              "      <td>1</td>\n",
              "      <td>0.0</td>\n",
              "    </tr>\n",
              "    <tr>\n",
              "      <th>5465</th>\n",
              "      <td>false</td>\n",
              "      <td>photos_architecture_belairmansion</td>\n",
              "      <td>photographs show mansion belonging filipino se...</td>\n",
              "      <td>mugabe go log in create a blog help conditions...</td>\n",
              "      <td>lengthphotos.indexbuzz.net</td>\n",
              "      <td>0</td>\n",
              "      <td>1.0</td>\n",
              "    </tr>\n",
              "    <tr>\n",
              "      <th>4495</th>\n",
              "      <td>false</td>\n",
              "      <td>horrors_robbery_purse</td>\n",
              "      <td>women wear purses strapped across bodies runni...</td>\n",
              "      <td>tale is to serve to keep kids safe without the...</td>\n",
              "      <td>www.ruthenia.ru</td>\n",
              "      <td>0</td>\n",
              "      <td>1.0</td>\n",
              "    </tr>\n",
              "    <tr>\n",
              "      <th>28247</th>\n",
              "      <td>true</td>\n",
              "      <td>photos_animals_electrocutedbear</td>\n",
              "      <td>photographs show brown bear electrocuted chewe...</td>\n",
              "      <td>images from up newt the bear and the bow and d...</td>\n",
              "      <td>consteb9.reunionwatch.com</td>\n",
              "      <td>1</td>\n",
              "      <td>0.0</td>\n",
              "    </tr>\n",
              "    <tr>\n",
              "      <th>7941</th>\n",
              "      <td>true</td>\n",
              "      <td>crime_prevent_caralarm</td>\n",
              "      <td>think house burglarized use car alarm summon help</td>\n",
              "      <td>the first place and use the duplicate keys to ...</td>\n",
              "      <td>www.motorists.org</td>\n",
              "      <td>1</td>\n",
              "      <td>0.0</td>\n",
              "    </tr>\n",
              "    <tr>\n",
              "      <th>7169</th>\n",
              "      <td>false</td>\n",
              "      <td>politics_taxes_irsmove</td>\n",
              "      <td>irs moved offices washington dc costa rica</td>\n",
              "      <td>the irs they will never tax you again nice way...</td>\n",
              "      <td>www.naepc.org</td>\n",
              "      <td>0</td>\n",
              "      <td>1.0</td>\n",
              "    </tr>\n",
              "    <tr>\n",
              "      <th>10162</th>\n",
              "      <td>false</td>\n",
              "      <td>ted-cruz-netflix-and-chill-contest</td>\n",
              "      <td>gop presidential candidate ted cruz ran netfli...</td>\n",
              "      <td>ted cruz doesnt want to netflix and chill with...</td>\n",
              "      <td>nuzzel.com</td>\n",
              "      <td>0</td>\n",
              "      <td>1.0</td>\n",
              "    </tr>\n",
              "    <tr>\n",
              "      <th>15014</th>\n",
              "      <td>true</td>\n",
              "      <td>subtropolis</td>\n",
              "      <td>kansas city missouri home unusual subterranean...</td>\n",
              "      <td>via 25 hottest urban legends a list of the 25 ...</td>\n",
              "      <td>hoax.trendolizer.com</td>\n",
              "      <td>1</td>\n",
              "      <td>0.0</td>\n",
              "    </tr>\n",
              "    <tr>\n",
              "      <th>15041</th>\n",
              "      <td>mostly true</td>\n",
              "      <td>sports_hockey_blackhawks</td>\n",
              "      <td>members chicago blackhawks attended wake fathe...</td>\n",
              "      <td>and most of all hockey fans and hockey parents...</td>\n",
              "      <td>m.thebreakaway.net</td>\n",
              "      <td>1</td>\n",
              "      <td>0.0</td>\n",
              "    </tr>\n",
              "    <tr>\n",
              "      <th>7940</th>\n",
              "      <td>false</td>\n",
              "      <td>glurge_reggie</td>\n",
              "      <td>adopted dogs former owner turns soldier killed...</td>\n",
              "      <td>dog reflections dog beds paw digs raise a gree...</td>\n",
              "      <td>thestarryeye.typepad.com</td>\n",
              "      <td>0</td>\n",
              "      <td>1.0</td>\n",
              "    </tr>\n",
              "    <tr>\n",
              "      <th>10241</th>\n",
              "      <td>true</td>\n",
              "      <td>rumors_sympathy</td>\n",
              "      <td>false reports loved ones lost attack world tra...</td>\n",
              "      <td>this awkward flaw in her story was discovered ...</td>\n",
              "      <td>aa-1177.blogspot.com</td>\n",
              "      <td>1</td>\n",
              "      <td>0.0</td>\n",
              "    </tr>\n",
              "    <tr>\n",
              "      <th>20</th>\n",
              "      <td>false</td>\n",
              "      <td>rumors_wandawi</td>\n",
              "      <td>coded images oil paintings reveal plans upcomi...</td>\n",
              "      <td>bush saluted an army officer who had been badl...</td>\n",
              "      <td>wwwtalkin.tripod.com</td>\n",
              "      <td>0</td>\n",
              "      <td>1.0</td>\n",
              "    </tr>\n",
              "    <tr>\n",
              "      <th>15013</th>\n",
              "      <td>true</td>\n",
              "      <td>subtropolis</td>\n",
              "      <td>kansas city missouri home unusual subterranean...</td>\n",
              "      <td>times trending drug news pro uk ukip united na...</td>\n",
              "      <td>hoax.trendolizer.com</td>\n",
              "      <td>1</td>\n",
              "      <td>0.0</td>\n",
              "    </tr>\n",
              "    <tr>\n",
              "      <th>6449</th>\n",
              "      <td>false</td>\n",
              "      <td>photos_animals_bullshot</td>\n",
              "      <td>tourists last photograph closeup charging bull</td>\n",
              "      <td>animal hunters internet hoaxes bulls pets hunt...</td>\n",
              "      <td>animal-hunters.blogspot.com</td>\n",
              "      <td>0</td>\n",
              "      <td>1.0</td>\n",
              "    </tr>\n",
              "    <tr>\n",
              "      <th>2149</th>\n",
              "      <td>true</td>\n",
              "      <td>photos_people_heritage</td>\n",
              "      <td>photograph shows white supremacist activist su...</td>\n",
              "      <td>home create explore search home create explore...</td>\n",
              "      <td>www.clammr.com</td>\n",
              "      <td>1</td>\n",
              "      <td>0.0</td>\n",
              "    </tr>\n",
              "    <tr>\n",
              "      <th>1967</th>\n",
              "      <td>false</td>\n",
              "      <td>Politics_satire_scanner</td>\n",
              "      <td>tsa screener denver caught masturbating images...</td>\n",
              "      <td>familiar with the iphone lite 6 11 2013 374 bo...</td>\n",
              "      <td>appsearch.cool3c.com</td>\n",
              "      <td>0</td>\n",
              "      <td>1.0</td>\n",
              "    </tr>\n",
              "    <tr>\n",
              "      <th>21565</th>\n",
              "      <td>true</td>\n",
              "      <td>religion_666bill</td>\n",
              "      <td>persons attempt avoid financial transactions t...</td>\n",
              "      <td>did psychologist bf skinner raise his daughter...</td>\n",
              "      <td>www.sjpba.net</td>\n",
              "      <td>1</td>\n",
              "      <td>0.0</td>\n",
              "    </tr>\n",
              "    <tr>\n",
              "      <th>9228</th>\n",
              "      <td>true</td>\n",
              "      <td>politics_medical_hobbylobby</td>\n",
              "      <td>hobby lobby filed lawsuit federal mandate requ...</td>\n",
              "      <td>cover contraception by feminist newswire on no...</td>\n",
              "      <td>feminist.org</td>\n",
              "      <td>1</td>\n",
              "      <td>0.0</td>\n",
              "    </tr>\n",
              "    <tr>\n",
              "      <th>9898</th>\n",
              "      <td>false</td>\n",
              "      <td>politics_medical_abortionny</td>\n",
              "      <td>new york assembly passed law making expressly ...</td>\n",
              "      <td>a narcissistic leader you know that nothing cr...</td>\n",
              "      <td>66.36.248.142</td>\n",
              "      <td>0</td>\n",
              "      <td>1.0</td>\n",
              "    </tr>\n",
              "    <tr>\n",
              "      <th>3189</th>\n",
              "      <td>false</td>\n",
              "      <td>politics_immigration_pellgrant</td>\n",
              "      <td>noncitizens dont pay taxes eligible federal ed...</td>\n",
              "      <td>a candidate will win this year despite the pop...</td>\n",
              "      <td>www.worldaffairsboard.com</td>\n",
              "      <td>0</td>\n",
              "      <td>1.0</td>\n",
              "    </tr>\n",
              "    <tr>\n",
              "      <th>6871</th>\n",
              "      <td>false</td>\n",
              "      <td>language_document_cabbage</td>\n",
              "      <td>government memo regulating sale cabbages ran c...</td>\n",
              "      <td>because he thinks quite a lot about an issue b...</td>\n",
              "      <td>www.thefaulkingtruth.com</td>\n",
              "      <td>0</td>\n",
              "      <td>1.0</td>\n",
              "    </tr>\n",
              "    <tr>\n",
              "      <th>5179</th>\n",
              "      <td>false</td>\n",
              "      <td>quotes_yogiberra</td>\n",
              "      <td>transcript reproduces 2007 commencement addres...</td>\n",
              "      <td>team manager yet yogi will also go down in his...</td>\n",
              "      <td>www.xpx.ca</td>\n",
              "      <td>0</td>\n",
              "      <td>1.0</td>\n",
              "    </tr>\n",
              "    <tr>\n",
              "      <th>24550</th>\n",
              "      <td>true</td>\n",
              "      <td>photos_architecture_undersea</td>\n",
              "      <td>photographs show undersea restaurant</td>\n",
              "      <td>hide share to go to beneath the waters of eila...</td>\n",
              "      <td>io9.gizmodo.com</td>\n",
              "      <td>1</td>\n",
              "      <td>0.0</td>\n",
              "    </tr>\n",
              "    <tr>\n",
              "      <th>15822</th>\n",
              "      <td>true</td>\n",
              "      <td>politics_soapbox_wakeup</td>\n",
              "      <td>naval captains speech urges americans wake act...</td>\n",
              "      <td>so much i m off to do some more of that before...</td>\n",
              "      <td>insanitysoasis.wordpress.com</td>\n",
              "      <td>1</td>\n",
              "      <td>0.0</td>\n",
              "    </tr>\n",
              "    <tr>\n",
              "      <th>5178</th>\n",
              "      <td>false</td>\n",
              "      <td>quotes_yogiberra</td>\n",
              "      <td>transcript reproduces 2007 commencement addres...</td>\n",
              "      <td>for a man one giant leap for mankind announcem...</td>\n",
              "      <td>unblockproxybg.com</td>\n",
              "      <td>0</td>\n",
              "      <td>1.0</td>\n",
              "    </tr>\n",
              "    <tr>\n",
              "      <th>2062</th>\n",
              "      <td>false</td>\n",
              "      <td>photos_sports_nikecointoss</td>\n",
              "      <td>nike captured amazing photo coin toss 2015 col...</td>\n",
              "      <td>a look at the real spider cam image from the c...</td>\n",
              "      <td>www.fullycoveredsports.com</td>\n",
              "      <td>0</td>\n",
              "      <td>1.0</td>\n",
              "    </tr>\n",
              "    <tr>\n",
              "      <th>9764</th>\n",
              "      <td>false</td>\n",
              "      <td>cruz-beyonce-deport-tweet</td>\n",
              "      <td>ted cruz threatened twitter deport beyonc due ...</td>\n",
              "      <td>song formation the singer became beyonc will s...</td>\n",
              "      <td>fmnews-cj.blogspot.com</td>\n",
              "      <td>0</td>\n",
              "      <td>1.0</td>\n",
              "    </tr>\n",
              "  </tbody>\n",
              "</table>\n",
              "</div>"
            ],
            "text/plain": [
              "        cred_label  ... pred_label_full\n",
              "23491  mostly true  ...             0.0\n",
              "7714         false  ...             1.0\n",
              "19336         true  ...             0.0\n",
              "2150          true  ...             0.0\n",
              "15823         true  ...             0.0\n",
              "911          false  ...             1.0\n",
              "12600         true  ...             0.0\n",
              "5465         false  ...             1.0\n",
              "4495         false  ...             1.0\n",
              "28247         true  ...             0.0\n",
              "7941          true  ...             0.0\n",
              "7169         false  ...             1.0\n",
              "10162        false  ...             1.0\n",
              "15014         true  ...             0.0\n",
              "15041  mostly true  ...             0.0\n",
              "7940         false  ...             1.0\n",
              "10241         true  ...             0.0\n",
              "20           false  ...             1.0\n",
              "15013         true  ...             0.0\n",
              "6449         false  ...             1.0\n",
              "2149          true  ...             0.0\n",
              "1967         false  ...             1.0\n",
              "21565         true  ...             0.0\n",
              "9228          true  ...             0.0\n",
              "9898         false  ...             1.0\n",
              "3189         false  ...             1.0\n",
              "6871         false  ...             1.0\n",
              "5179         false  ...             1.0\n",
              "24550         true  ...             0.0\n",
              "15822         true  ...             0.0\n",
              "5178         false  ...             1.0\n",
              "2062         false  ...             1.0\n",
              "9764         false  ...             1.0\n",
              "\n",
              "[33 rows x 7 columns]"
            ]
          },
          "metadata": {
            "tags": []
          },
          "execution_count": 52
        }
      ]
    },
    {
      "cell_type": "code",
      "metadata": {
        "id": "YTFm9H_OCvut",
        "colab_type": "code",
        "colab": {}
      },
      "source": [
        "# Write to csv\n",
        "unique_test_or2.to_csv('op_attn_snope_full.csv', sep='\\t')"
      ],
      "execution_count": 0,
      "outputs": []
    },
    {
      "cell_type": "code",
      "metadata": {
        "colab_type": "code",
        "id": "dPKfvW7JGelj",
        "outputId": "bebd1404-0bd2-47a8-f213-4bfcc7e7f672",
        "colab": {
          "base_uri": "https://localhost:8080/",
          "height": 306
        }
      },
      "source": [
        "# For Article_claim model\n",
        "x_test_or['pred_label2'] = pred2.detach().numpy()\n",
        "unique_test_or3 = x_test_or[~x_test_or['claim_text'].isin(x_train_or['claim_text'])]\n",
        "unique_test_or3.head()"
      ],
      "execution_count": 53,
      "outputs": [
        {
          "output_type": "execute_result",
          "data": {
            "text/html": [
              "<div>\n",
              "<style scoped>\n",
              "    .dataframe tbody tr th:only-of-type {\n",
              "        vertical-align: middle;\n",
              "    }\n",
              "\n",
              "    .dataframe tbody tr th {\n",
              "        vertical-align: top;\n",
              "    }\n",
              "\n",
              "    .dataframe thead th {\n",
              "        text-align: right;\n",
              "    }\n",
              "</style>\n",
              "<table border=\"1\" class=\"dataframe\">\n",
              "  <thead>\n",
              "    <tr style=\"text-align: right;\">\n",
              "      <th></th>\n",
              "      <th>cred_label</th>\n",
              "      <th>claim_id</th>\n",
              "      <th>claim_text</th>\n",
              "      <th>article</th>\n",
              "      <th>article_source</th>\n",
              "      <th>bin_cred_label</th>\n",
              "      <th>pred_label2</th>\n",
              "    </tr>\n",
              "  </thead>\n",
              "  <tbody>\n",
              "    <tr>\n",
              "      <th>6157</th>\n",
              "      <td>true</td>\n",
              "      <td>holidays_christmas_photos_decorations</td>\n",
              "      <td>photograph shows holiday display depicting hom...</td>\n",
              "      <td>the legends information and misinformation tha...</td>\n",
              "      <td>www.sjpba.net</td>\n",
              "      <td>1</td>\n",
              "      <td>1.0</td>\n",
              "    </tr>\n",
              "    <tr>\n",
              "      <th>23491</th>\n",
              "      <td>mostly true</td>\n",
              "      <td>trayvon-martin-space-camp</td>\n",
              "      <td>photograph shows shooting victim trayvon marti...</td>\n",
              "      <td>read more false george zimmerman found dead fo...</td>\n",
              "      <td>hoax.trendolizer.com</td>\n",
              "      <td>1</td>\n",
              "      <td>0.0</td>\n",
              "    </tr>\n",
              "    <tr>\n",
              "      <th>9511</th>\n",
              "      <td>true</td>\n",
              "      <td>politics_war_onleave</td>\n",
              "      <td>civilians give seats commercial flight soldier...</td>\n",
              "      <td>offline quote quick reply remove advertisement...</td>\n",
              "      <td>www.puff.com</td>\n",
              "      <td>1</td>\n",
              "      <td>1.0</td>\n",
              "    </tr>\n",
              "    <tr>\n",
              "      <th>5648</th>\n",
              "      <td>true</td>\n",
              "      <td>humor_mediagoofs_sixpence2</td>\n",
              "      <td>urban myths board game fell joke using nursery...</td>\n",
              "      <td>a true legend a red indicates a false one and ...</td>\n",
              "      <td>www.j-dubbstheater.com</td>\n",
              "      <td>1</td>\n",
              "      <td>1.0</td>\n",
              "    </tr>\n",
              "    <tr>\n",
              "      <th>27614</th>\n",
              "      <td>true</td>\n",
              "      <td>politics_obama_photos_crashers</td>\n",
              "      <td>photograph shows barack obama posing couple cr...</td>\n",
              "      <td>comment culture travel life women fashion luxu...</td>\n",
              "      <td>www.telegraph.co.uk</td>\n",
              "      <td>1</td>\n",
              "      <td>1.0</td>\n",
              "    </tr>\n",
              "  </tbody>\n",
              "</table>\n",
              "</div>"
            ],
            "text/plain": [
              "        cred_label  ... pred_label2\n",
              "6157          true  ...         1.0\n",
              "23491  mostly true  ...         0.0\n",
              "9511          true  ...         1.0\n",
              "5648          true  ...         1.0\n",
              "27614         true  ...         1.0\n",
              "\n",
              "[5 rows x 7 columns]"
            ]
          },
          "metadata": {
            "tags": []
          },
          "execution_count": 53
        }
      ]
    },
    {
      "cell_type": "code",
      "metadata": {
        "colab_type": "code",
        "id": "wps_9CFdGel4",
        "colab": {}
      },
      "source": [
        "bin_pred3=unique_test_or3['bin_cred_label'].tolist()\n",
        "pred_val3=unique_test_or3['pred_label2'].tolist()"
      ],
      "execution_count": 0,
      "outputs": []
    },
    {
      "cell_type": "code",
      "metadata": {
        "colab_type": "code",
        "id": "l9CwyrOgGemE",
        "outputId": "eed70428-4d5e-4af7-c0dd-265711378b5e",
        "colab": {
          "base_uri": "https://localhost:8080/",
          "height": 699
        }
      },
      "source": [
        "plot_confusion_matrix(bin_pred3,pred_val3,[0,1])\n",
        "plot_confusion_matrix(bin_pred3,pred_val3,[0,1], normalize=True)"
      ],
      "execution_count": 55,
      "outputs": [
        {
          "output_type": "stream",
          "text": [
            "Confusion matrix, without normalization\n",
            "[[19 16]\n",
            " [15 37]]\n",
            "Normalized confusion matrix\n",
            "[[0.54285714 0.45714286]\n",
            " [0.28846154 0.71153846]]\n"
          ],
          "name": "stdout"
        },
        {
          "output_type": "execute_result",
          "data": {
            "text/plain": [
              "<matplotlib.axes._subplots.AxesSubplot at 0x7f0ba34608d0>"
            ]
          },
          "metadata": {
            "tags": []
          },
          "execution_count": 55
        },
        {
          "output_type": "display_data",
          "data": {
            "image/png": "[encoded data removed]",
            "text/plain": [
              "<Figure size 432x288 with 2 Axes>"
            ]
          },
          "metadata": {
            "tags": []
          }
        },
        {
          "output_type": "display_data",
          "data": {
            "image/png": "[encoded data removed]",
            "text/plain": [
              "<Figure size 432x288 with 2 Axes>"
            ]
          },
          "metadata": {
            "tags": []
          }
        }
      ]
    },
    {
      "cell_type": "code",
      "metadata": {
        "colab_type": "code",
        "id": "Z8KwHty3GemO",
        "outputId": "a578e184-97c4-45e7-edcb-d61e4dfc91d7",
        "colab": {
          "base_uri": "https://localhost:8080/",
          "height": 277
        }
      },
      "source": [
        "ac_p,ac_r,ac_a,ac_f1 = evaluation_summary(\"Self Attention-article and claim\", pred_val3, bin_pred3)"
      ],
      "execution_count": 56,
      "outputs": [
        {
          "output_type": "stream",
          "text": [
            "Evaluation for: Self Attention-article and claim\n",
            "Classifier 'Self Attention-article and claim' has Acc=0.644 P=0.627 R=0.628 F1=0.628\n",
            "              precision    recall  f1-score   support\n",
            "\n",
            "         0.0      0.543     0.559     0.551        34\n",
            "         1.0      0.712     0.698     0.705        53\n",
            "\n",
            "    accuracy                          0.644        87\n",
            "   macro avg      0.627     0.628     0.628        87\n",
            "weighted avg      0.646     0.644     0.645        87\n",
            "\n",
            "\n",
            "Confusion matrix:\n",
            " [[19 16]\n",
            " [15 37]]\n"
          ],
          "name": "stdout"
        }
      ]
    },
    {
      "cell_type": "code",
      "metadata": {
        "colab_type": "code",
        "id": "I3RPn5wpGemd",
        "outputId": "6178418f-0a78-43ce-c8dd-806bda333ad3",
        "colab": {
          "base_uri": "https://localhost:8080/",
          "height": 35
        }
      },
      "source": [
        "fpr, tpr, thresholds = roc_curve(bin_pred3, pred_val3)\n",
        "auc_arts = auc(fpr, tpr)\n",
        "print(\"Self Attention-Article_souces AUC-\",auc_arts)"
      ],
      "execution_count": 57,
      "outputs": [
        {
          "output_type": "stream",
          "text": [
            "Self Attention-Article_souces AUC- 0.6271978021978023\n"
          ],
          "name": "stdout"
        }
      ]
    },
    {
      "cell_type": "code",
      "metadata": {
        "colab_type": "code",
        "id": "mN7w-CodGemp",
        "outputId": "1c6dbbe9-ceef-4356-8fee-355daf861d2f",
        "colab": {
          "base_uri": "https://localhost:8080/",
          "height": 225
        }
      },
      "source": [
        "label_counts = unique_test_or3['bin_cred_label'].value_counts()\n",
        "print(label_counts.describe())\n",
        "top_labels = label_counts.nlargest(5)\n",
        "top_labels_list = top_labels.index.tolist()\n",
        "print(top_labels)"
      ],
      "execution_count": 58,
      "outputs": [
        {
          "output_type": "stream",
          "text": [
            "count     2.000000\n",
            "mean     43.500000\n",
            "std      12.020815\n",
            "min      35.000000\n",
            "25%      39.250000\n",
            "50%      43.500000\n",
            "75%      47.750000\n",
            "max      52.000000\n",
            "Name: bin_cred_label, dtype: float64\n",
            "1    52\n",
            "0    35\n",
            "Name: bin_cred_label, dtype: int64\n"
          ],
          "name": "stdout"
        }
      ]
    },
    {
      "cell_type": "code",
      "metadata": {
        "colab_type": "code",
        "id": "b8AXM-laGemy",
        "outputId": "f00cc41c-f67d-45bf-b8a6-90996226e0ab",
        "colab": {
          "base_uri": "https://localhost:8080/",
          "height": 1000
        }
      },
      "source": [
        "incorrect3 = unique_test_or2[unique_test_or3['bin_cred_label']!=unique_test_or3['pred_label2'].astype(int)]\n",
        "incorrect3"
      ],
      "execution_count": 59,
      "outputs": [
        {
          "output_type": "execute_result",
          "data": {
            "text/html": [
              "<div>\n",
              "<style scoped>\n",
              "    .dataframe tbody tr th:only-of-type {\n",
              "        vertical-align: middle;\n",
              "    }\n",
              "\n",
              "    .dataframe tbody tr th {\n",
              "        vertical-align: top;\n",
              "    }\n",
              "\n",
              "    .dataframe thead th {\n",
              "        text-align: right;\n",
              "    }\n",
              "</style>\n",
              "<table border=\"1\" class=\"dataframe\">\n",
              "  <thead>\n",
              "    <tr style=\"text-align: right;\">\n",
              "      <th></th>\n",
              "      <th>cred_label</th>\n",
              "      <th>claim_id</th>\n",
              "      <th>claim_text</th>\n",
              "      <th>article</th>\n",
              "      <th>article_source</th>\n",
              "      <th>bin_cred_label</th>\n",
              "      <th>pred_label_full</th>\n",
              "    </tr>\n",
              "  </thead>\n",
              "  <tbody>\n",
              "    <tr>\n",
              "      <th>23491</th>\n",
              "      <td>mostly true</td>\n",
              "      <td>trayvon-martin-space-camp</td>\n",
              "      <td>photograph shows shooting victim trayvon marti...</td>\n",
              "      <td>read more false george zimmerman found dead fo...</td>\n",
              "      <td>hoax.trendolizer.com</td>\n",
              "      <td>1</td>\n",
              "      <td>0.0</td>\n",
              "    </tr>\n",
              "    <tr>\n",
              "      <th>11225</th>\n",
              "      <td>true</td>\n",
              "      <td>politics_war_magazine</td>\n",
              "      <td>saddam hussein owned part number popular magaz...</td>\n",
              "      <td>i would not necessarily count on it the future...</td>\n",
              "      <td>www.cnn.com</td>\n",
              "      <td>1</td>\n",
              "      <td>1.0</td>\n",
              "    </tr>\n",
              "    <tr>\n",
              "      <th>7870</th>\n",
              "      <td>false</td>\n",
              "      <td>glurge_police</td>\n",
              "      <td>virginia state trooper expresses frustration p...</td>\n",
              "      <td>which is a lincoln quote i never had a policy ...</td>\n",
              "      <td>www.bayarearidersforum.com</td>\n",
              "      <td>0</td>\n",
              "      <td>0.0</td>\n",
              "    </tr>\n",
              "    <tr>\n",
              "      <th>8932</th>\n",
              "      <td>false</td>\n",
              "      <td>media_notnews_piranha</td>\n",
              "      <td>six college students arrested released piranha...</td>\n",
              "      <td>after teenager ejaculates in pool transgender ...</td>\n",
              "      <td>worldnewsdailyreport.com</td>\n",
              "      <td>0</td>\n",
              "      <td>0.0</td>\n",
              "    </tr>\n",
              "    <tr>\n",
              "      <th>7714</th>\n",
              "      <td>false</td>\n",
              "      <td>holidays_flagday_burnflag</td>\n",
              "      <td>flag protocol specifies us flag burned allowed...</td>\n",
              "      <td>so little compared to conventional treatment t...</td>\n",
              "      <td>la-compagnie-noire.com</td>\n",
              "      <td>0</td>\n",
              "      <td>1.0</td>\n",
              "    </tr>\n",
              "    <tr>\n",
              "      <th>19336</th>\n",
              "      <td>true</td>\n",
              "      <td>critters_gnus_jumboluv</td>\n",
              "      <td>village india learned hard way not interfere c...</td>\n",
              "      <td>is the breakup month for couples the visual ap...</td>\n",
              "      <td>matthewenglish1.blogspot.com</td>\n",
              "      <td>1</td>\n",
              "      <td>0.0</td>\n",
              "    </tr>\n",
              "    <tr>\n",
              "      <th>15823</th>\n",
              "      <td>true</td>\n",
              "      <td>politics_soapbox_wakeup</td>\n",
              "      <td>naval captains speech urges americans wake act...</td>\n",
              "      <td>headlines about world 16 dan ouimette essay na...</td>\n",
              "      <td>www.briefguru.com</td>\n",
              "      <td>1</td>\n",
              "      <td>0.0</td>\n",
              "    </tr>\n",
              "    <tr>\n",
              "      <th>7247</th>\n",
              "      <td>false</td>\n",
              "      <td>politics_guns_baseballbats</td>\n",
              "      <td>homicides us committed baseball bats firearms</td>\n",
              "      <td>edit administration rescue by tags common sens...</td>\n",
              "      <td>www.dailykos.com</td>\n",
              "      <td>0</td>\n",
              "      <td>0.0</td>\n",
              "    </tr>\n",
              "    <tr>\n",
              "      <th>4135</th>\n",
              "      <td>false</td>\n",
              "      <td>critters_crusader_greyhounds</td>\n",
              "      <td>dogs not adopted closure dairyland greyhound p...</td>\n",
              "      <td>paste this link tag into your web page or blog...</td>\n",
              "      <td>www.highbeam.com</td>\n",
              "      <td>0</td>\n",
              "      <td>0.0</td>\n",
              "    </tr>\n",
              "    <tr>\n",
              "      <th>11224</th>\n",
              "      <td>true</td>\n",
              "      <td>politics_war_magazine</td>\n",
              "      <td>saddam hussein owned part number popular magaz...</td>\n",
              "      <td>beating this thing pm 8 registered user join d...</td>\n",
              "      <td>www.camaroz28.com</td>\n",
              "      <td>1</td>\n",
              "      <td>1.0</td>\n",
              "    </tr>\n",
              "    <tr>\n",
              "      <th>911</th>\n",
              "      <td>false</td>\n",
              "      <td>rumors_burqacell</td>\n",
              "      <td>antiterrorism presentation describes suspiciou...</td>\n",
              "      <td>area multiple listing service reo real estate ...</td>\n",
              "      <td>ndfhgss4.awardspace.biz</td>\n",
              "      <td>0</td>\n",
              "      <td>1.0</td>\n",
              "    </tr>\n",
              "    <tr>\n",
              "      <th>5465</th>\n",
              "      <td>false</td>\n",
              "      <td>photos_architecture_belairmansion</td>\n",
              "      <td>photographs show mansion belonging filipino se...</td>\n",
              "      <td>mugabe go log in create a blog help conditions...</td>\n",
              "      <td>lengthphotos.indexbuzz.net</td>\n",
              "      <td>0</td>\n",
              "      <td>1.0</td>\n",
              "    </tr>\n",
              "    <tr>\n",
              "      <th>4495</th>\n",
              "      <td>false</td>\n",
              "      <td>horrors_robbery_purse</td>\n",
              "      <td>women wear purses strapped across bodies runni...</td>\n",
              "      <td>tale is to serve to keep kids safe without the...</td>\n",
              "      <td>www.ruthenia.ru</td>\n",
              "      <td>0</td>\n",
              "      <td>1.0</td>\n",
              "    </tr>\n",
              "    <tr>\n",
              "      <th>1770</th>\n",
              "      <td>true</td>\n",
              "      <td>politics_quotes_trumangop</td>\n",
              "      <td>text reproduces statement president harry trum...</td>\n",
              "      <td>i discovered the remarks attributed to preside...</td>\n",
              "      <td>rolandhansencommentary.blogspot.com</td>\n",
              "      <td>1</td>\n",
              "      <td>1.0</td>\n",
              "    </tr>\n",
              "    <tr>\n",
              "      <th>7941</th>\n",
              "      <td>true</td>\n",
              "      <td>crime_prevent_caralarm</td>\n",
              "      <td>think house burglarized use car alarm summon help</td>\n",
              "      <td>the first place and use the duplicate keys to ...</td>\n",
              "      <td>www.motorists.org</td>\n",
              "      <td>1</td>\n",
              "      <td>0.0</td>\n",
              "    </tr>\n",
              "    <tr>\n",
              "      <th>7169</th>\n",
              "      <td>false</td>\n",
              "      <td>politics_taxes_irsmove</td>\n",
              "      <td>irs moved offices washington dc costa rica</td>\n",
              "      <td>the irs they will never tax you again nice way...</td>\n",
              "      <td>www.naepc.org</td>\n",
              "      <td>0</td>\n",
              "      <td>1.0</td>\n",
              "    </tr>\n",
              "    <tr>\n",
              "      <th>10162</th>\n",
              "      <td>false</td>\n",
              "      <td>ted-cruz-netflix-and-chill-contest</td>\n",
              "      <td>gop presidential candidate ted cruz ran netfli...</td>\n",
              "      <td>ted cruz doesnt want to netflix and chill with...</td>\n",
              "      <td>nuzzel.com</td>\n",
              "      <td>0</td>\n",
              "      <td>1.0</td>\n",
              "    </tr>\n",
              "    <tr>\n",
              "      <th>27296</th>\n",
              "      <td>true</td>\n",
              "      <td>politics_traffic_florida</td>\n",
              "      <td>florida motorists block dmv disclosing motor v...</td>\n",
              "      <td>florida driver license or vehicle registration...</td>\n",
              "      <td>www.michaelplatz.de</td>\n",
              "      <td>1</td>\n",
              "      <td>1.0</td>\n",
              "    </tr>\n",
              "    <tr>\n",
              "      <th>4134</th>\n",
              "      <td>false</td>\n",
              "      <td>critters_crusader_greyhounds</td>\n",
              "      <td>dogs not adopted closure dairyland greyhound p...</td>\n",
              "      <td>done contact joanne kehoe operations director ...</td>\n",
              "      <td>maplewood.worldwebs.com</td>\n",
              "      <td>0</td>\n",
              "      <td>0.0</td>\n",
              "    </tr>\n",
              "    <tr>\n",
              "      <th>15014</th>\n",
              "      <td>true</td>\n",
              "      <td>subtropolis</td>\n",
              "      <td>kansas city missouri home unusual subterranean...</td>\n",
              "      <td>via 25 hottest urban legends a list of the 25 ...</td>\n",
              "      <td>hoax.trendolizer.com</td>\n",
              "      <td>1</td>\n",
              "      <td>0.0</td>\n",
              "    </tr>\n",
              "    <tr>\n",
              "      <th>21163</th>\n",
              "      <td>true</td>\n",
              "      <td>rumors_dec11</td>\n",
              "      <td>president united states america asked nations ...</td>\n",
              "      <td>a bachelor party stripper is revealed by his f...</td>\n",
              "      <td>groups.yahoo.com</td>\n",
              "      <td>1</td>\n",
              "      <td>1.0</td>\n",
              "    </tr>\n",
              "    <tr>\n",
              "      <th>15041</th>\n",
              "      <td>mostly true</td>\n",
              "      <td>sports_hockey_blackhawks</td>\n",
              "      <td>members chicago blackhawks attended wake fathe...</td>\n",
              "      <td>and most of all hockey fans and hockey parents...</td>\n",
              "      <td>m.thebreakaway.net</td>\n",
              "      <td>1</td>\n",
              "      <td>0.0</td>\n",
              "    </tr>\n",
              "    <tr>\n",
              "      <th>7940</th>\n",
              "      <td>false</td>\n",
              "      <td>glurge_reggie</td>\n",
              "      <td>adopted dogs former owner turns soldier killed...</td>\n",
              "      <td>dog reflections dog beds paw digs raise a gree...</td>\n",
              "      <td>thestarryeye.typepad.com</td>\n",
              "      <td>0</td>\n",
              "      <td>1.0</td>\n",
              "    </tr>\n",
              "    <tr>\n",
              "      <th>10241</th>\n",
              "      <td>true</td>\n",
              "      <td>rumors_sympathy</td>\n",
              "      <td>false reports loved ones lost attack world tra...</td>\n",
              "      <td>this awkward flaw in her story was discovered ...</td>\n",
              "      <td>aa-1177.blogspot.com</td>\n",
              "      <td>1</td>\n",
              "      <td>0.0</td>\n",
              "    </tr>\n",
              "    <tr>\n",
              "      <th>15013</th>\n",
              "      <td>true</td>\n",
              "      <td>subtropolis</td>\n",
              "      <td>kansas city missouri home unusual subterranean...</td>\n",
              "      <td>times trending drug news pro uk ukip united na...</td>\n",
              "      <td>hoax.trendolizer.com</td>\n",
              "      <td>1</td>\n",
              "      <td>0.0</td>\n",
              "    </tr>\n",
              "    <tr>\n",
              "      <th>1967</th>\n",
              "      <td>false</td>\n",
              "      <td>Politics_satire_scanner</td>\n",
              "      <td>tsa screener denver caught masturbating images...</td>\n",
              "      <td>familiar with the iphone lite 6 11 2013 374 bo...</td>\n",
              "      <td>appsearch.cool3c.com</td>\n",
              "      <td>0</td>\n",
              "      <td>1.0</td>\n",
              "    </tr>\n",
              "    <tr>\n",
              "      <th>21565</th>\n",
              "      <td>true</td>\n",
              "      <td>religion_666bill</td>\n",
              "      <td>persons attempt avoid financial transactions t...</td>\n",
              "      <td>did psychologist bf skinner raise his daughter...</td>\n",
              "      <td>www.sjpba.net</td>\n",
              "      <td>1</td>\n",
              "      <td>0.0</td>\n",
              "    </tr>\n",
              "    <tr>\n",
              "      <th>9228</th>\n",
              "      <td>true</td>\n",
              "      <td>politics_medical_hobbylobby</td>\n",
              "      <td>hobby lobby filed lawsuit federal mandate requ...</td>\n",
              "      <td>cover contraception by feminist newswire on no...</td>\n",
              "      <td>feminist.org</td>\n",
              "      <td>1</td>\n",
              "      <td>0.0</td>\n",
              "    </tr>\n",
              "    <tr>\n",
              "      <th>5179</th>\n",
              "      <td>false</td>\n",
              "      <td>quotes_yogiberra</td>\n",
              "      <td>transcript reproduces 2007 commencement addres...</td>\n",
              "      <td>team manager yet yogi will also go down in his...</td>\n",
              "      <td>www.xpx.ca</td>\n",
              "      <td>0</td>\n",
              "      <td>1.0</td>\n",
              "    </tr>\n",
              "    <tr>\n",
              "      <th>5178</th>\n",
              "      <td>false</td>\n",
              "      <td>quotes_yogiberra</td>\n",
              "      <td>transcript reproduces 2007 commencement addres...</td>\n",
              "      <td>for a man one giant leap for mankind announcem...</td>\n",
              "      <td>unblockproxybg.com</td>\n",
              "      <td>0</td>\n",
              "      <td>1.0</td>\n",
              "    </tr>\n",
              "    <tr>\n",
              "      <th>9764</th>\n",
              "      <td>false</td>\n",
              "      <td>cruz-beyonce-deport-tweet</td>\n",
              "      <td>ted cruz threatened twitter deport beyonc due ...</td>\n",
              "      <td>song formation the singer became beyonc will s...</td>\n",
              "      <td>fmnews-cj.blogspot.com</td>\n",
              "      <td>0</td>\n",
              "      <td>1.0</td>\n",
              "    </tr>\n",
              "  </tbody>\n",
              "</table>\n",
              "</div>"
            ],
            "text/plain": [
              "        cred_label  ... pred_label_full\n",
              "23491  mostly true  ...             0.0\n",
              "11225         true  ...             1.0\n",
              "7870         false  ...             0.0\n",
              "8932         false  ...             0.0\n",
              "7714         false  ...             1.0\n",
              "19336         true  ...             0.0\n",
              "15823         true  ...             0.0\n",
              "7247         false  ...             0.0\n",
              "4135         false  ...             0.0\n",
              "11224         true  ...             1.0\n",
              "911          false  ...             1.0\n",
              "5465         false  ...             1.0\n",
              "4495         false  ...             1.0\n",
              "1770          true  ...             1.0\n",
              "7941          true  ...             0.0\n",
              "7169         false  ...             1.0\n",
              "10162        false  ...             1.0\n",
              "27296         true  ...             1.0\n",
              "4134         false  ...             0.0\n",
              "15014         true  ...             0.0\n",
              "21163         true  ...             1.0\n",
              "15041  mostly true  ...             0.0\n",
              "7940         false  ...             1.0\n",
              "10241         true  ...             0.0\n",
              "15013         true  ...             0.0\n",
              "1967         false  ...             1.0\n",
              "21565         true  ...             0.0\n",
              "9228          true  ...             0.0\n",
              "5179         false  ...             1.0\n",
              "5178         false  ...             1.0\n",
              "9764         false  ...             1.0\n",
              "\n",
              "[31 rows x 7 columns]"
            ]
          },
          "metadata": {
            "tags": []
          },
          "execution_count": 59
        }
      ]
    },
    {
      "cell_type": "code",
      "metadata": {
        "colab_type": "code",
        "id": "HKZlbP-RGem8",
        "colab": {}
      },
      "source": [
        "# Write to csv\n",
        "unique_test_or3.to_csv('op_attn_snope_artcl.csv', sep='\\t')"
      ],
      "execution_count": 0,
      "outputs": []
    },
    {
      "cell_type": "markdown",
      "metadata": {
        "id": "LUnTYvFvreTo",
        "colab_type": "text"
      },
      "source": [
        "## Bibliography\n",
        "Kashyap Popat, Subhabrata Mukherjee, Andrew Yates and Gerhard Weikum, <i>DeClarE: Debunking Fake News and False Claims using Evidence-Aware Deep Learning</i>, Proceedings of the 2018 Conference on Empirical Methods in Natural Language Processing, Pages 22-32, 2018.\n",
        "\n",
        "Zhouhan Lin,  Minwei Feng, Cicero Nogueira dos Santos, Mo Yu, Bing Xiang, Bowen Zhou and Yoshua Bengio,<i> A Structured Self-attentive Sentence Embedding</i>, ICLR, 2017."
      ]
    }
  ]
}